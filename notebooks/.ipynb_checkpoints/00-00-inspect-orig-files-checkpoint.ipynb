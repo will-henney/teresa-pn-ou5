{
 "cells": [
  {
   "cell_type": "markdown",
   "id": "825544d0-57b3-416b-908c-cb133f7e10bc",
   "metadata": {},
   "source": [
    "# PN Ou 5: Inspect original files"
   ]
  },
  {
   "cell_type": "code",
   "execution_count": 4,
   "id": "81430de1-6a81-412f-b378-4756bc7682c4",
   "metadata": {},
   "outputs": [],
   "source": [
    "from pathlib import Path\n",
    "from astropy.io import fits\n",
    "from astropy.table import Table"
   ]
  },
  {
   "cell_type": "code",
   "execution_count": 2,
   "id": "57799b74-649d-43c0-8c9a-09b8e6c2a37c",
   "metadata": {},
   "outputs": [],
   "source": [
    "dpath = Path(\"../data/originals/\")"
   ]
  },
  {
   "cell_type": "markdown",
   "id": "40430f90-6dde-4e7a-a9ef-2bc5204ddfbf",
   "metadata": {},
   "source": [
    "Look and see what sort of files we have:"
   ]
  },
  {
   "cell_type": "code",
   "execution_count": 14,
   "id": "60dce129-0e6b-447f-a69f-c53d7b4f3f15",
   "metadata": {},
   "outputs": [
    {
     "data": {
      "text/html": [
       "<i>Table length=39</i>\n",
       "<table id=\"table140391348191296-813567\" class=\"table-striped table-bordered table-condensed\">\n",
       "<thead><tr><th>idx</th><th>File</th><th>MEZMODE</th><th>DATE-OBS</th><th>FILTER</th><th>RA</th><th>DEC</th><th>PA</th><th>CCDTYPE</th><th>CCDSUM</th></tr></thead>\n",
       "<tr><td>0</td><td>crN10035_b</td><td>image_slit_70</td><td>2017-08-29</td><td>Ha 90A</td><td>21:15:04.4</td><td>43:46:39.0</td><td>8.63 , -351.37</td><td>E2V-4240</td><td>2 2</td></tr>\n",
       "<tr><td>1</td><td>crN10036_bx</td><td>Image</td><td>2017-08-29</td><td>Ha 90A</td><td>21:15:04.3</td><td>43:46:40.0</td><td>8.63 , -351.37</td><td>E2V-4240</td><td>2 2</td></tr>\n",
       "<tr><td>2</td><td>crN10039_bx-oiii</td><td>Image</td><td>2017-08-29</td><td>OIII 60A</td><td>21:15:02.8</td><td>43:46:48.0</td><td>8.63 , -351.37</td><td>E2V-4240</td><td>2 2</td></tr>\n",
       "<tr><td>3</td><td>crN10042_b</td><td>image_slit_70</td><td>2017-08-29</td><td>Ha 90A</td><td>21:15:02.2</td><td>43:46:58.0</td><td>8.63 , -351.37</td><td>E2V-4240</td><td>2 2</td></tr>\n",
       "<tr><td>4</td><td>crN10043_bx</td><td>Image</td><td>2017-08-29</td><td>Ha 90A</td><td>21:15:02.3</td><td>43:46:58.0</td><td>8.63 , -351.37</td><td>E2V-4240</td><td>2 2</td></tr>\n",
       "<tr><td>5</td><td>crN10045_bx-oiii</td><td>Image</td><td>2017-08-29</td><td>OIII 60A</td><td>21:15:02.3</td><td>43:47:7.0</td><td>8.63 , -351.37</td><td>E2V-4240</td><td>2 2</td></tr>\n",
       "<tr><td>6</td><td>crN10047o</td><td>image_slit_70</td><td>2017-08-29</td><td>OIII 60A</td><td>21:15:02.5</td><td>43:47:23.0</td><td>8.63 , -351.37</td><td>E2V-4240</td><td>2 2</td></tr>\n",
       "<tr><td>7</td><td>crN20001_b</td><td>slit_image_70</td><td>2017-08-30</td><td>NII</td><td>21:15:02.6</td><td>43:45:32.0</td><td>360.00 , -0.00</td><td>E2V-4240</td><td>2 2</td></tr>\n",
       "<tr><td>8</td><td>crN20004_bx</td><td>Image</td><td>2017-08-30</td><td>Ha 90A</td><td>21:15:03.8</td><td>43:45:27.0</td><td>360.00 , -0.00</td><td>E2V-4240</td><td>2 2</td></tr>\n",
       "<tr><td>9</td><td>crN20006_bx-oiii</td><td>Image</td><td>2017-08-30</td><td>OIII 60A</td><td>21:15:03.9</td><td>43:45:26.0</td><td>360.00 , -0.00</td><td>E2V-4240</td><td>2 2</td></tr>\n",
       "<tr><td>10</td><td>crN20008_b</td><td>slit_image_70</td><td>2017-08-30</td><td>OIII 60A</td><td>21:15:04.1</td><td>43:45:25.0</td><td>360.00 , -0.00</td><td>E2V-4240</td><td>2 2</td></tr>\n",
       "<tr><td>11</td><td>crN20011_b</td><td>slit_image_70</td><td>2017-08-30</td><td>Ha 90A</td><td>21:15:03.3</td><td>43:45:22.0</td><td>360.00 , -0.00</td><td>E2V-4240</td><td>2 2</td></tr>\n",
       "<tr><td>12</td><td>crN20012_bx</td><td>Image</td><td>2017-08-30</td><td>Ha 90A</td><td>21:15:03.3</td><td>43:45:22.0</td><td>360.00 , -0.00</td><td>E2V-4240</td><td>2 2</td></tr>\n",
       "<tr><td>13</td><td>crspm0020o_b</td><td>image_slit_150</td><td>2018-05-02</td><td>Ha 90A</td><td>21:15:03.9</td><td>43:49:3.0</td><td>359.90 , -0.10</td><td>E2V-4240</td><td>3 3</td></tr>\n",
       "<tr><td>14</td><td>crspm0021o_bx</td><td>Image</td><td>2018-05-02</td><td>Ha 90A</td><td>21:15:04.0</td><td>43:49:3.0</td><td>359.90 , -0.10</td><td>E2V-4240</td><td>3 3</td></tr>\n",
       "<tr><td>15</td><td>crspm0023o_bx-oiii</td><td>Image</td><td>2018-05-02</td><td>OIII 60A</td><td>21:15:05.1</td><td>43:48:57.0</td><td>359.90 , -0.10</td><td>E2V-4240</td><td>3 3</td></tr>\n",
       "<tr><td>16</td><td>crspm0025o_b</td><td>slit_image_150</td><td>2018-05-02</td><td>OIII 60A</td><td>21:15:06.5</td><td>43:48:53.0</td><td>359.90 , -0.10</td><td>E2V-4240</td><td>3 3</td></tr>\n",
       "<tr><td>17</td><td>crspm0047o_b</td><td>image_slit_150</td><td>2018-05-03</td><td>Ha 90A</td><td>21:15:04.8</td><td>43:49:47.0</td><td>359.98 , -0.02</td><td>E2V-4240</td><td>3 3</td></tr>\n",
       "<tr><td>18</td><td>crspm0048o_bx</td><td>Image</td><td>2018-05-03</td><td>Ha 90A</td><td>21:15:04.9</td><td>43:49:46.0</td><td>359.98 , -0.02</td><td>E2V-4240</td><td>3 3</td></tr>\n",
       "<tr><td>19</td><td>crspm0050o_bx</td><td>Image</td><td>2018-05-03</td><td>OIII 60A</td><td>21:15:06.1</td><td>43:49:40.0</td><td>359.98 , -0.02</td><td>E2V-4240</td><td>3 3</td></tr>\n",
       "<tr><td>20</td><td>crspm0052o_b</td><td>slit_image_150</td><td>2018-05-03</td><td>OIII 60A</td><td>21:15:07.4</td><td>43:49:32.0</td><td>359.98 , -0.02</td><td>E2V-4240</td><td>3 3</td></tr>\n",
       "<tr><td>21</td><td>crspm0053o_b</td><td>image_slit_150</td><td>2018-05-03</td><td>Ha 90A</td><td>21:15:07.6</td><td>43:49:29.0</td><td>359.98 , -0.02</td><td>E2V-4240</td><td>3 3</td></tr>\n",
       "<tr><td>22</td><td>crspm0054o_bx</td><td>Image</td><td>2018-05-03</td><td>Ha 90A</td><td>21:15:07.6</td><td>43:49:29.0</td><td>359.98 , -0.02</td><td>E2V-4240</td><td>3 3</td></tr>\n",
       "<tr><td>23</td><td>crspm0056o_bx</td><td>Image</td><td>2018-05-03</td><td>OIII 60A</td><td>21:15:08.6</td><td>43:49:25.0</td><td>359.98 , -0.02</td><td>E2V-4240</td><td>3 3</td></tr>\n",
       "<tr><td>24</td><td>crspm0058o_b</td><td>slit_image_150</td><td>2018-05-03</td><td>OIII 60A</td><td>21:15:09.4</td><td>43:49:22.0</td><td>359.98 , -0.02</td><td>E2V-4240</td><td>3 3</td></tr>\n",
       "<tr><td>25</td><td>crspm0104o_b</td><td>Image</td><td>2018-05-04</td><td>Ha 90A</td><td>21:14:55.2</td><td>43:47:28.0</td><td>359.98 , -0.02</td><td>E2V-4240</td><td>3 3</td></tr>\n",
       "<tr><td>26</td><td>crspm0105o_bx</td><td>Image</td><td>2018-05-04</td><td>Ha 90A</td><td>21:14:55.4</td><td>43:47:27.0</td><td>359.98 , -0.02</td><td>E2V-4240</td><td>3 3</td></tr>\n",
       "<tr><td>27</td><td>crspm0107o_bx</td><td>Image</td><td>2018-05-04</td><td>OIII 60A</td><td>21:14:56.6</td><td>43:47:22.0</td><td>359.98 , -0.02</td><td>E2V-4240</td><td>3 3</td></tr>\n",
       "<tr><td>28</td><td>crspm0109o_b</td><td>slit_image_150</td><td>2018-05-04</td><td>OIII 60A</td><td>21:14:57.5</td><td>43:47:18.0</td><td>359.98 , -0.02</td><td>E2V-4240</td><td>3 3</td></tr>\n",
       "<tr><td>29</td><td>crspm0210o_b</td><td>image_slit_150</td><td>2019-09-15</td><td>Ha 90A</td><td>21:14:55.62</td><td>+43:47:22.81</td><td>0.30 , -359.70</td><td>E2V-4240</td><td>3 3</td></tr>\n",
       "<tr><td>30</td><td>crspm0211o_b1t</td><td>Image</td><td>2019-09-15</td><td>Ha 90A</td><td>21:14:55.47</td><td>+43:47:23.41</td><td>0.30 , -359.70</td><td>E2V-4240</td><td>3 3</td></tr>\n",
       "<tr><td>31</td><td>crspm0214o_b</td><td>image_slit_150</td><td>2019-09-15</td><td>Ha 90A</td><td>21:14:54.90</td><td>+43:47:33.01</td><td>0.30 , -359.70</td><td>E2V-4240</td><td>3 3</td></tr>\n",
       "<tr><td>32</td><td>crspm0215o_b1t</td><td>Image</td><td>2019-09-15</td><td>Ha 90A</td><td>21:14:55.00</td><td>+43:47:34.36</td><td>0.30 , -359.70</td><td>E2V-4240</td><td>3 3</td></tr>\n",
       "<tr><td>33</td><td>crspm0431o_b</td><td>image_slit_150</td><td>2019-09-17</td><td>Ha 90A</td><td>21:14:58.47</td><td>+43:46:46.81</td><td>0.26 , -359.74</td><td>E2V-4240</td><td>3 3</td></tr>\n",
       "<tr><td>34</td><td>crspm0432o_b1t</td><td>Image</td><td>2019-09-17</td><td>Ha 90A</td><td>21:14:57.42</td><td>+43:46:46.66</td><td>0.26 , -359.74</td><td>E2V-4240</td><td>3 3</td></tr>\n",
       "<tr><td>35</td><td>crspm0439o_b</td><td>image_slit_150</td><td>2019-09-17</td><td>Ha 90A</td><td>21:14:57.63</td><td>+43:46:30.31</td><td>84.35 , -275.65</td><td>E2V-4240</td><td>3 3</td></tr>\n",
       "<tr><td>36</td><td>crspm0440o_b1t</td><td>Image</td><td>2019-09-17</td><td>Ha 90A</td><td>21:14:57.50</td><td>+43:46:30.76</td><td>84.35 , -275.65</td><td>E2V-4240</td><td>3 3</td></tr>\n",
       "<tr><td>37</td><td>crspm0600o_b</td><td>image_slit_150</td><td>2019-09-18</td><td>Ha 90A</td><td>21:15:03.54</td><td>+43:46:41.72</td><td>0.26 , -359.74</td><td>E2V-4240</td><td>3 3</td></tr>\n",
       "<tr><td>38</td><td>crspm0601o_b1t</td><td>Image</td><td>2019-09-18</td><td>Ha 90A</td><td>21:15:03.60</td><td>+43:46:43.22</td><td>0.26 , -359.74</td><td>E2V-4240</td><td>3 3</td></tr>\n",
       "</table><style>table.dataTable {clear: both; width: auto !important; margin: 0 !important;}\n",
       ".dataTables_info, .dataTables_length, .dataTables_filter, .dataTables_paginate{\n",
       "display: inline-block; margin-right: 1em; }\n",
       ".paginate_button { margin-right: 5px; }\n",
       "</style>\n",
       "<script>\n",
       "\n",
       "var astropy_sort_num = function(a, b) {\n",
       "    var a_num = parseFloat(a);\n",
       "    var b_num = parseFloat(b);\n",
       "\n",
       "    if (isNaN(a_num) && isNaN(b_num))\n",
       "        return ((a < b) ? -1 : ((a > b) ? 1 : 0));\n",
       "    else if (!isNaN(a_num) && !isNaN(b_num))\n",
       "        return ((a_num < b_num) ? -1 : ((a_num > b_num) ? 1 : 0));\n",
       "    else\n",
       "        return isNaN(a_num) ? -1 : 1;\n",
       "}\n",
       "\n",
       "require.config({paths: {\n",
       "    datatables: 'https://cdn.datatables.net/1.10.12/js/jquery.dataTables.min'\n",
       "}});\n",
       "require([\"datatables\"], function(){\n",
       "    console.log(\"$('#table140391348191296-813567').dataTable()\");\n",
       "    \n",
       "jQuery.extend( jQuery.fn.dataTableExt.oSort, {\n",
       "    \"optionalnum-asc\": astropy_sort_num,\n",
       "    \"optionalnum-desc\": function (a,b) { return -astropy_sort_num(a, b); }\n",
       "});\n",
       "\n",
       "    $('#table140391348191296-813567').dataTable({\n",
       "        order: [],\n",
       "        pageLength: 50,\n",
       "        lengthMenu: [[10, 25, 50, 100, 500, 1000, -1], [10, 25, 50, 100, 500, 1000, 'All']],\n",
       "        pagingType: \"full_numbers\",\n",
       "        columnDefs: [{targets: [0], type: \"optionalnum\"}]\n",
       "    });\n",
       "});\n",
       "</script>\n"
      ],
      "text/plain": [
       "<IPython.core.display.HTML object>"
      ]
     },
     "execution_count": 14,
     "metadata": {},
     "output_type": "execute_result"
    }
   ],
   "source": [
    "data = []\n",
    "kwds = [\"MEZMODE\", \"DATE-OBS\", \"FILTER\", \"RA\", \"DEC\", \"PA\", \"CCDTYPE\", \"CCDSUM\"]\n",
    "for _file in sorted(dpath.glob(\"*.fits\")):\n",
    "    hdu = fits.open(_file)[0]\n",
    "    thisdata = {\"File\": _file.stem}\n",
    "    for k in kwds:\n",
    "        thisdata[k] = hdu.header.get(k)\n",
    "    data.append(thisdata)\n",
    "tab = Table(rows=data)\n",
    "tab.show_in_notebook()"
   ]
  },
  {
   "cell_type": "markdown",
   "id": "1842709c-7343-43c6-bb4e-69e2f1131fcc",
   "metadata": {},
   "source": [
    "So we have 2017 data with 70 micron slit and 2x2 binning, and then 2018, 2019 data with 150 micron slit and 3x3 binning."
   ]
  },
  {
   "cell_type": "markdown",
   "id": "488282ec-aa1e-4126-92ec-99a74949340c",
   "metadata": {},
   "source": [
    "Select the image+slit or slit+image files that we will need to do astrometry of"
   ]
  },
  {
   "cell_type": "code",
   "execution_count": 19,
   "id": "226e20bd-1f7d-44c7-9f17-0ba86ab14c96",
   "metadata": {},
   "outputs": [
    {
     "data": {
      "text/html": [
       "<div><i>Table length=18</i>\n",
       "<table id=\"table140391120956672\" class=\"table-striped table-bordered table-condensed\">\n",
       "<thead><tr><th>File</th><th>MEZMODE</th><th>DATE-OBS</th><th>FILTER</th><th>RA</th><th>DEC</th><th>PA</th><th>CCDTYPE</th><th>CCDSUM</th></tr></thead>\n",
       "<thead><tr><th>str18</th><th>str14</th><th>str10</th><th>str8</th><th>str11</th><th>str12</th><th>str15</th><th>str8</th><th>str3</th></tr></thead>\n",
       "<tr><td>crN10035_b</td><td>image_slit_70</td><td>2017-08-29</td><td>Ha 90A</td><td>21:15:04.4</td><td>43:46:39.0</td><td>8.63 , -351.37</td><td>E2V-4240</td><td>2 2</td></tr>\n",
       "<tr><td>crN10042_b</td><td>image_slit_70</td><td>2017-08-29</td><td>Ha 90A</td><td>21:15:02.2</td><td>43:46:58.0</td><td>8.63 , -351.37</td><td>E2V-4240</td><td>2 2</td></tr>\n",
       "<tr><td>crN10047o</td><td>image_slit_70</td><td>2017-08-29</td><td>OIII 60A</td><td>21:15:02.5</td><td>43:47:23.0</td><td>8.63 , -351.37</td><td>E2V-4240</td><td>2 2</td></tr>\n",
       "<tr><td>crN20001_b</td><td>slit_image_70</td><td>2017-08-30</td><td>NII</td><td>21:15:02.6</td><td>43:45:32.0</td><td>360.00 , -0.00</td><td>E2V-4240</td><td>2 2</td></tr>\n",
       "<tr><td>crN20008_b</td><td>slit_image_70</td><td>2017-08-30</td><td>OIII 60A</td><td>21:15:04.1</td><td>43:45:25.0</td><td>360.00 , -0.00</td><td>E2V-4240</td><td>2 2</td></tr>\n",
       "<tr><td>crN20011_b</td><td>slit_image_70</td><td>2017-08-30</td><td>Ha 90A</td><td>21:15:03.3</td><td>43:45:22.0</td><td>360.00 , -0.00</td><td>E2V-4240</td><td>2 2</td></tr>\n",
       "<tr><td>crspm0020o_b</td><td>image_slit_150</td><td>2018-05-02</td><td>Ha 90A</td><td>21:15:03.9</td><td>43:49:3.0</td><td>359.90 , -0.10</td><td>E2V-4240</td><td>3 3</td></tr>\n",
       "<tr><td>crspm0025o_b</td><td>slit_image_150</td><td>2018-05-02</td><td>OIII 60A</td><td>21:15:06.5</td><td>43:48:53.0</td><td>359.90 , -0.10</td><td>E2V-4240</td><td>3 3</td></tr>\n",
       "<tr><td>crspm0047o_b</td><td>image_slit_150</td><td>2018-05-03</td><td>Ha 90A</td><td>21:15:04.8</td><td>43:49:47.0</td><td>359.98 , -0.02</td><td>E2V-4240</td><td>3 3</td></tr>\n",
       "<tr><td>crspm0052o_b</td><td>slit_image_150</td><td>2018-05-03</td><td>OIII 60A</td><td>21:15:07.4</td><td>43:49:32.0</td><td>359.98 , -0.02</td><td>E2V-4240</td><td>3 3</td></tr>\n",
       "<tr><td>crspm0053o_b</td><td>image_slit_150</td><td>2018-05-03</td><td>Ha 90A</td><td>21:15:07.6</td><td>43:49:29.0</td><td>359.98 , -0.02</td><td>E2V-4240</td><td>3 3</td></tr>\n",
       "<tr><td>crspm0058o_b</td><td>slit_image_150</td><td>2018-05-03</td><td>OIII 60A</td><td>21:15:09.4</td><td>43:49:22.0</td><td>359.98 , -0.02</td><td>E2V-4240</td><td>3 3</td></tr>\n",
       "<tr><td>crspm0109o_b</td><td>slit_image_150</td><td>2018-05-04</td><td>OIII 60A</td><td>21:14:57.5</td><td>43:47:18.0</td><td>359.98 , -0.02</td><td>E2V-4240</td><td>3 3</td></tr>\n",
       "<tr><td>crspm0210o_b</td><td>image_slit_150</td><td>2019-09-15</td><td>Ha 90A</td><td>21:14:55.62</td><td>+43:47:22.81</td><td>0.30 , -359.70</td><td>E2V-4240</td><td>3 3</td></tr>\n",
       "<tr><td>crspm0214o_b</td><td>image_slit_150</td><td>2019-09-15</td><td>Ha 90A</td><td>21:14:54.90</td><td>+43:47:33.01</td><td>0.30 , -359.70</td><td>E2V-4240</td><td>3 3</td></tr>\n",
       "<tr><td>crspm0431o_b</td><td>image_slit_150</td><td>2019-09-17</td><td>Ha 90A</td><td>21:14:58.47</td><td>+43:46:46.81</td><td>0.26 , -359.74</td><td>E2V-4240</td><td>3 3</td></tr>\n",
       "<tr><td>crspm0439o_b</td><td>image_slit_150</td><td>2019-09-17</td><td>Ha 90A</td><td>21:14:57.63</td><td>+43:46:30.31</td><td>84.35 , -275.65</td><td>E2V-4240</td><td>3 3</td></tr>\n",
       "<tr><td>crspm0600o_b</td><td>image_slit_150</td><td>2019-09-18</td><td>Ha 90A</td><td>21:15:03.54</td><td>+43:46:41.72</td><td>0.26 , -359.74</td><td>E2V-4240</td><td>3 3</td></tr>\n",
       "</table></div>"
      ],
      "text/plain": [
       "<Table length=18>\n",
       "    File        MEZMODE      DATE-OBS   FILTER       RA         DEC             PA       CCDTYPE  CCDSUM\n",
       "   str18         str14        str10      str8      str11       str12          str15        str8    str3 \n",
       "------------ -------------- ---------- -------- ----------- ------------ --------------- -------- ------\n",
       "  crN10035_b  image_slit_70 2017-08-29   Ha 90A  21:15:04.4   43:46:39.0  8.63 , -351.37 E2V-4240    2 2\n",
       "  crN10042_b  image_slit_70 2017-08-29   Ha 90A  21:15:02.2   43:46:58.0  8.63 , -351.37 E2V-4240    2 2\n",
       "   crN10047o  image_slit_70 2017-08-29 OIII 60A  21:15:02.5   43:47:23.0  8.63 , -351.37 E2V-4240    2 2\n",
       "  crN20001_b  slit_image_70 2017-08-30      NII  21:15:02.6   43:45:32.0  360.00 , -0.00 E2V-4240    2 2\n",
       "  crN20008_b  slit_image_70 2017-08-30 OIII 60A  21:15:04.1   43:45:25.0  360.00 , -0.00 E2V-4240    2 2\n",
       "  crN20011_b  slit_image_70 2017-08-30   Ha 90A  21:15:03.3   43:45:22.0  360.00 , -0.00 E2V-4240    2 2\n",
       "crspm0020o_b image_slit_150 2018-05-02   Ha 90A  21:15:03.9    43:49:3.0  359.90 , -0.10 E2V-4240    3 3\n",
       "crspm0025o_b slit_image_150 2018-05-02 OIII 60A  21:15:06.5   43:48:53.0  359.90 , -0.10 E2V-4240    3 3\n",
       "crspm0047o_b image_slit_150 2018-05-03   Ha 90A  21:15:04.8   43:49:47.0  359.98 , -0.02 E2V-4240    3 3\n",
       "crspm0052o_b slit_image_150 2018-05-03 OIII 60A  21:15:07.4   43:49:32.0  359.98 , -0.02 E2V-4240    3 3\n",
       "crspm0053o_b image_slit_150 2018-05-03   Ha 90A  21:15:07.6   43:49:29.0  359.98 , -0.02 E2V-4240    3 3\n",
       "crspm0058o_b slit_image_150 2018-05-03 OIII 60A  21:15:09.4   43:49:22.0  359.98 , -0.02 E2V-4240    3 3\n",
       "crspm0109o_b slit_image_150 2018-05-04 OIII 60A  21:14:57.5   43:47:18.0  359.98 , -0.02 E2V-4240    3 3\n",
       "crspm0210o_b image_slit_150 2019-09-15   Ha 90A 21:14:55.62 +43:47:22.81  0.30 , -359.70 E2V-4240    3 3\n",
       "crspm0214o_b image_slit_150 2019-09-15   Ha 90A 21:14:54.90 +43:47:33.01  0.30 , -359.70 E2V-4240    3 3\n",
       "crspm0431o_b image_slit_150 2019-09-17   Ha 90A 21:14:58.47 +43:46:46.81  0.26 , -359.74 E2V-4240    3 3\n",
       "crspm0439o_b image_slit_150 2019-09-17   Ha 90A 21:14:57.63 +43:46:30.31 84.35 , -275.65 E2V-4240    3 3\n",
       "crspm0600o_b image_slit_150 2019-09-18   Ha 90A 21:15:03.54 +43:46:41.72  0.26 , -359.74 E2V-4240    3 3"
      ]
     },
     "execution_count": 19,
     "metadata": {},
     "output_type": "execute_result"
    }
   ],
   "source": [
    "m = [\"slit\" in _ for _ in tab[\"MEZMODE\"]]\n",
    "tab[m]"
   ]
  },
  {
   "cell_type": "code",
   "execution_count": 21,
   "id": "b64b7a79-1ab3-4aa7-9f2e-cb7fbfffc6b0",
   "metadata": {},
   "outputs": [
    {
     "data": {
      "text/plain": [
       "['crN10035_b',\n",
       " 'crN10042_b',\n",
       " 'crN10047o',\n",
       " 'crN20001_b',\n",
       " 'crN20008_b',\n",
       " 'crN20011_b',\n",
       " 'crspm0020o_b',\n",
       " 'crspm0025o_b',\n",
       " 'crspm0047o_b',\n",
       " 'crspm0052o_b',\n",
       " 'crspm0053o_b',\n",
       " 'crspm0058o_b',\n",
       " 'crspm0109o_b',\n",
       " 'crspm0210o_b',\n",
       " 'crspm0214o_b',\n",
       " 'crspm0431o_b',\n",
       " 'crspm0439o_b',\n",
       " 'crspm0600o_b']"
      ]
     },
     "execution_count": 21,
     "metadata": {},
     "output_type": "execute_result"
    }
   ],
   "source": [
    "list(tab[m][\"File\"])"
   ]
  },
  {
   "cell_type": "markdown",
   "id": "710d32b8-e65e-4f53-b24c-c9e63d80b2f9",
   "metadata": {},
   "source": [
    "## Find the HEALpix coordinates of our source"
   ]
  },
  {
   "cell_type": "code",
   "execution_count": 30,
   "id": "b49c41a7-c4a7-45f1-a78d-d32a58e76a52",
   "metadata": {},
   "outputs": [],
   "source": [
    "from astropy.coordinates import SkyCoord, ICRS\n",
    "import astropy.units as u"
   ]
  },
  {
   "cell_type": "markdown",
   "id": "25174feb-7fd7-4454-84c7-c2ab5a102d5a",
   "metadata": {},
   "source": [
    "All the positions should be about the same, so we just use the first one."
   ]
  },
  {
   "cell_type": "code",
   "execution_count": 31,
   "id": "461ccfca-a0bb-455f-829a-01404c68b86d",
   "metadata": {},
   "outputs": [
    {
     "data": {
      "text/plain": [
       "<SkyCoord (ICRS): (ra, dec) in deg\n",
       "    (318.76833333, 43.7775)>"
      ]
     },
     "execution_count": 31,
     "metadata": {},
     "output_type": "execute_result"
    }
   ],
   "source": [
    "c = SkyCoord(tab[0][\"RA\"], tab[0][\"DEC\"], unit=(u.hourangle, u.deg))\n",
    "c"
   ]
  },
  {
   "cell_type": "code",
   "execution_count": 32,
   "id": "1448805f-c9eb-4c69-a1f7-1387fb6946a6",
   "metadata": {},
   "outputs": [],
   "source": [
    "from astropy_healpix import HEALPix"
   ]
  },
  {
   "cell_type": "markdown",
   "id": "ea9c235d-db1c-4699-b614-d7731392b186",
   "metadata": {},
   "source": [
    "In order to find which data files to download from http://data.astrometry.net/5000/, we need to translate the celestial coordinate to HEALpix index numbers:"
   ]
  },
  {
   "cell_type": "code",
   "execution_count": 37,
   "id": "5c023743-343e-4eed-824a-4d137e95d2a8",
   "metadata": {},
   "outputs": [],
   "source": [
    "hp_2 = HEALPix(nside=2, order=\"nested\", frame=ICRS())\n",
    "hp_1 = HEALPix(nside=1, order=\"nested\", frame=ICRS())"
   ]
  },
  {
   "cell_type": "markdown",
   "id": "7c7eeefe-c464-456c-a583-e6750859e1d7",
   "metadata": {},
   "source": [
    "Levels 0 to 4 use the `nside=2` tiles. "
   ]
  },
  {
   "cell_type": "code",
   "execution_count": 38,
   "id": "aab797d9-3246-4820-bd83-31d25e918ca5",
   "metadata": {},
   "outputs": [
    {
     "data": {
      "text/plain": [
       "array([13])"
      ]
     },
     "execution_count": 38,
     "metadata": {},
     "output_type": "execute_result"
    }
   ],
   "source": [
    "hp_2.cone_search_skycoord(c, radius=5 * u.arcminute)"
   ]
  },
  {
   "cell_type": "markdown",
   "id": "67e32895-1edb-4a6a-b464-d7e1a276096e",
   "metadata": {},
   "source": [
    "So that means `index500[0-4]-13.fits`"
   ]
  },
  {
   "cell_type": "code",
   "execution_count": 39,
   "id": "6427c947-e983-4229-b689-43fa9b3fe41f",
   "metadata": {},
   "outputs": [
    {
     "data": {
      "text/plain": [
       "array([3])"
      ]
     },
     "execution_count": 39,
     "metadata": {},
     "output_type": "execute_result"
    }
   ],
   "source": [
    "hp_1.cone_search_skycoord(c, radius=5 * u.arcminute)"
   ]
  },
  {
   "cell_type": "markdown",
   "id": "b976cb89-d027-4bbc-984b-6c81509b064e",
   "metadata": {},
   "source": [
    "So that means `index500[5-7]-03.fits`"
   ]
  },
  {
   "cell_type": "code",
   "execution_count": null,
   "id": "6386cdc3-c747-4285-9add-d2130a5e2a53",
   "metadata": {},
   "outputs": [],
   "source": []
  }
 ],
 "metadata": {
  "kernelspec": {
   "display_name": "Python 3 (ipykernel)",
   "language": "python",
   "name": "python3"
  },
  "language_info": {
   "codemirror_mode": {
    "name": "ipython",
    "version": 3
   },
   "file_extension": ".py",
   "mimetype": "text/x-python",
   "name": "python",
   "nbconvert_exporter": "python",
   "pygments_lexer": "ipython3",
   "version": "3.9.7"
  }
 },
 "nbformat": 4,
 "nbformat_minor": 5
}
