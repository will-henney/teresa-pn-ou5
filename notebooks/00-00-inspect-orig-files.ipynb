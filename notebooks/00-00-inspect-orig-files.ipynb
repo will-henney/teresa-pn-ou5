{
 "cells": [
  {
   "cell_type": "markdown",
   "id": "825544d0-57b3-416b-908c-cb133f7e10bc",
   "metadata": {},
   "source": [
    "# PN Ou 5: Inspect original files"
   ]
  },
  {
   "cell_type": "code",
   "execution_count": 4,
   "id": "81430de1-6a81-412f-b378-4756bc7682c4",
   "metadata": {},
   "outputs": [],
   "source": [
    "from pathlib import Path\n",
    "from astropy.io import fits\n",
    "from astropy.table import Table"
   ]
  },
  {
   "cell_type": "code",
   "execution_count": 2,
   "id": "57799b74-649d-43c0-8c9a-09b8e6c2a37c",
   "metadata": {},
   "outputs": [],
   "source": [
    "dpath = Path(\"../data/originals/\")"
   ]
  },
  {
   "cell_type": "markdown",
   "id": "40430f90-6dde-4e7a-a9ef-2bc5204ddfbf",
   "metadata": {},
   "source": [
    "Look and see what sort of files we have:"
   ]
  },
  {
   "cell_type": "code",
   "execution_count": 14,
   "id": "60dce129-0e6b-447f-a69f-c53d7b4f3f15",
   "metadata": {},
   "outputs": [
    {
     "data": {
      "text/html": [
       "<i>Table length=39</i>\n",
       "<table id=\"table140391348191296-813567\" class=\"table-striped table-bordered table-condensed\">\n",
       "<thead><tr><th>idx</th><th>File</th><th>MEZMODE</th><th>DATE-OBS</th><th>FILTER</th><th>RA</th><th>DEC</th><th>PA</th><th>CCDTYPE</th><th>CCDSUM</th></tr></thead>\n",
       "<tr><td>0</td><td>crN10035_b</td><td>image_slit_70</td><td>2017-08-29</td><td>Ha 90A</td><td>21:15:04.4</td><td>43:46:39.0</td><td>8.63 , -351.37</td><td>E2V-4240</td><td>2 2</td></tr>\n",
       "<tr><td>1</td><td>crN10036_bx</td><td>Image</td><td>2017-08-29</td><td>Ha 90A</td><td>21:15:04.3</td><td>43:46:40.0</td><td>8.63 , -351.37</td><td>E2V-4240</td><td>2 2</td></tr>\n",
       "<tr><td>2</td><td>crN10039_bx-oiii</td><td>Image</td><td>2017-08-29</td><td>OIII 60A</td><td>21:15:02.8</td><td>43:46:48.0</td><td>8.63 , -351.37</td><td>E2V-4240</td><td>2 2</td></tr>\n",
       "<tr><td>3</td><td>crN10042_b</td><td>image_slit_70</td><td>2017-08-29</td><td>Ha 90A</td><td>21:15:02.2</td><td>43:46:58.0</td><td>8.63 , -351.37</td><td>E2V-4240</td><td>2 2</td></tr>\n",
       "<tr><td>4</td><td>crN10043_bx</td><td>Image</td><td>2017-08-29</td><td>Ha 90A</td><td>21:15:02.3</td><td>43:46:58.0</td><td>8.63 , -351.37</td><td>E2V-4240</td><td>2 2</td></tr>\n",
       "<tr><td>5</td><td>crN10045_bx-oiii</td><td>Image</td><td>2017-08-29</td><td>OIII 60A</td><td>21:15:02.3</td><td>43:47:7.0</td><td>8.63 , -351.37</td><td>E2V-4240</td><td>2 2</td></tr>\n",
       "<tr><td>6</td><td>crN10047o</td><td>image_slit_70</td><td>2017-08-29</td><td>OIII 60A</td><td>21:15:02.5</td><td>43:47:23.0</td><td>8.63 , -351.37</td><td>E2V-4240</td><td>2 2</td></tr>\n",
       "<tr><td>7</td><td>crN20001_b</td><td>slit_image_70</td><td>2017-08-30</td><td>NII</td><td>21:15:02.6</td><td>43:45:32.0</td><td>360.00 , -0.00</td><td>E2V-4240</td><td>2 2</td></tr>\n",
       "<tr><td>8</td><td>crN20004_bx</td><td>Image</td><td>2017-08-30</td><td>Ha 90A</td><td>21:15:03.8</td><td>43:45:27.0</td><td>360.00 , -0.00</td><td>E2V-4240</td><td>2 2</td></tr>\n",
       "<tr><td>9</td><td>crN20006_bx-oiii</td><td>Image</td><td>2017-08-30</td><td>OIII 60A</td><td>21:15:03.9</td><td>43:45:26.0</td><td>360.00 , -0.00</td><td>E2V-4240</td><td>2 2</td></tr>\n",
       "<tr><td>10</td><td>crN20008_b</td><td>slit_image_70</td><td>2017-08-30</td><td>OIII 60A</td><td>21:15:04.1</td><td>43:45:25.0</td><td>360.00 , -0.00</td><td>E2V-4240</td><td>2 2</td></tr>\n",
       "<tr><td>11</td><td>crN20011_b</td><td>slit_image_70</td><td>2017-08-30</td><td>Ha 90A</td><td>21:15:03.3</td><td>43:45:22.0</td><td>360.00 , -0.00</td><td>E2V-4240</td><td>2 2</td></tr>\n",
       "<tr><td>12</td><td>crN20012_bx</td><td>Image</td><td>2017-08-30</td><td>Ha 90A</td><td>21:15:03.3</td><td>43:45:22.0</td><td>360.00 , -0.00</td><td>E2V-4240</td><td>2 2</td></tr>\n",
       "<tr><td>13</td><td>crspm0020o_b</td><td>image_slit_150</td><td>2018-05-02</td><td>Ha 90A</td><td>21:15:03.9</td><td>43:49:3.0</td><td>359.90 , -0.10</td><td>E2V-4240</td><td>3 3</td></tr>\n",
       "<tr><td>14</td><td>crspm0021o_bx</td><td>Image</td><td>2018-05-02</td><td>Ha 90A</td><td>21:15:04.0</td><td>43:49:3.0</td><td>359.90 , -0.10</td><td>E2V-4240</td><td>3 3</td></tr>\n",
       "<tr><td>15</td><td>crspm0023o_bx-oiii</td><td>Image</td><td>2018-05-02</td><td>OIII 60A</td><td>21:15:05.1</td><td>43:48:57.0</td><td>359.90 , -0.10</td><td>E2V-4240</td><td>3 3</td></tr>\n",
       "<tr><td>16</td><td>crspm0025o_b</td><td>slit_image_150</td><td>2018-05-02</td><td>OIII 60A</td><td>21:15:06.5</td><td>43:48:53.0</td><td>359.90 , -0.10</td><td>E2V-4240</td><td>3 3</td></tr>\n",
       "<tr><td>17</td><td>crspm0047o_b</td><td>image_slit_150</td><td>2018-05-03</td><td>Ha 90A</td><td>21:15:04.8</td><td>43:49:47.0</td><td>359.98 , -0.02</td><td>E2V-4240</td><td>3 3</td></tr>\n",
       "<tr><td>18</td><td>crspm0048o_bx</td><td>Image</td><td>2018-05-03</td><td>Ha 90A</td><td>21:15:04.9</td><td>43:49:46.0</td><td>359.98 , -0.02</td><td>E2V-4240</td><td>3 3</td></tr>\n",
       "<tr><td>19</td><td>crspm0050o_bx</td><td>Image</td><td>2018-05-03</td><td>OIII 60A</td><td>21:15:06.1</td><td>43:49:40.0</td><td>359.98 , -0.02</td><td>E2V-4240</td><td>3 3</td></tr>\n",
       "<tr><td>20</td><td>crspm0052o_b</td><td>slit_image_150</td><td>2018-05-03</td><td>OIII 60A</td><td>21:15:07.4</td><td>43:49:32.0</td><td>359.98 , -0.02</td><td>E2V-4240</td><td>3 3</td></tr>\n",
       "<tr><td>21</td><td>crspm0053o_b</td><td>image_slit_150</td><td>2018-05-03</td><td>Ha 90A</td><td>21:15:07.6</td><td>43:49:29.0</td><td>359.98 , -0.02</td><td>E2V-4240</td><td>3 3</td></tr>\n",
       "<tr><td>22</td><td>crspm0054o_bx</td><td>Image</td><td>2018-05-03</td><td>Ha 90A</td><td>21:15:07.6</td><td>43:49:29.0</td><td>359.98 , -0.02</td><td>E2V-4240</td><td>3 3</td></tr>\n",
       "<tr><td>23</td><td>crspm0056o_bx</td><td>Image</td><td>2018-05-03</td><td>OIII 60A</td><td>21:15:08.6</td><td>43:49:25.0</td><td>359.98 , -0.02</td><td>E2V-4240</td><td>3 3</td></tr>\n",
       "<tr><td>24</td><td>crspm0058o_b</td><td>slit_image_150</td><td>2018-05-03</td><td>OIII 60A</td><td>21:15:09.4</td><td>43:49:22.0</td><td>359.98 , -0.02</td><td>E2V-4240</td><td>3 3</td></tr>\n",
       "<tr><td>25</td><td>crspm0104o_b</td><td>Image</td><td>2018-05-04</td><td>Ha 90A</td><td>21:14:55.2</td><td>43:47:28.0</td><td>359.98 , -0.02</td><td>E2V-4240</td><td>3 3</td></tr>\n",
       "<tr><td>26</td><td>crspm0105o_bx</td><td>Image</td><td>2018-05-04</td><td>Ha 90A</td><td>21:14:55.4</td><td>43:47:27.0</td><td>359.98 , -0.02</td><td>E2V-4240</td><td>3 3</td></tr>\n",
       "<tr><td>27</td><td>crspm0107o_bx</td><td>Image</td><td>2018-05-04</td><td>OIII 60A</td><td>21:14:56.6</td><td>43:47:22.0</td><td>359.98 , -0.02</td><td>E2V-4240</td><td>3 3</td></tr>\n",
       "<tr><td>28</td><td>crspm0109o_b</td><td>slit_image_150</td><td>2018-05-04</td><td>OIII 60A</td><td>21:14:57.5</td><td>43:47:18.0</td><td>359.98 , -0.02</td><td>E2V-4240</td><td>3 3</td></tr>\n",
       "<tr><td>29</td><td>crspm0210o_b</td><td>image_slit_150</td><td>2019-09-15</td><td>Ha 90A</td><td>21:14:55.62</td><td>+43:47:22.81</td><td>0.30 , -359.70</td><td>E2V-4240</td><td>3 3</td></tr>\n",
       "<tr><td>30</td><td>crspm0211o_b1t</td><td>Image</td><td>2019-09-15</td><td>Ha 90A</td><td>21:14:55.47</td><td>+43:47:23.41</td><td>0.30 , -359.70</td><td>E2V-4240</td><td>3 3</td></tr>\n",
       "<tr><td>31</td><td>crspm0214o_b</td><td>image_slit_150</td><td>2019-09-15</td><td>Ha 90A</td><td>21:14:54.90</td><td>+43:47:33.01</td><td>0.30 , -359.70</td><td>E2V-4240</td><td>3 3</td></tr>\n",
       "<tr><td>32</td><td>crspm0215o_b1t</td><td>Image</td><td>2019-09-15</td><td>Ha 90A</td><td>21:14:55.00</td><td>+43:47:34.36</td><td>0.30 , -359.70</td><td>E2V-4240</td><td>3 3</td></tr>\n",
       "<tr><td>33</td><td>crspm0431o_b</td><td>image_slit_150</td><td>2019-09-17</td><td>Ha 90A</td><td>21:14:58.47</td><td>+43:46:46.81</td><td>0.26 , -359.74</td><td>E2V-4240</td><td>3 3</td></tr>\n",
       "<tr><td>34</td><td>crspm0432o_b1t</td><td>Image</td><td>2019-09-17</td><td>Ha 90A</td><td>21:14:57.42</td><td>+43:46:46.66</td><td>0.26 , -359.74</td><td>E2V-4240</td><td>3 3</td></tr>\n",
       "<tr><td>35</td><td>crspm0439o_b</td><td>image_slit_150</td><td>2019-09-17</td><td>Ha 90A</td><td>21:14:57.63</td><td>+43:46:30.31</td><td>84.35 , -275.65</td><td>E2V-4240</td><td>3 3</td></tr>\n",
       "<tr><td>36</td><td>crspm0440o_b1t</td><td>Image</td><td>2019-09-17</td><td>Ha 90A</td><td>21:14:57.50</td><td>+43:46:30.76</td><td>84.35 , -275.65</td><td>E2V-4240</td><td>3 3</td></tr>\n",
       "<tr><td>37</td><td>crspm0600o_b</td><td>image_slit_150</td><td>2019-09-18</td><td>Ha 90A</td><td>21:15:03.54</td><td>+43:46:41.72</td><td>0.26 , -359.74</td><td>E2V-4240</td><td>3 3</td></tr>\n",
       "<tr><td>38</td><td>crspm0601o_b1t</td><td>Image</td><td>2019-09-18</td><td>Ha 90A</td><td>21:15:03.60</td><td>+43:46:43.22</td><td>0.26 , -359.74</td><td>E2V-4240</td><td>3 3</td></tr>\n",
       "</table><style>table.dataTable {clear: both; width: auto !important; margin: 0 !important;}\n",
       ".dataTables_info, .dataTables_length, .dataTables_filter, .dataTables_paginate{\n",
       "display: inline-block; margin-right: 1em; }\n",
       ".paginate_button { margin-right: 5px; }\n",
       "</style>\n",
       "<script>\n",
       "\n",
       "var astropy_sort_num = function(a, b) {\n",
       "    var a_num = parseFloat(a);\n",
       "    var b_num = parseFloat(b);\n",
       "\n",
       "    if (isNaN(a_num) && isNaN(b_num))\n",
       "        return ((a < b) ? -1 : ((a > b) ? 1 : 0));\n",
       "    else if (!isNaN(a_num) && !isNaN(b_num))\n",
       "        return ((a_num < b_num) ? -1 : ((a_num > b_num) ? 1 : 0));\n",
       "    else\n",
       "        return isNaN(a_num) ? -1 : 1;\n",
       "}\n",
       "\n",
       "require.config({paths: {\n",
       "    datatables: 'https://cdn.datatables.net/1.10.12/js/jquery.dataTables.min'\n",
       "}});\n",
       "require([\"datatables\"], function(){\n",
       "    console.log(\"$('#table140391348191296-813567').dataTable()\");\n",
       "    \n",
       "jQuery.extend( jQuery.fn.dataTableExt.oSort, {\n",
       "    \"optionalnum-asc\": astropy_sort_num,\n",
       "    \"optionalnum-desc\": function (a,b) { return -astropy_sort_num(a, b); }\n",
       "});\n",
       "\n",
       "    $('#table140391348191296-813567').dataTable({\n",
       "        order: [],\n",
       "        pageLength: 50,\n",
       "        lengthMenu: [[10, 25, 50, 100, 500, 1000, -1], [10, 25, 50, 100, 500, 1000, 'All']],\n",
       "        pagingType: \"full_numbers\",\n",
       "        columnDefs: [{targets: [0], type: \"optionalnum\"}]\n",
       "    });\n",
       "});\n",
       "</script>\n"
      ],
      "text/plain": [
       "<IPython.core.display.HTML object>"
      ]
     },
     "execution_count": 14,
     "metadata": {},
     "output_type": "execute_result"
    }
   ],
   "source": [
    "data = []\n",
    "kwds = [\"MEZMODE\", \"DATE-OBS\", \"FILTER\", \"RA\", \"DEC\", \"PA\", \"CCDTYPE\", \"CCDSUM\"]\n",
    "for _file in sorted(dpath.glob(\"*.fits\")):\n",
    "    hdu = fits.open(_file)[0]\n",
    "    thisdata = {\"File\": _file.stem}\n",
    "    for k in kwds:\n",
    "        thisdata[k] = hdu.header.get(k)\n",
    "    data.append(thisdata)\n",
    "tab = Table(rows=data)\n",
    "tab.show_in_notebook()"
   ]
  },
  {
   "cell_type": "markdown",
   "id": "1842709c-7343-43c6-bb4e-69e2f1131fcc",
   "metadata": {},
   "source": [
    "So we have 2017 data with 70 micron slit and 2x2 binning, and then 2018, 2019 data with 150 micron slit and 3x3 binning."
   ]
  },
  {
   "cell_type": "markdown",
   "id": "488282ec-aa1e-4126-92ec-99a74949340c",
   "metadata": {},
   "source": [
    "Select the image+slit or slit+image files that we will need to do astrometry of"
   ]
  },
  {
   "cell_type": "code",
   "execution_count": 19,
   "id": "226e20bd-1f7d-44c7-9f17-0ba86ab14c96",
   "metadata": {},
   "outputs": [
    {
     "data": {
      "text/html": [
       "<div><i>Table length=18</i>\n",
       "<table id=\"table140391120956672\" class=\"table-striped table-bordered table-condensed\">\n",
       "<thead><tr><th>File</th><th>MEZMODE</th><th>DATE-OBS</th><th>FILTER</th><th>RA</th><th>DEC</th><th>PA</th><th>CCDTYPE</th><th>CCDSUM</th></tr></thead>\n",
       "<thead><tr><th>str18</th><th>str14</th><th>str10</th><th>str8</th><th>str11</th><th>str12</th><th>str15</th><th>str8</th><th>str3</th></tr></thead>\n",
       "<tr><td>crN10035_b</td><td>image_slit_70</td><td>2017-08-29</td><td>Ha 90A</td><td>21:15:04.4</td><td>43:46:39.0</td><td>8.63 , -351.37</td><td>E2V-4240</td><td>2 2</td></tr>\n",
       "<tr><td>crN10042_b</td><td>image_slit_70</td><td>2017-08-29</td><td>Ha 90A</td><td>21:15:02.2</td><td>43:46:58.0</td><td>8.63 , -351.37</td><td>E2V-4240</td><td>2 2</td></tr>\n",
       "<tr><td>crN10047o</td><td>image_slit_70</td><td>2017-08-29</td><td>OIII 60A</td><td>21:15:02.5</td><td>43:47:23.0</td><td>8.63 , -351.37</td><td>E2V-4240</td><td>2 2</td></tr>\n",
       "<tr><td>crN20001_b</td><td>slit_image_70</td><td>2017-08-30</td><td>NII</td><td>21:15:02.6</td><td>43:45:32.0</td><td>360.00 , -0.00</td><td>E2V-4240</td><td>2 2</td></tr>\n",
       "<tr><td>crN20008_b</td><td>slit_image_70</td><td>2017-08-30</td><td>OIII 60A</td><td>21:15:04.1</td><td>43:45:25.0</td><td>360.00 , -0.00</td><td>E2V-4240</td><td>2 2</td></tr>\n",
       "<tr><td>crN20011_b</td><td>slit_image_70</td><td>2017-08-30</td><td>Ha 90A</td><td>21:15:03.3</td><td>43:45:22.0</td><td>360.00 , -0.00</td><td>E2V-4240</td><td>2 2</td></tr>\n",
       "<tr><td>crspm0020o_b</td><td>image_slit_150</td><td>2018-05-02</td><td>Ha 90A</td><td>21:15:03.9</td><td>43:49:3.0</td><td>359.90 , -0.10</td><td>E2V-4240</td><td>3 3</td></tr>\n",
       "<tr><td>crspm0025o_b</td><td>slit_image_150</td><td>2018-05-02</td><td>OIII 60A</td><td>21:15:06.5</td><td>43:48:53.0</td><td>359.90 , -0.10</td><td>E2V-4240</td><td>3 3</td></tr>\n",
       "<tr><td>crspm0047o_b</td><td>image_slit_150</td><td>2018-05-03</td><td>Ha 90A</td><td>21:15:04.8</td><td>43:49:47.0</td><td>359.98 , -0.02</td><td>E2V-4240</td><td>3 3</td></tr>\n",
       "<tr><td>crspm0052o_b</td><td>slit_image_150</td><td>2018-05-03</td><td>OIII 60A</td><td>21:15:07.4</td><td>43:49:32.0</td><td>359.98 , -0.02</td><td>E2V-4240</td><td>3 3</td></tr>\n",
       "<tr><td>crspm0053o_b</td><td>image_slit_150</td><td>2018-05-03</td><td>Ha 90A</td><td>21:15:07.6</td><td>43:49:29.0</td><td>359.98 , -0.02</td><td>E2V-4240</td><td>3 3</td></tr>\n",
       "<tr><td>crspm0058o_b</td><td>slit_image_150</td><td>2018-05-03</td><td>OIII 60A</td><td>21:15:09.4</td><td>43:49:22.0</td><td>359.98 , -0.02</td><td>E2V-4240</td><td>3 3</td></tr>\n",
       "<tr><td>crspm0109o_b</td><td>slit_image_150</td><td>2018-05-04</td><td>OIII 60A</td><td>21:14:57.5</td><td>43:47:18.0</td><td>359.98 , -0.02</td><td>E2V-4240</td><td>3 3</td></tr>\n",
       "<tr><td>crspm0210o_b</td><td>image_slit_150</td><td>2019-09-15</td><td>Ha 90A</td><td>21:14:55.62</td><td>+43:47:22.81</td><td>0.30 , -359.70</td><td>E2V-4240</td><td>3 3</td></tr>\n",
       "<tr><td>crspm0214o_b</td><td>image_slit_150</td><td>2019-09-15</td><td>Ha 90A</td><td>21:14:54.90</td><td>+43:47:33.01</td><td>0.30 , -359.70</td><td>E2V-4240</td><td>3 3</td></tr>\n",
       "<tr><td>crspm0431o_b</td><td>image_slit_150</td><td>2019-09-17</td><td>Ha 90A</td><td>21:14:58.47</td><td>+43:46:46.81</td><td>0.26 , -359.74</td><td>E2V-4240</td><td>3 3</td></tr>\n",
       "<tr><td>crspm0439o_b</td><td>image_slit_150</td><td>2019-09-17</td><td>Ha 90A</td><td>21:14:57.63</td><td>+43:46:30.31</td><td>84.35 , -275.65</td><td>E2V-4240</td><td>3 3</td></tr>\n",
       "<tr><td>crspm0600o_b</td><td>image_slit_150</td><td>2019-09-18</td><td>Ha 90A</td><td>21:15:03.54</td><td>+43:46:41.72</td><td>0.26 , -359.74</td><td>E2V-4240</td><td>3 3</td></tr>\n",
       "</table></div>"
      ],
      "text/plain": [
       "<Table length=18>\n",
       "    File        MEZMODE      DATE-OBS   FILTER       RA         DEC             PA       CCDTYPE  CCDSUM\n",
       "   str18         str14        str10      str8      str11       str12          str15        str8    str3 \n",
       "------------ -------------- ---------- -------- ----------- ------------ --------------- -------- ------\n",
       "  crN10035_b  image_slit_70 2017-08-29   Ha 90A  21:15:04.4   43:46:39.0  8.63 , -351.37 E2V-4240    2 2\n",
       "  crN10042_b  image_slit_70 2017-08-29   Ha 90A  21:15:02.2   43:46:58.0  8.63 , -351.37 E2V-4240    2 2\n",
       "   crN10047o  image_slit_70 2017-08-29 OIII 60A  21:15:02.5   43:47:23.0  8.63 , -351.37 E2V-4240    2 2\n",
       "  crN20001_b  slit_image_70 2017-08-30      NII  21:15:02.6   43:45:32.0  360.00 , -0.00 E2V-4240    2 2\n",
       "  crN20008_b  slit_image_70 2017-08-30 OIII 60A  21:15:04.1   43:45:25.0  360.00 , -0.00 E2V-4240    2 2\n",
       "  crN20011_b  slit_image_70 2017-08-30   Ha 90A  21:15:03.3   43:45:22.0  360.00 , -0.00 E2V-4240    2 2\n",
       "crspm0020o_b image_slit_150 2018-05-02   Ha 90A  21:15:03.9    43:49:3.0  359.90 , -0.10 E2V-4240    3 3\n",
       "crspm0025o_b slit_image_150 2018-05-02 OIII 60A  21:15:06.5   43:48:53.0  359.90 , -0.10 E2V-4240    3 3\n",
       "crspm0047o_b image_slit_150 2018-05-03   Ha 90A  21:15:04.8   43:49:47.0  359.98 , -0.02 E2V-4240    3 3\n",
       "crspm0052o_b slit_image_150 2018-05-03 OIII 60A  21:15:07.4   43:49:32.0  359.98 , -0.02 E2V-4240    3 3\n",
       "crspm0053o_b image_slit_150 2018-05-03   Ha 90A  21:15:07.6   43:49:29.0  359.98 , -0.02 E2V-4240    3 3\n",
       "crspm0058o_b slit_image_150 2018-05-03 OIII 60A  21:15:09.4   43:49:22.0  359.98 , -0.02 E2V-4240    3 3\n",
       "crspm0109o_b slit_image_150 2018-05-04 OIII 60A  21:14:57.5   43:47:18.0  359.98 , -0.02 E2V-4240    3 3\n",
       "crspm0210o_b image_slit_150 2019-09-15   Ha 90A 21:14:55.62 +43:47:22.81  0.30 , -359.70 E2V-4240    3 3\n",
       "crspm0214o_b image_slit_150 2019-09-15   Ha 90A 21:14:54.90 +43:47:33.01  0.30 , -359.70 E2V-4240    3 3\n",
       "crspm0431o_b image_slit_150 2019-09-17   Ha 90A 21:14:58.47 +43:46:46.81  0.26 , -359.74 E2V-4240    3 3\n",
       "crspm0439o_b image_slit_150 2019-09-17   Ha 90A 21:14:57.63 +43:46:30.31 84.35 , -275.65 E2V-4240    3 3\n",
       "crspm0600o_b image_slit_150 2019-09-18   Ha 90A 21:15:03.54 +43:46:41.72  0.26 , -359.74 E2V-4240    3 3"
      ]
     },
     "execution_count": 19,
     "metadata": {},
     "output_type": "execute_result"
    }
   ],
   "source": [
    "m = [\"slit\" in _ for _ in tab[\"MEZMODE\"]]\n",
    "tab[m]"
   ]
  },
  {
   "cell_type": "markdown",
   "id": "70885a99-0e40-4b75-aef6-a55136151f11",
   "metadata": {},
   "source": [
    "Write out a list of all the Image+slit files"
   ]
  },
  {
   "cell_type": "code",
   "execution_count": 43,
   "id": "b64b7a79-1ab3-4aa7-9f2e-cb7fbfffc6b0",
   "metadata": {},
   "outputs": [
    {
     "data": {
      "text/plain": [
       "PosixPath('../data/image-list.dat')"
      ]
     },
     "execution_count": 43,
     "metadata": {},
     "output_type": "execute_result"
    }
   ],
   "source": [
    "listfile = dpath.parent / \"image-list.dat\"\n",
    "listfile.write_text(\"\\n\".join(tab[m][\"File\"]))\n",
    "listfile"
   ]
  },
  {
   "cell_type": "markdown",
   "id": "488ac7ba-067d-457f-8a37-8392cfe7b7e3",
   "metadata": {},
   "source": [
    "Check that it worked:"
   ]
  },
  {
   "cell_type": "code",
   "execution_count": 44,
   "id": "995cae2a-975b-4d17-ba2c-408f88e2ecd5",
   "metadata": {},
   "outputs": [
    {
     "data": {
      "text/plain": [
       "['crN10035_b',\n",
       " 'crN10042_b',\n",
       " 'crN10047o',\n",
       " 'crN20001_b',\n",
       " 'crN20008_b',\n",
       " 'crN20011_b',\n",
       " 'crspm0020o_b',\n",
       " 'crspm0025o_b',\n",
       " 'crspm0047o_b',\n",
       " 'crspm0052o_b',\n",
       " 'crspm0053o_b',\n",
       " 'crspm0058o_b',\n",
       " 'crspm0109o_b',\n",
       " 'crspm0210o_b',\n",
       " 'crspm0214o_b',\n",
       " 'crspm0431o_b',\n",
       " 'crspm0439o_b',\n",
       " 'crspm0600o_b']"
      ]
     },
     "execution_count": 44,
     "metadata": {},
     "output_type": "execute_result"
    }
   ],
   "source": [
    "listfile.read_text().splitlines()"
   ]
  },
  {
   "cell_type": "markdown",
   "id": "710d32b8-e65e-4f53-b24c-c9e63d80b2f9",
   "metadata": {},
   "source": [
    "## Find the HEALpix coordinates of our source"
   ]
  },
  {
   "cell_type": "code",
   "execution_count": 30,
   "id": "b49c41a7-c4a7-45f1-a78d-d32a58e76a52",
   "metadata": {},
   "outputs": [],
   "source": [
    "from astropy.coordinates import SkyCoord, ICRS\n",
    "import astropy.units as u"
   ]
  },
  {
   "cell_type": "markdown",
   "id": "25174feb-7fd7-4454-84c7-c2ab5a102d5a",
   "metadata": {},
   "source": [
    "All the positions should be about the same, so we just use the first one."
   ]
  },
  {
   "cell_type": "code",
   "execution_count": 31,
   "id": "461ccfca-a0bb-455f-829a-01404c68b86d",
   "metadata": {},
   "outputs": [
    {
     "data": {
      "text/plain": [
       "<SkyCoord (ICRS): (ra, dec) in deg\n",
       "    (318.76833333, 43.7775)>"
      ]
     },
     "execution_count": 31,
     "metadata": {},
     "output_type": "execute_result"
    }
   ],
   "source": [
    "c = SkyCoord(tab[0][\"RA\"], tab[0][\"DEC\"], unit=(u.hourangle, u.deg))\n",
    "c"
   ]
  },
  {
   "cell_type": "code",
   "execution_count": 32,
   "id": "1448805f-c9eb-4c69-a1f7-1387fb6946a6",
   "metadata": {},
   "outputs": [],
   "source": [
    "from astropy_healpix import HEALPix"
   ]
  },
  {
   "cell_type": "markdown",
   "id": "ea9c235d-db1c-4699-b614-d7731392b186",
   "metadata": {},
   "source": [
    "In order to find which data files to download from http://data.astrometry.net/5000/, we need to translate the celestial coordinate to HEALpix index numbers:"
   ]
  },
  {
   "cell_type": "code",
   "execution_count": 66,
   "id": "5c023743-343e-4eed-824a-4d137e95d2a8",
   "metadata": {},
   "outputs": [],
   "source": [
    "hp_2 = HEALPix(nside=2, order=\"nested\", frame=ICRS())\n",
    "hp_1 = HEALPix(nside=1, order=\"nested\", frame=ICRS())"
   ]
  },
  {
   "cell_type": "markdown",
   "id": "7c7eeefe-c464-456c-a583-e6750859e1d7",
   "metadata": {},
   "source": [
    "Levels 0 to 4 use the `nside=2` tiles. "
   ]
  },
  {
   "cell_type": "code",
   "execution_count": 67,
   "id": "aab797d9-3246-4820-bd83-31d25e918ca5",
   "metadata": {},
   "outputs": [
    {
     "data": {
      "text/plain": [
       "array([13])"
      ]
     },
     "execution_count": 67,
     "metadata": {},
     "output_type": "execute_result"
    }
   ],
   "source": [
    "hp_2.cone_search_skycoord(c, radius=5 * u.arcminute)"
   ]
  },
  {
   "cell_type": "markdown",
   "id": "67e32895-1edb-4a6a-b464-d7e1a276096e",
   "metadata": {},
   "source": [
    "So that means `index500[0-4]-13.fits`"
   ]
  },
  {
   "cell_type": "code",
   "execution_count": 68,
   "id": "6427c947-e983-4229-b689-43fa9b3fe41f",
   "metadata": {},
   "outputs": [
    {
     "data": {
      "text/plain": [
       "array([3])"
      ]
     },
     "execution_count": 68,
     "metadata": {},
     "output_type": "execute_result"
    }
   ],
   "source": [
    "hp_1.cone_search_skycoord(c, radius=5 * u.arcminute)"
   ]
  },
  {
   "cell_type": "markdown",
   "id": "b976cb89-d027-4bbc-984b-6c81509b064e",
   "metadata": {},
   "source": [
    "So that means `index500[5-7]-03.fits`"
   ]
  },
  {
   "cell_type": "code",
   "execution_count": 78,
   "id": "a056fdee-e97d-4371-99e5-d54c9c708a86",
   "metadata": {
    "tags": []
   },
   "outputs": [
    {
     "data": {
      "text/plain": [
       "array([14])"
      ]
     },
     "execution_count": 78,
     "metadata": {},
     "output_type": "execute_result"
    }
   ],
   "source": [
    "hp_2.cone_search_lonlat(300 * u.deg, 50 * u.deg, 0.1 * u.deg)"
   ]
  },
  {
   "cell_type": "markdown",
   "id": "32b79118-4f12-4dd0-81fc-eda023d754c4",
   "metadata": {},
   "source": [
    "## Look at the HEALpix data files\n",
    "\n",
    "Something isn't right.  I got the 13 series but the program complains that the coordinates are not contained in the tile."
   ]
  },
  {
   "cell_type": "code",
   "execution_count": 45,
   "id": "5ec20e61-aeba-4f1b-b458-3d77f37717e2",
   "metadata": {},
   "outputs": [
    {
     "name": "stdout",
     "output_type": "stream",
     "text": [
      "Filename: ../data/astrometry-net/index-5004-13.fits\n",
      "No.    Name      Ver    Type      Cards   Dimensions   Format\n",
      "  0  PRIMARY       1 PrimaryHDU     109   ()      \n",
      "  1                1 BinTableHDU     12   774400R x 1C   [16A]   \n",
      "  2                1 BinTableHDU    138   0R x 1C   [0A]   \n",
      "  3                1 BinTableHDU     16   32768R x 1C   [4A]   \n",
      "  4                1 BinTableHDU     21   32767R x 1C   [2A]   \n",
      "  5                1 BinTableHDU     29   9R x 1C   [8A]   \n",
      "  6                1 BinTableHDU     14   774400R x 1C   [8A]   \n",
      "  7                1 BinTableHDU    111   0R x 1C   [0A]   \n",
      "  8                1 BinTableHDU     16   32768R x 1C   [4A]   \n",
      "  9                1 BinTableHDU     21   32767R x 1C   [4A]   \n",
      " 10                1 BinTableHDU     28   7R x 1C   [8A]   \n",
      " 11                1 BinTableHDU     14   484000R x 1C   [12A]   \n",
      " 12                1 BinTableHDU     12   484000R x 1C   [1B]   \n",
      " 13                1 BinTableHDU     37   484000R x 13C   [1K, 1E, 1E, 1E, 1E, 1E, 1E, 1E, 1E, 1E, 1D, 1D, 1E]   \n"
     ]
    }
   ],
   "source": [
    "hdulist = fits.open(dpath.parent / \"astrometry-net\" / \"index-5004-13.fits\")\n",
    "hdulist.info()"
   ]
  },
  {
   "cell_type": "markdown",
   "id": "d65b1bed-cb21-4ceb-9588-1bae516367df",
   "metadata": {},
   "source": [
    "Looks like HDU 13 has the original table of stars:"
   ]
  },
  {
   "cell_type": "code",
   "execution_count": 49,
   "id": "9e248b05-e40f-4930-aab0-c4ae45be81e0",
   "metadata": {},
   "outputs": [
    {
     "data": {
      "text/plain": [
       "XTENSION= 'BINTABLE' / FITS Binary Table Extension                              \n",
       "BITPIX  =                    8 / 8-bits character format                        \n",
       "NAXIS   =                    2 / Tables are 2-D char. array                     \n",
       "NAXIS1  =                   64 / Bytes in row                                   \n",
       "NAXIS2  =               484000 / no comment                                     \n",
       "PCOUNT  =                    0 / Parameter count always 0                       \n",
       "GCOUNT  =                    1 / Group count always 1                           \n",
       "TFIELDS =                   13 / No. of col in table                            \n",
       "TFORM1  = '1K      ' / Format of field                                          \n",
       "TTYPE1  = 'source_id' / Field label                                             \n",
       "TFORM2  = '1E      ' / Format of field                                          \n",
       "TTYPE2  = 'phot_g_mean_mag' / Field label                                       \n",
       "TFORM3  = '1E      ' / Format of field                                          \n",
       "TTYPE3  = 'phot_bp_mean_mag' / Field label                                      \n",
       "TFORM4  = '1E      ' / Format of field                                          \n",
       "TTYPE4  = 'phot_rp_mean_mag' / Field label                                      \n",
       "TFORM5  = '1E      ' / Format of field                                          \n",
       "TTYPE5  = 'parallax' / Field label                                              \n",
       "TFORM6  = '1E      ' / Format of field                                          \n",
       "TTYPE6  = 'parallax_error' / Field label                                        \n",
       "TFORM7  = '1E      ' / Format of field                                          \n",
       "TTYPE7  = 'pmra    ' / Field label                                              \n",
       "TFORM8  = '1E      ' / Format of field                                          \n",
       "TTYPE8  = 'pmra_error' / Field label                                            \n",
       "TFORM9  = '1E      ' / Format of field                                          \n",
       "TTYPE9  = 'pmdec   ' / Field label                                              \n",
       "TFORM10 = '1E      ' / Format of field                                          \n",
       "TTYPE10 = 'pmdec_error' / Field label                                           \n",
       "TFORM11 = '1D      ' / Format of field                                          \n",
       "TTYPE11 = 'ra      ' / Field label                                              \n",
       "TFORM12 = '1D      ' / Format of field                                          \n",
       "TTYPE12 = 'dec     ' / Field label                                              \n",
       "TFORM13 = '1E      ' / Format of field                                          \n",
       "TTYPE13 = 'ref_epoch' / Field label                                             \n",
       "ORIGIN  = 'ESO-QFITS' / Written by QFITS                                        \n",
       "DATE    = '2018-07-05T10:40:02' / [UTC] Date of writing                         \n",
       "AN_FILE = 'TAGALONG' / Extra data for stars                                     "
      ]
     },
     "execution_count": 49,
     "metadata": {},
     "output_type": "execute_result"
    }
   ],
   "source": [
    "hdulist[13].header"
   ]
  },
  {
   "cell_type": "code",
   "execution_count": 54,
   "id": "59ee48d7-25d6-4a83-a387-e21208ffc790",
   "metadata": {},
   "outputs": [],
   "source": [
    "tstars = Table.read(hdulist[13])"
   ]
  },
  {
   "cell_type": "code",
   "execution_count": 56,
   "id": "03bb188c-51ce-4f7a-8085-066bc9bd5af9",
   "metadata": {},
   "outputs": [],
   "source": [
    "df = tstars.to_pandas()"
   ]
  },
  {
   "cell_type": "code",
   "execution_count": 59,
   "id": "830c9801-62c2-4c35-82f7-b0051f9fcc85",
   "metadata": {},
   "outputs": [
    {
     "data": {
      "text/html": [
       "<div>\n",
       "<style scoped>\n",
       "    .dataframe tbody tr th:only-of-type {\n",
       "        vertical-align: middle;\n",
       "    }\n",
       "\n",
       "    .dataframe tbody tr th {\n",
       "        vertical-align: top;\n",
       "    }\n",
       "\n",
       "    .dataframe thead th {\n",
       "        text-align: right;\n",
       "    }\n",
       "</style>\n",
       "<table border=\"1\" class=\"dataframe\">\n",
       "  <thead>\n",
       "    <tr style=\"text-align: right;\">\n",
       "      <th></th>\n",
       "      <th>ra</th>\n",
       "      <th>dec</th>\n",
       "    </tr>\n",
       "  </thead>\n",
       "  <tbody>\n",
       "    <tr>\n",
       "      <th>count</th>\n",
       "      <td>484000.000000</td>\n",
       "      <td>484000.000000</td>\n",
       "    </tr>\n",
       "    <tr>\n",
       "      <th>mean</th>\n",
       "      <td>289.941766</td>\n",
       "      <td>42.040913</td>\n",
       "    </tr>\n",
       "    <tr>\n",
       "      <th>std</th>\n",
       "      <td>10.589280</td>\n",
       "      <td>9.873081</td>\n",
       "    </tr>\n",
       "    <tr>\n",
       "      <th>min</th>\n",
       "      <td>270.000057</td>\n",
       "      <td>19.512950</td>\n",
       "    </tr>\n",
       "    <tr>\n",
       "      <th>25%</th>\n",
       "      <td>281.590965</td>\n",
       "      <td>34.682751</td>\n",
       "    </tr>\n",
       "    <tr>\n",
       "      <th>50%</th>\n",
       "      <td>290.029967</td>\n",
       "      <td>41.809240</td>\n",
       "    </tr>\n",
       "    <tr>\n",
       "      <th>75%</th>\n",
       "      <td>297.865546</td>\n",
       "      <td>49.214437</td>\n",
       "    </tr>\n",
       "    <tr>\n",
       "      <th>max</th>\n",
       "      <td>314.928236</td>\n",
       "      <td>66.385848</td>\n",
       "    </tr>\n",
       "  </tbody>\n",
       "</table>\n",
       "</div>"
      ],
      "text/plain": [
       "                  ra            dec\n",
       "count  484000.000000  484000.000000\n",
       "mean      289.941766      42.040913\n",
       "std        10.589280       9.873081\n",
       "min       270.000057      19.512950\n",
       "25%       281.590965      34.682751\n",
       "50%       290.029967      41.809240\n",
       "75%       297.865546      49.214437\n",
       "max       314.928236      66.385848"
      ]
     },
     "execution_count": 59,
     "metadata": {},
     "output_type": "execute_result"
    }
   ],
   "source": [
    "df[[\"ra\", \"dec\"]].describe()"
   ]
  },
  {
   "cell_type": "markdown",
   "id": "2a35da19-f5bd-48ae-85b8-69f9c4ed53e6",
   "metadata": {},
   "source": [
    "So no wonder that is not working.  I want (318.6, 43.7) but this has an RA range of 270 to 315"
   ]
  },
  {
   "cell_type": "code",
   "execution_count": 80,
   "id": "ef6845c0-6740-4b0f-b48a-2fb9356adc67",
   "metadata": {},
   "outputs": [],
   "source": [
    "tstars2 = Table.read(fits.open(dpath.parent / \"astrometry-net\" / \"index-5004-14.fits\")[13])"
   ]
  },
  {
   "cell_type": "code",
   "execution_count": 81,
   "id": "650092c3-334b-4fea-85bd-3fb0ccc2166c",
   "metadata": {},
   "outputs": [],
   "source": [
    "df2 = tstars2.to_pandas()"
   ]
  },
  {
   "cell_type": "code",
   "execution_count": 82,
   "id": "d287fb45-3746-45eb-9135-8ba655d01359",
   "metadata": {},
   "outputs": [
    {
     "data": {
      "text/html": [
       "<div>\n",
       "<style scoped>\n",
       "    .dataframe tbody tr th:only-of-type {\n",
       "        vertical-align: middle;\n",
       "    }\n",
       "\n",
       "    .dataframe tbody tr th {\n",
       "        vertical-align: top;\n",
       "    }\n",
       "\n",
       "    .dataframe thead th {\n",
       "        text-align: right;\n",
       "    }\n",
       "</style>\n",
       "<table border=\"1\" class=\"dataframe\">\n",
       "  <thead>\n",
       "    <tr style=\"text-align: right;\">\n",
       "      <th></th>\n",
       "      <th>ra</th>\n",
       "      <th>dec</th>\n",
       "    </tr>\n",
       "  </thead>\n",
       "  <tbody>\n",
       "    <tr>\n",
       "      <th>count</th>\n",
       "      <td>484000.000000</td>\n",
       "      <td>484000.000000</td>\n",
       "    </tr>\n",
       "    <tr>\n",
       "      <th>mean</th>\n",
       "      <td>340.058278</td>\n",
       "      <td>42.041017</td>\n",
       "    </tr>\n",
       "    <tr>\n",
       "      <th>std</th>\n",
       "      <td>10.589576</td>\n",
       "      <td>9.873239</td>\n",
       "    </tr>\n",
       "    <tr>\n",
       "      <th>min</th>\n",
       "      <td>315.036999</td>\n",
       "      <td>19.501184</td>\n",
       "    </tr>\n",
       "    <tr>\n",
       "      <th>25%</th>\n",
       "      <td>332.137109</td>\n",
       "      <td>34.682309</td>\n",
       "    </tr>\n",
       "    <tr>\n",
       "      <th>50%</th>\n",
       "      <td>339.974504</td>\n",
       "      <td>41.808876</td>\n",
       "    </tr>\n",
       "    <tr>\n",
       "      <th>75%</th>\n",
       "      <td>348.411307</td>\n",
       "      <td>49.212631</td>\n",
       "    </tr>\n",
       "    <tr>\n",
       "      <th>max</th>\n",
       "      <td>359.999834</td>\n",
       "      <td>66.401812</td>\n",
       "    </tr>\n",
       "  </tbody>\n",
       "</table>\n",
       "</div>"
      ],
      "text/plain": [
       "                  ra            dec\n",
       "count  484000.000000  484000.000000\n",
       "mean      340.058278      42.041017\n",
       "std        10.589576       9.873239\n",
       "min       315.036999      19.501184\n",
       "25%       332.137109      34.682309\n",
       "50%       339.974504      41.808876\n",
       "75%       348.411307      49.212631\n",
       "max       359.999834      66.401812"
      ]
     },
     "execution_count": 82,
     "metadata": {},
     "output_type": "execute_result"
    }
   ],
   "source": [
    "df2[[\"ra\", \"dec\"]].describe()"
   ]
  },
  {
   "cell_type": "markdown",
   "id": "8001c98f-b09d-4204-8e97-327793759d78",
   "metadata": {},
   "source": [
    "So, it turns out that tile 14 is what I needed, not 13."
   ]
  },
  {
   "cell_type": "code",
   "execution_count": null,
   "id": "3f8bc492-172d-44d1-8000-043bb924de25",
   "metadata": {},
   "outputs": [],
   "source": []
  }
 ],
 "metadata": {
  "jupytext": {
   "formats": "ipynb,py:light"
  },
  "kernelspec": {
   "display_name": "Python 3 (ipykernel)",
   "language": "python",
   "name": "python3"
  },
  "language_info": {
   "codemirror_mode": {
    "name": "ipython",
    "version": 3
   },
   "file_extension": ".py",
   "mimetype": "text/x-python",
   "name": "python",
   "nbconvert_exporter": "python",
   "pygments_lexer": "ipython3",
   "version": "3.11.11"
  }
 },
 "nbformat": 4,
 "nbformat_minor": 5
}
