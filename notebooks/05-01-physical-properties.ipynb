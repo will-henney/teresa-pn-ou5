{
 "cells": [
  {
   "cell_type": "markdown",
   "id": "318e0be8-2352-4851-80e0-9fb87cf4d87d",
   "metadata": {},
   "source": [
    "# Physical properties of Ou 5"
   ]
  },
  {
   "cell_type": "code",
   "execution_count": 1,
   "id": "b7137ef5-2c8a-4670-90d5-313c8b4daa4e",
   "metadata": {},
   "outputs": [],
   "source": [
    "import numpy as np\n",
    "import pyneb as pn"
   ]
  },
  {
   "cell_type": "markdown",
   "id": "c61ed694-17b4-4173-9470-123ceccdcb5b",
   "metadata": {},
   "source": [
    "## Ionization balance for H and He"
   ]
  },
  {
   "cell_type": "markdown",
   "id": "2d2635ad-40c6-4cd7-a0c8-d7406711b9bc",
   "metadata": {},
   "source": [
    "Note it is necessary to set these data files before we create the RecAtoms, otherwise the total recombination rate does not work"
   ]
  },
  {
   "cell_type": "code",
   "execution_count": 2,
   "id": "045d52da-6d70-4bcb-883c-017cc302f949",
   "metadata": {},
   "outputs": [],
   "source": [
    "pn.atomicData.setDataFile('h_i_trc_SH95-caseB.dat')\n",
    "pn.atomicData.setDataFile('he_ii_trc_SH95-caseB.dat')"
   ]
  },
  {
   "cell_type": "markdown",
   "id": "87736767-b099-4179-91f4-0f0721e696a3",
   "metadata": {},
   "source": [
    "### H alpha emission coefficient versus temperature\n",
    "\n",
    "We need this to estimate the emission measure of the differernt nebular components from the observed surface brightness"
   ]
  },
  {
   "cell_type": "code",
   "execution_count": 3,
   "id": "126d03e7-e72a-42bb-a9dc-f9a038f4acda",
   "metadata": {},
   "outputs": [],
   "source": [
    "H1 = pn.RecAtom('H', 1)"
   ]
  },
  {
   "cell_type": "code",
   "execution_count": 18,
   "id": "62ce6915-3631-4408-9ab9-28d79419b27a",
   "metadata": {},
   "outputs": [
    {
     "data": {
      "text/plain": [
       "array([[4.54200000e-24, 4.61200000e-24, 4.75800000e-24],\n",
       "       [2.61600000e-24, 2.62800000e-24, 2.65500000e-24],\n",
       "       [5.65600000e-25, 5.65150000e-25, 5.64500000e-25],\n",
       "       [3.53600000e-25, 3.53400000e-25, 3.53000000e-25],\n",
       "       [2.75338462e-25, 2.75138462e-25, 2.74884615e-25]])"
      ]
     },
     "execution_count": 18,
     "metadata": {},
     "output_type": "execute_result"
    }
   ],
   "source": [
    "H1.getEmissivity(tem=[500, 1000, 6000, 10000, 13000], den=[100, 1000, 10000], label=\"3_2\")"
   ]
  },
  {
   "cell_type": "markdown",
   "id": "f5174488-0d79-43d6-a7f3-b6827f10de9e",
   "metadata": {},
   "source": [
    "Density dependence (columns) is negligible: 2 or 3% positive gradient from 100 pcc to 1e4 pcc at low T, 0.02% negative gradient at high T. \n",
    "\n",
    "So constant pressure will have a slighty steeper temperature dependence than constant density"
   ]
  },
  {
   "cell_type": "code",
   "execution_count": 5,
   "id": "8b28ec64-b589-4618-b46b-7817d620aa53",
   "metadata": {},
   "outputs": [
    {
     "name": "stdout",
     "output_type": "stream",
     "text": [
      "Storey and Hummer 1995, MNRAS, 272, 41\n",
      "Ref. 15291 of NIST 2014 (try this: http://physics.nist.gov/cgi-bin/ASBib1/get_ASBib_ref.cgi?db=el&db_id=15291&comment_code=&element=H&spectr_charge=1&\n"
     ]
    }
   ],
   "source": [
    "H1.printSources()"
   ]
  },
  {
   "cell_type": "markdown",
   "id": "b9625cb5-6730-4281-a1ec-3deb70249a3e",
   "metadata": {},
   "source": [
    "### He++ recombination coefficient versus temperature"
   ]
  },
  {
   "cell_type": "code",
   "execution_count": 6,
   "id": "98cb5b88-60e6-4ad1-894a-7fa6cb92ba8c",
   "metadata": {},
   "outputs": [],
   "source": [
    "He2 = pn.RecAtom(\"He\", 2)"
   ]
  },
  {
   "cell_type": "code",
   "execution_count": 7,
   "id": "a70c5e38-48fb-43bd-aa79-00aeaab40e7c",
   "metadata": {},
   "outputs": [
    {
     "data": {
      "text/plain": [
       "array([1.31400000e-11, 7.98400000e-12, 2.25992217e-12, 1.53600000e-12,\n",
       "       1.26164500e-12])"
      ]
     },
     "execution_count": 7,
     "metadata": {},
     "output_type": "execute_result"
    }
   ],
   "source": [
    "He2.getTotRecombination(tem=[500, 1000, 6000, 10000, 13000], den=1000)"
   ]
  },
  {
   "cell_type": "code",
   "execution_count": 8,
   "id": "71ca388a-271e-431f-8053-955dc8cf069f",
   "metadata": {},
   "outputs": [
    {
     "name": "stdout",
     "output_type": "stream",
     "text": [
      "Storey and Hummer 1995\n",
      "Ref.  of NIST 2014 (try this: http://physics.nist.gov/cgi-bin/ASBib1/get_ASBib_ref.cgi?db=el&db_id=&comment_code=&element=He&spectr_charge=2&\n",
      "Ref. 3620c107 of NIST 2014 (try this: http://physics.nist.gov/cgi-bin/ASBib1/get_ASBib_ref.cgi?db=el&db_id=3620c107&comment_code=&element=He&spectr_charge=2&\n"
     ]
    }
   ],
   "source": [
    "He2.printSources()"
   ]
  },
  {
   "cell_type": "code",
   "execution_count": 9,
   "id": "f89261bb-088e-4608-a4e1-e320d9044dc7",
   "metadata": {},
   "outputs": [
    {
     "data": {
      "text/plain": [
       "['* 3he_ii_atom_cloudy.dat',\n",
       " '* 3he_ii_coll_cloudy.dat',\n",
       " '* he_ii_rec_SH95.hdf5',\n",
       " '* he_ii_trc_SH95-caseB.dat',\n",
       " 'he_ii_rec_P91.func',\n",
       " 'he_ii_rec_SH95-caseA.fits',\n",
       " 'he_ii_rec_SH95-caseA.hdf5',\n",
       " 'he_ii_rec_SH95.fits',\n",
       " 'he_ii_trc_SH95-caseA.dat']"
      ]
     },
     "execution_count": 9,
     "metadata": {},
     "output_type": "execute_result"
    }
   ],
   "source": [
    "pn.atomicData.getAllAvailableFiles(\"He2\")"
   ]
  },
  {
   "cell_type": "code",
   "execution_count": 10,
   "id": "cf2404a5-1bf2-4136-9a63-0415204f582e",
   "metadata": {},
   "outputs": [
    {
     "data": {
      "text/plain": [
       "\u001b[0;31mSignature:\u001b[0m \u001b[0mHe2\u001b[0m\u001b[0;34m.\u001b[0m\u001b[0mgetTotRecombination\u001b[0m\u001b[0;34m(\u001b[0m\u001b[0mtem\u001b[0m\u001b[0;34m,\u001b[0m \u001b[0mden\u001b[0m\u001b[0;34m,\u001b[0m \u001b[0mmethod\u001b[0m\u001b[0;34m=\u001b[0m\u001b[0;34m'linear'\u001b[0m\u001b[0;34m)\u001b[0m\u001b[0;34m\u001b[0m\u001b[0;34m\u001b[0m\u001b[0m\n",
       "\u001b[0;31mDocstring:\u001b[0m\n",
       "Return the total recombination coefficient. The case (A or B) is set by selecting the corresponding trc file.\n",
       "\n",
       "Parameters:\n",
       "    tem:  temperature \n",
       "    den: density\n",
       "    method:    interpolation method in the grid ('linear' = default, 'nearest', 'cubic')    \n",
       "    \n",
       "**Usage:**\n",
       "    atomicData.setDataFile('h_i_trc_SH95-caseA.dat')\n",
       "    h1.getTotRecombination(tem=10000, den=5.e3)\n",
       "        \n",
       "\u001b[0;31mSource:\u001b[0m   \n",
       "    \u001b[0;32mdef\u001b[0m \u001b[0mgetTotRecombination\u001b[0m\u001b[0;34m(\u001b[0m\u001b[0mself\u001b[0m\u001b[0;34m,\u001b[0m \u001b[0mtem\u001b[0m\u001b[0;34m,\u001b[0m \u001b[0mden\u001b[0m\u001b[0;34m,\u001b[0m \u001b[0mmethod\u001b[0m\u001b[0;34m=\u001b[0m\u001b[0;34m'linear'\u001b[0m\u001b[0;34m)\u001b[0m\u001b[0;34m:\u001b[0m\u001b[0;34m\u001b[0m\n",
       "\u001b[0;34m\u001b[0m        \u001b[0;34m\"\"\"\u001b[0m\n",
       "\u001b[0;34m        Return the total recombination coefficient. The case (A or B) is set by selecting the corresponding trc file.\u001b[0m\n",
       "\u001b[0;34m    \u001b[0m\n",
       "\u001b[0;34m        Parameters:\u001b[0m\n",
       "\u001b[0;34m            tem:  temperature \u001b[0m\n",
       "\u001b[0;34m            den: density\u001b[0m\n",
       "\u001b[0;34m            method:    interpolation method in the grid ('linear' = default, 'nearest', 'cubic')    \u001b[0m\n",
       "\u001b[0;34m            \u001b[0m\n",
       "\u001b[0;34m        **Usage:**\u001b[0m\n",
       "\u001b[0;34m            atomicData.setDataFile('h_i_trc_SH95-caseA.dat')\u001b[0m\n",
       "\u001b[0;34m            h1.getTotRecombination(tem=10000, den=5.e3)\u001b[0m\n",
       "\u001b[0;34m                \u001b[0m\n",
       "\u001b[0;34m        \"\"\"\u001b[0m \u001b[0;34m\u001b[0m\n",
       "\u001b[0;34m\u001b[0m        \u001b[0mself\u001b[0m\u001b[0;34m.\u001b[0m\u001b[0mcalling\u001b[0m \u001b[0;34m=\u001b[0m \u001b[0;34m'getTotRecombination'\u001b[0m\u001b[0;34m\u001b[0m\n",
       "\u001b[0;34m\u001b[0m        \u001b[0;32mif\u001b[0m \u001b[0;34m'trc'\u001b[0m \u001b[0;32min\u001b[0m \u001b[0matomicData\u001b[0m\u001b[0;34m.\u001b[0m\u001b[0mgetDataFile\u001b[0m\u001b[0;34m(\u001b[0m\u001b[0;34m)\u001b[0m\u001b[0;34m[\u001b[0m\u001b[0mself\u001b[0m\u001b[0;34m.\u001b[0m\u001b[0matom\u001b[0m\u001b[0;34m]\u001b[0m\u001b[0;34m.\u001b[0m\u001b[0mkeys\u001b[0m\u001b[0;34m(\u001b[0m\u001b[0;34m)\u001b[0m\u001b[0;34m:\u001b[0m\u001b[0;34m\u001b[0m\n",
       "\u001b[0;34m\u001b[0m            \u001b[0;32mreturn\u001b[0m \u001b[0minterpolate\u001b[0m\u001b[0;34m.\u001b[0m\u001b[0mgriddata\u001b[0m\u001b[0;34m(\u001b[0m\u001b[0;34m(\u001b[0m\u001b[0mself\u001b[0m\u001b[0;34m.\u001b[0m\u001b[0mlg_den_grid\u001b[0m\u001b[0;34m.\u001b[0m\u001b[0mravel\u001b[0m\u001b[0;34m(\u001b[0m\u001b[0;34m)\u001b[0m\u001b[0;34m,\u001b[0m \u001b[0mself\u001b[0m\u001b[0;34m.\u001b[0m\u001b[0mlg_tem_grid\u001b[0m\u001b[0;34m.\u001b[0m\u001b[0mravel\u001b[0m\u001b[0;34m(\u001b[0m\u001b[0;34m)\u001b[0m\u001b[0;34m)\u001b[0m\u001b[0;34m,\u001b[0m \u001b[0mself\u001b[0m\u001b[0;34m.\u001b[0m\u001b[0malpha_grid\u001b[0m\u001b[0;34m.\u001b[0m\u001b[0mravel\u001b[0m\u001b[0;34m(\u001b[0m\u001b[0;34m)\u001b[0m\u001b[0;34m,\u001b[0m \u001b[0;34m(\u001b[0m\u001b[0mnp\u001b[0m\u001b[0;34m.\u001b[0m\u001b[0mlog10\u001b[0m\u001b[0;34m(\u001b[0m\u001b[0mden\u001b[0m\u001b[0;34m)\u001b[0m\u001b[0;34m,\u001b[0m \u001b[0mnp\u001b[0m\u001b[0;34m.\u001b[0m\u001b[0mlog10\u001b[0m\u001b[0;34m(\u001b[0m\u001b[0mtem\u001b[0m\u001b[0;34m)\u001b[0m\u001b[0;34m)\u001b[0m\u001b[0;34m,\u001b[0m \u001b[0mmethod\u001b[0m\u001b[0;34m=\u001b[0m\u001b[0mmethod\u001b[0m\u001b[0;34m)\u001b[0m\u001b[0;34m\u001b[0m\n",
       "\u001b[0;34m\u001b[0m        \u001b[0;32melse\u001b[0m\u001b[0;34m:\u001b[0m\u001b[0;34m\u001b[0m\n",
       "\u001b[0;34m\u001b[0m            \u001b[0mself\u001b[0m\u001b[0;34m.\u001b[0m\u001b[0mlog_\u001b[0m\u001b[0;34m.\u001b[0m\u001b[0mwarn\u001b[0m\u001b[0;34m(\u001b[0m\u001b[0;34m'No recombination data available for {0} in the adopted dictionary (but data may exist: please query atomicData.getAllAvailableFiles(\"<atom>\") for trc files)'\u001b[0m\u001b[0;34m.\u001b[0m\u001b[0mformat\u001b[0m\u001b[0;34m(\u001b[0m\u001b[0mself\u001b[0m\u001b[0;34m.\u001b[0m\u001b[0matom\u001b[0m\u001b[0;34m)\u001b[0m\u001b[0;34m,\u001b[0m \u001b[0mcalling\u001b[0m\u001b[0;34m=\u001b[0m\u001b[0mself\u001b[0m\u001b[0;34m.\u001b[0m\u001b[0mcalling\u001b[0m\u001b[0;34m)\u001b[0m\u001b[0;34m\u001b[0m\n",
       "\u001b[0;34m\u001b[0m            \u001b[0;32mreturn\u001b[0m \u001b[0;32mNone\u001b[0m\u001b[0;34m\u001b[0m\u001b[0;34m\u001b[0m\u001b[0m\n",
       "\u001b[0;31mFile:\u001b[0m      ~/Dropbox/teresa-pn-ou5/.venv/lib/python3.11/site-packages/pyneb/core/pynebcore.py\n",
       "\u001b[0;31mType:\u001b[0m      method"
      ]
     },
     "metadata": {},
     "output_type": "display_data"
    }
   ],
   "source": [
    "He2.getTotRecombination??"
   ]
  },
  {
   "cell_type": "code",
   "execution_count": 11,
   "id": "30af2e11-3a4a-4ed0-90d9-a575768f58b7",
   "metadata": {},
   "outputs": [
    {
     "data": {
      "text/plain": [
       "array(2.59219382e-13)"
      ]
     },
     "execution_count": 11,
     "metadata": {},
     "output_type": "execute_result"
    }
   ],
   "source": [
    "H1.getTotRecombination(tem=10000, den=5.e3)"
   ]
  },
  {
   "cell_type": "code",
   "execution_count": 16,
   "id": "3513a304-b18b-4304-bbb7-ad4278e6c2e2",
   "metadata": {},
   "outputs": [
    {
     "data": {
      "text/plain": [
       "{'H1': {'rec': 'h_i_rec_SH95.hdf5', 'trc': 'h_i_trc_SH95-caseB.dat'},\n",
       " 'He1': {'rec': 'he_i_rec_Pal12-Pal13.hdf5'},\n",
       " 'He2': {'rec': 'he_ii_rec_SH95.hdf5', 'trc': 'he_ii_trc_SH95-caseB.dat'},\n",
       " 'Al2': {'atom': 'al_ii_atom_JSP86-HK87-VVF96-KS86.dat',\n",
       "  'coll': 'al_ii_coll_KHAF92-TBK85-TBK84.dat'},\n",
       " 'Ar2': {'atom': 'ar_ii_atom_Bal06.dat', 'coll': 'ar_ii_coll_PB95.dat'},\n",
       " 'Ar3': {'atom': 'ar_iii_atom_MB09.dat', 'coll': 'ar_iii_coll_MB09.dat'},\n",
       " 'Ar4': {'atom': 'ar_iv_atom_RGJ19.dat', 'coll': 'ar_iv_coll_RB97.dat'},\n",
       " 'Ar5': {'atom': 'ar_v_atom_LL93-MZ82-KS86.dat',\n",
       "  'coll': 'ar_v_coll_GMZ95.dat'},\n",
       " 'Ba2': {'atom': 'ba_ii_atom_C04.dat', 'coll': 'ba_ii_coll_SB98.dat'},\n",
       " 'Ba4': {'atom': 'ba_iv_atom_BHQZ95.dat', 'coll': 'ba_iv_coll_SB98.dat'},\n",
       " 'C1': {'atom': 'c_i_atom_FFS85.dat',\n",
       "  'coll': 'c_i_coll_JBK87-PA76.dat',\n",
       "  'rec': 'c_i_rec_P91.func'},\n",
       " 'C2': {'atom': 'c_ii_atom_GMZ98.dat',\n",
       "  'coll': 'c_ii_coll_BP92.dat',\n",
       "  'rec': 'c_ii_rec_D00.func'},\n",
       " 'C3': {'atom': 'c_iii_atom_G83-NS78-WFD96.dat',\n",
       "  'coll': 'c_iii_coll_Bal85.dat',\n",
       "  'rec': 'c_iii_rec_P91.func'},\n",
       " 'C4': {'atom': 'c_iv_atom_WFD96.dat',\n",
       "  'coll': 'c_iv_coll_AK04.dat',\n",
       "  'rec': 'c_iv_rec_P91.func'},\n",
       " 'Ca5': {'atom': 'ca_v_atom_M83-KS86.dat', 'coll': 'ca_v_coll_GMZ95.dat'},\n",
       " 'Cl2': {'atom': 'cl_ii_atom_MZ83.dat', 'coll': 'cl_ii_coll_T04.dat'},\n",
       " 'Cl3': {'atom': 'cl_iii_atom_RGJ19.dat', 'coll': 'cl_iii_coll_BZ89.dat'},\n",
       " 'Cl4': {'atom': 'cl_iv_atom_KS86-MZ82-EM84.dat',\n",
       "  'coll': 'cl_iv_coll_GMZ95.dat'},\n",
       " 'Fe3': {'atom': 'fe_iii_atom_BB14_144.dat',\n",
       "  'coll': 'fe_iii_coll_BB14_144.dat'},\n",
       " 'K4': {'atom': 'k_iv_atom_M83-KS86.dat', 'coll': 'k_iv_coll_GMZ95.dat'},\n",
       " 'K5': {'atom': 'k_v_atom_M83-KS86.dat', 'coll': 'k_v_coll_BZL88.dat'},\n",
       " 'Mg5': {'atom': 'mg_v_atom_GMZ97.dat', 'coll': 'mg_v_coll_BZ94.dat'},\n",
       " 'Mg7': {'atom': 'mg_vii_atom_GMZ97.dat', 'coll': 'mg_vii_coll_LB94-U.dat'},\n",
       " 'N1': {'atom': 'n_i_atom_KS86-WFD96.dat',\n",
       "  'coll': 'n_i_coll_PA76-DMR76.dat',\n",
       "  'rec': 'n_i_rec_P91.func'},\n",
       " 'N2': {'atom': 'n_ii_atom_FFT04.dat',\n",
       "  'coll': 'n_ii_coll_T11.dat',\n",
       "  'rec': 'n_ii_rec_FSL11.func'},\n",
       " 'N3': {'atom': 'n_iii_atom_GMZ98.dat',\n",
       "  'coll': 'n_iii_coll_BP92.dat',\n",
       "  'rec': 'n_iii_rec_P91.func'},\n",
       " 'N4': {'atom': 'n_iv_atom_WFD96.dat',\n",
       "  'coll': 'n_iv_coll_RBHB94.dat',\n",
       "  'rec': 'n_iv_rec_P91.func'},\n",
       " 'Na4': {'atom': 'na_iv_atom_GMZ97.dat', 'coll': 'na_iv_coll_BZ94.dat'},\n",
       " 'Na6': {'atom': 'na_vi_atom_GMZ97.dat', 'coll': 'na_vi_coll_LB94.dat'},\n",
       " 'Ne2': {'atom': 'ne_ii_atom_Bal06.dat',\n",
       "  'coll': 'ne_ii_coll_GMB01.dat',\n",
       "  'rec': 'ne_ii_rec_KSDN98.func'},\n",
       " 'Ne3': {'atom': 'ne_iii_atom_GMZ97.dat', 'coll': 'ne_iii_coll_McLB00.dat'},\n",
       " 'Ne4': {'atom': 'ne_iv_atom_GFF84.dat', 'coll': 'ne_iv_coll_G81.dat'},\n",
       " 'Ne5': {'atom': 'ne_v_atom_GMZ97-U-BD93.dat', 'coll': 'ne_v_coll_DPNP13.dat'},\n",
       " 'Ne6': {'atom': 'ne_vi_atom_GMZ98.dat', 'coll': 'ne_vi_coll_ZGP94.dat'},\n",
       " 'Ni3': {'atom': 'ni_iii_atom_B01.dat', 'coll': 'ni_iii_coll_B01.dat'},\n",
       " 'O1': {'atom': 'o_i_atom_WFD96.dat',\n",
       "  'coll': 'o_i_coll_BK95.dat',\n",
       "  'rec': 'o_i_rec_P91.func'},\n",
       " 'O2': {'atom': 'o_ii_atom_Z82-WFD96.dat',\n",
       "  'coll': 'o_ii_coll_Kal09.dat',\n",
       "  'rec': 'o_ii_rec_SSB17-B-opt.hdf5'},\n",
       " 'O3': {'atom': 'o_iii_atom_FFT04-SZ00.dat',\n",
       "  'coll': 'o_iii_coll_SSB14.dat',\n",
       "  'rec': 'o_iii_rec_P91.func'},\n",
       " 'O4': {'atom': 'o_iv_atom_GMZ98.dat',\n",
       "  'coll': 'o_iv_coll_BP92.dat',\n",
       "  'rec': 'o_iv_rec_P91.func'},\n",
       " 'O5': {'atom': 'o_v_atom_H80-NS79.dat',\n",
       "  'coll': 'o_v_coll_BBDK85.dat',\n",
       "  'rec': 'o_v_rec_P91.func'},\n",
       " 'S2': {'atom': 's_ii_atom_RGJ19.dat', 'coll': 's_ii_coll_TZ10.dat'},\n",
       " 'S3': {'atom': 's_iii_atom_FFTI06.dat', 'coll': 's_iii_coll_TG99.dat'},\n",
       " 'S4': {'atom': 's_iv_atom_JKD86-DHKD82.dat', 'coll': 's_iv_coll_DHKD82.dat'},\n",
       " 'Si2': {'atom': 'si_ii_atom_BL93-CSB93-N77.dat',\n",
       "  'coll': 'si_ii_coll_DK91.dat'},\n",
       " 'Si3': {'atom': 'si_iii_atom_M83-OKH88-FW90-KS86.dat',\n",
       "  'coll': 'si_iii_coll_DK94.dat'},\n",
       " 'Xe3': {'atom': 'xe_iii_atom_BHQZ95.dat', 'coll': 'xe_iii_coll_SB98.dat'},\n",
       " 'Xe4': {'atom': 'xe_iv_atom_BHQZ95.dat', 'coll': 'xe_iv_coll_SB98.dat'},\n",
       " 'Xe6': {'atom': 'xe_vi_atom_BHQZ95.dat', 'coll': 'xe_vi_coll_SB98.dat'},\n",
       " 'Kr3': {'atom': 'kr_iii_atom_BH86.dat', 'coll': 'kr_iii_coll_S97.dat'},\n",
       " 'Kr4': {'atom': 'kr_iv_atom_BH86.dat', 'coll': 'kr_iv_coll_S97.dat'},\n",
       " 'Kr5': {'atom': 'kr_v_atom_BH86.dat', 'coll': 'kr_v_coll_S97.dat'},\n",
       " 'Se3': {'atom': 'se_iii_atom_S17.dat', 'coll': 'se_iii_coll_S17.dat'},\n",
       " 'Se4': {'atom': 'se_iv_atom_B05.dat', 'coll': 'se_iv_coll_B05.dat'},\n",
       " 'Br3': {'atom': 'br_iii_atom_BH86.dat', 'coll': 'br_iii_coll_S97.dat'},\n",
       " 'Br4': {'atom': 'br_iv_atom_BH86.dat', 'coll': 'br_iv_coll_S97.dat'},\n",
       " 'Rb4': {'atom': 'rb_iv_atom_S16.dat', 'coll': 'rb_iv_coll_S16.dat'},\n",
       " 'Rb5': {'atom': 'rb_v_atom_BH86.dat', 'coll': 'rb_v_coll_S97.dat'},\n",
       " 'Rb6': {'atom': 'rb_vi_atom_BH86.dat', 'coll': 'rb_vi_coll_S97.dat'},\n",
       " 'Fe4': {'atom': 'fe_iv_atom_FFRR08.dat', 'coll': 'fe_iv_coll_ZP97.dat'},\n",
       " 'Fe5': {'atom': 'fe_v_atom_Nal00.dat', 'coll': 'fe_v_coll_BGMcL07.dat'},\n",
       " 'Fe6': {'atom': 'fe_vi_atom_CP00.dat', 'coll': 'fe_vi_coll_CP99.dat'},\n",
       " 'Fe7': {'atom': 'fe_vii_atom_WB08.dat', 'coll': 'fe_vii_coll_WB08.dat'},\n",
       " '3He2': {'atom': '3he_ii_atom_cloudy.dat', 'coll': '3he_ii_coll_cloudy.dat'},\n",
       " 'Fe2': {'atom': 'fe_ii_atom_TZ18_173.dat', 'coll': 'fe_ii_coll_TZ18_173.dat'},\n",
       " 'P2': {'atom': 'p_ii_atom_MZ82.dat', 'coll': 'p_ii_coll_T04.dat'},\n",
       " 'N5': {'rec': 'n_v_rec_P91.func'},\n",
       " 'O6': {'rec': 'o_vi_rec_P91.func'},\n",
       " 'Te3': {'atom': 'te_iii_atom_M18.dat', 'coll': 'te_iii_coll_M18.dat'},\n",
       " 'Kr6': {'atom': 'kr_vi_atom_S17.dat', 'coll': 'kr_vi_coll_S17.dat'},\n",
       " 'Br5': {'atom': 'br_v_atom_M18.dat', 'coll': 'br_v_coll_M18.dat'}}"
      ]
     },
     "execution_count": 16,
     "metadata": {},
     "output_type": "execute_result"
    }
   ],
   "source": [
    "pn.atomicData.getDataFile()"
   ]
  },
  {
   "cell_type": "code",
   "execution_count": null,
   "id": "4f9bef9b-b88b-4107-8a4f-a15a1b6ab817",
   "metadata": {},
   "outputs": [],
   "source": []
  }
 ],
 "metadata": {
  "kernelspec": {
   "display_name": "Python 3 (ipykernel)",
   "language": "python",
   "name": "python3"
  },
  "language_info": {
   "codemirror_mode": {
    "name": "ipython",
    "version": 3
   },
   "file_extension": ".py",
   "mimetype": "text/x-python",
   "name": "python",
   "nbconvert_exporter": "python",
   "pygments_lexer": "ipython3",
   "version": "3.11.11"
  }
 },
 "nbformat": 4,
 "nbformat_minor": 5
}
