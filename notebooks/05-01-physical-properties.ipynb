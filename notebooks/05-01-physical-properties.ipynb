{
 "cells": [
  {
   "cell_type": "markdown",
   "id": "318e0be8-2352-4851-80e0-9fb87cf4d87d",
   "metadata": {},
   "source": [
    "# Physical properties of Ou 5"
   ]
  },
  {
   "cell_type": "code",
   "execution_count": 28,
   "id": "b7137ef5-2c8a-4670-90d5-313c8b4daa4e",
   "metadata": {},
   "outputs": [],
   "source": [
    "import numpy as np\n",
    "import pyneb as pn\n",
    "from astropy import constants\n",
    "import astropy.units as u"
   ]
  },
  {
   "cell_type": "markdown",
   "id": "c61ed694-17b4-4173-9470-123ceccdcb5b",
   "metadata": {},
   "source": [
    "## Ionization balance for H and He"
   ]
  },
  {
   "cell_type": "markdown",
   "id": "2d2635ad-40c6-4cd7-a0c8-d7406711b9bc",
   "metadata": {},
   "source": [
    "Note it is necessary to set these data files before we create the RecAtoms, otherwise the total recombination rate does not work"
   ]
  },
  {
   "cell_type": "code",
   "execution_count": 2,
   "id": "045d52da-6d70-4bcb-883c-017cc302f949",
   "metadata": {},
   "outputs": [],
   "source": [
    "pn.atomicData.setDataFile('h_i_trc_SH95-caseB.dat')\n",
    "pn.atomicData.setDataFile('he_ii_trc_SH95-caseB.dat')"
   ]
  },
  {
   "cell_type": "markdown",
   "id": "2d5de293-306b-4347-934d-3d8e8541e387",
   "metadata": {},
   "source": [
    "### Temperature and density samples"
   ]
  },
  {
   "cell_type": "code",
   "execution_count": 19,
   "id": "89d061f6-ea49-4462-9020-9d14b91e16ca",
   "metadata": {},
   "outputs": [],
   "source": [
    "temps = np.array([500, 1000, 6000, 10000, 13000])\n",
    "dens = np.array([100, 1000, 10000])"
   ]
  },
  {
   "cell_type": "markdown",
   "id": "87736767-b099-4179-91f4-0f0721e696a3",
   "metadata": {},
   "source": [
    "### H alpha emission coefficient versus temperature\n",
    "\n",
    "We need this to estimate the emission measure of the differernt nebular components from the observed surface brightness"
   ]
  },
  {
   "cell_type": "code",
   "execution_count": 3,
   "id": "126d03e7-e72a-42bb-a9dc-f9a038f4acda",
   "metadata": {},
   "outputs": [],
   "source": [
    "H1 = pn.RecAtom('H', 1)"
   ]
  },
  {
   "cell_type": "markdown",
   "id": "34ca4fb0-ea17-4bf5-8374-da33322c9317",
   "metadata": {},
   "source": [
    "Case B recombination rate"
   ]
  },
  {
   "cell_type": "code",
   "execution_count": 37,
   "id": "30af2e11-3a4a-4ed0-90d9-a575768f58b7",
   "metadata": {},
   "outputs": [
    {
     "data": {
      "text/plain": [
       "array([[2.49300000e-12, 2.57300000e-12, 2.72000000e-12],\n",
       "       [1.51200000e-12, 1.53500000e-12, 1.57900000e-12],\n",
       "       [3.96037430e-13, 3.96922668e-13, 3.98583076e-13],\n",
       "       [2.58500000e-13, 2.58800000e-13, 2.59400000e-13],\n",
       "       [2.07774355e-13, 2.08031331e-13, 2.08231331e-13]])"
      ]
     },
     "execution_count": 37,
     "metadata": {},
     "output_type": "execute_result"
    }
   ],
   "source": [
    "alpha_H_B = H1.getTotRecombination(tem=temps[:, None], den=dens)\n",
    "alpha_H_B "
   ]
  },
  {
   "cell_type": "markdown",
   "id": "19f0835c-ff75-4499-9f8a-4e1eace5931b",
   "metadata": {},
   "source": [
    "H alpha emissivity in erg.s-1.cm3"
   ]
  },
  {
   "cell_type": "code",
   "execution_count": 38,
   "id": "62ce6915-3631-4408-9ab9-28d79419b27a",
   "metadata": {},
   "outputs": [
    {
     "data": {
      "text/plain": [
       "array([[4.54200000e-24, 4.61200000e-24, 4.75800000e-24],\n",
       "       [2.61600000e-24, 2.62800000e-24, 2.65500000e-24],\n",
       "       [5.65600000e-25, 5.65150000e-25, 5.64500000e-25],\n",
       "       [3.53600000e-25, 3.53400000e-25, 3.53000000e-25],\n",
       "       [2.75338462e-25, 2.75138462e-25, 2.74884615e-25]])"
      ]
     },
     "execution_count": 38,
     "metadata": {},
     "output_type": "execute_result"
    }
   ],
   "source": [
    "j_6563 = H1.getEmissivity(tem=temps, den=dens, label=\"3_2\")\n",
    "j_6563"
   ]
  },
  {
   "cell_type": "markdown",
   "id": "f5174488-0d79-43d6-a7f3-b6827f10de9e",
   "metadata": {},
   "source": [
    "Density dependence (columns) is negligible: 2 or 3% positive gradient from 100 pcc to 1e4 pcc at low T, 0.02% negative gradient at high T. \n",
    "\n",
    "So constant pressure will have a slighty steeper temperature dependence than constant density"
   ]
  },
  {
   "cell_type": "markdown",
   "id": "99e0e3fb-fc50-4a15-b7b7-6c46d43b7d2b",
   "metadata": {},
   "source": [
    "Energy of an H alpha photon"
   ]
  },
  {
   "cell_type": "code",
   "execution_count": 39,
   "id": "febc35d4-0492-4b79-ab33-c02f3e539b40",
   "metadata": {},
   "outputs": [
    {
     "data": {
      "text/plain": [
       "3.0268193154262724e-12"
      ]
     },
     "execution_count": 39,
     "metadata": {},
     "output_type": "execute_result"
    }
   ],
   "source": [
    "E_6563 = (constants.c * constants.h / (H1.getWave(3, 2) * u.angstrom)).cgs\n",
    "E_6563.value"
   ]
  },
  {
   "cell_type": "markdown",
   "id": "6d07fd66-8613-4275-9500-a4614971ed72",
   "metadata": {},
   "source": [
    "Fraction of Case B recombinations that produce H alpha"
   ]
  },
  {
   "cell_type": "code",
   "execution_count": 41,
   "id": "6fcdd68b-babd-4aaa-ab31-d4dcde45a44a",
   "metadata": {
    "scrolled": true
   },
   "outputs": [
    {
     "data": {
      "text/plain": [
       "array([[0.60191942, 0.59219265, 0.57792175],\n",
       "       [0.57160952, 0.56562746, 0.55551514],\n",
       "       [0.47183122, 0.47040435, 0.46790598],\n",
       "       [0.4519238 , 0.45114461, 0.44959165],\n",
       "       [0.43781279, 0.43695434, 0.43613191]])"
      ]
     },
     "execution_count": 41,
     "metadata": {},
     "output_type": "execute_result"
    }
   ],
   "source": [
    "f_6563 = j_6563 / E_6563.value / alpha_H_B\n",
    "f_6563"
   ]
  },
  {
   "cell_type": "markdown",
   "id": "a908dd57-2752-4c16-91a2-dd59907932f0",
   "metadata": {},
   "source": [
    "So the fraction $f_{6563}$ is about 0.6 for T <= 1000 K, as opposed to 0.45 for 10,000 K.  And with almost no dependence on density"
   ]
  },
  {
   "cell_type": "markdown",
   "id": "2dd63f61-e0bc-42ab-aacb-b243b6740522",
   "metadata": {},
   "source": [
    "And do the Balmer decrement"
   ]
  },
  {
   "cell_type": "code",
   "execution_count": 58,
   "id": "b1ae2b79-cb71-47db-9d6b-ca896d10e60f",
   "metadata": {},
   "outputs": [
    {
     "data": {
      "text/plain": [
       "array([[3.98071867, 3.85296575, 3.67981439],\n",
       "       [3.66181411, 3.58869316, 3.48288076],\n",
       "       [2.99417681, 2.98153521, 2.96092316],\n",
       "       [2.86315789, 2.85691188, 2.84677419],\n",
       "       [2.81399371, 2.80927734, 2.8013609 ]])"
      ]
     },
     "execution_count": 58,
     "metadata": {},
     "output_type": "execute_result"
    }
   ],
   "source": [
    "j_4861 = H1.getEmissivity(tem=temps, den=dens, label=\"4_2\")\n",
    "j_6563 / j_4861"
   ]
  },
  {
   "cell_type": "code",
   "execution_count": null,
   "id": "98c609c9-b00e-470e-b9f4-97646a43887a",
   "metadata": {},
   "outputs": [],
   "source": []
  },
  {
   "cell_type": "markdown",
   "id": "0f5715d0-da81-4f9a-a222-a349b74320a5",
   "metadata": {},
   "source": [
    "### He++ recombination coefficient versus temperature"
   ]
  },
  {
   "cell_type": "code",
   "execution_count": 6,
   "id": "98cb5b88-60e6-4ad1-894a-7fa6cb92ba8c",
   "metadata": {},
   "outputs": [],
   "source": [
    "He2 = pn.RecAtom(\"He\", 2)"
   ]
  },
  {
   "cell_type": "code",
   "execution_count": 42,
   "id": "a70c5e38-48fb-43bd-aa79-00aeaab40e7c",
   "metadata": {},
   "outputs": [
    {
     "data": {
      "text/plain": [
       "array([[1.26200000e-11, 1.31400000e-11, 1.41200000e-11],\n",
       "       [7.82600000e-12, 7.98400000e-12, 8.27700000e-12],\n",
       "       [2.25362013e-12, 2.25992217e-12, 2.27332489e-12],\n",
       "       [1.53300000e-12, 1.53600000e-12, 1.54100000e-12],\n",
       "       [1.26064500e-12, 1.26164500e-12, 1.26464500e-12]])"
      ]
     },
     "execution_count": 42,
     "metadata": {},
     "output_type": "execute_result"
    }
   ],
   "source": [
    "alpha_He_B = He2.getTotRecombination(tem=temps[:, None], den=dens)\n",
    "alpha_He_B"
   ]
  },
  {
   "cell_type": "code",
   "execution_count": 44,
   "id": "b81e7909-4191-41ef-8a95-2cce4d2dbfe5",
   "metadata": {},
   "outputs": [
    {
     "data": {
      "text/plain": [
       "array([[2.43300000e-24, 2.54000000e-24, 2.71500000e-24],\n",
       "       [1.46400000e-24, 1.49100000e-24, 1.53400000e-24],\n",
       "       [3.30350000e-25, 3.30150000e-25, 3.29350000e-25],\n",
       "       [2.02700000e-25, 2.02400000e-25, 2.01700000e-25],\n",
       "       [1.55361538e-25, 1.55061538e-25, 1.54507692e-25]])"
      ]
     },
     "execution_count": 44,
     "metadata": {},
     "output_type": "execute_result"
    }
   ],
   "source": [
    "j_6560 = He2.getEmissivity(tem=temps, den=dens, label=\"6_4\")\n",
    "j_6560"
   ]
  },
  {
   "cell_type": "code",
   "execution_count": 16,
   "id": "26fc441a-f1f0-4964-b21a-3e22f69bcbb2",
   "metadata": {},
   "outputs": [
    {
     "data": {
      "text/plain": [
       "6559.876637343726"
      ]
     },
     "execution_count": 16,
     "metadata": {},
     "output_type": "execute_result"
    }
   ],
   "source": [
    "He2.getWave(6, 4)"
   ]
  },
  {
   "cell_type": "markdown",
   "id": "4eeba44e-a06c-4396-87eb-4a853327bad0",
   "metadata": {},
   "source": [
    "Energy of an He II 6560 photon"
   ]
  },
  {
   "cell_type": "code",
   "execution_count": 45,
   "id": "75f4ba8f-aeac-4808-88b4-e11e6458c826",
   "metadata": {},
   "outputs": [
    {
     "data": {
      "text/plain": [
       "3.0281756303778526e-12"
      ]
     },
     "execution_count": 45,
     "metadata": {},
     "output_type": "execute_result"
    }
   ],
   "source": [
    "E_6560 = (constants.c * constants.h / (He2.getWave(6, 4) * u.angstrom)).cgs\n",
    "E_6560.value"
   ]
  },
  {
   "cell_type": "markdown",
   "id": "817b269e-8b8f-4107-b476-bf5fec8d5de4",
   "metadata": {},
   "source": [
    "Fraction of He++ Case B recombinations that produce He II 6560"
   ]
  },
  {
   "cell_type": "code",
   "execution_count": 46,
   "id": "f1961cc2-da36-4a03-afb8-53c4b8394b7d",
   "metadata": {},
   "outputs": [
    {
     "data": {
      "text/plain": [
       "array([[0.06366514, 0.06383477, 0.06349713],\n",
       "       [0.06177606, 0.0616703 , 0.06120281],\n",
       "       [0.04840749, 0.04824327, 0.04784264],\n",
       "       [0.04366471, 0.04351492, 0.04322373],\n",
       "       [0.04069768, 0.0405869 , 0.04034599]])"
      ]
     },
     "execution_count": 46,
     "metadata": {},
     "output_type": "execute_result"
    }
   ],
   "source": [
    "f_6560 = j_6560 / E_6560.value / alpha_He_B\n",
    "f_6560"
   ]
  },
  {
   "cell_type": "markdown",
   "id": "99cd640c-d6ca-4242-af2d-3d64ef0b05b5",
   "metadata": {},
   "source": [
    "So this is about 11 times smaller than for H alpha, with a very similar T dependence"
   ]
  },
  {
   "cell_type": "markdown",
   "id": "fd011183-77f2-4281-8dcb-21e2be1da251",
   "metadata": {},
   "source": [
    "#### Repeat for the 4686 line"
   ]
  },
  {
   "cell_type": "code",
   "execution_count": 47,
   "id": "4774f0e9-9b3d-43bc-bd75-6d78204619c2",
   "metadata": {},
   "outputs": [
    {
     "data": {
      "text/plain": [
       "array([[2.25200000e-23, 2.27100000e-23, 2.31800000e-23],\n",
       "       [1.27400000e-23, 1.26800000e-23, 1.26400000e-23],\n",
       "       [2.52200000e-24, 2.50550000e-24, 2.47900000e-24],\n",
       "       [1.51600000e-24, 1.50800000e-24, 1.49500000e-24],\n",
       "       [1.15458462e-24, 1.14979231e-24, 1.14127692e-24]])"
      ]
     },
     "execution_count": 47,
     "metadata": {},
     "output_type": "execute_result"
    }
   ],
   "source": [
    "j_4686 = He2.getEmissivity(tem=temps, den=dens, label=\"4_3\")\n",
    "j_4686"
   ]
  },
  {
   "cell_type": "code",
   "execution_count": 48,
   "id": "eed187c0-c624-45c1-82f4-2c0ecfbd7460",
   "metadata": {},
   "outputs": [
    {
     "data": {
      "text/plain": [
       "4685.55411681253"
      ]
     },
     "execution_count": 48,
     "metadata": {},
     "output_type": "execute_result"
    }
   ],
   "source": [
    "He2.getWave(4, 3)"
   ]
  },
  {
   "cell_type": "code",
   "execution_count": 49,
   "id": "a97ff6c9-1068-483f-84b6-dcd3750eb081",
   "metadata": {},
   "outputs": [
    {
     "data": {
      "text/plain": [
       "4.2395110751602196e-12"
      ]
     },
     "execution_count": 49,
     "metadata": {},
     "output_type": "execute_result"
    }
   ],
   "source": [
    "E_4686 = (constants.c * constants.h / (He2.getWave(4, 3) * u.angstrom)).cgs\n",
    "E_4686.value"
   ]
  },
  {
   "cell_type": "code",
   "execution_count": 50,
   "id": "39eb9510-10b0-4b48-abb1-f5e8a223735f",
   "metadata": {},
   "outputs": [
    {
     "data": {
      "text/plain": [
       "array([[0.42091389, 0.40766741, 0.38722462],\n",
       "       [0.3839846 , 0.37461309, 0.36021214],\n",
       "       [0.26396637, 0.2615081 , 0.25721675],\n",
       "       [0.23326054, 0.23157643, 0.22883517],\n",
       "       [0.21603155, 0.21496436, 0.21286616]])"
      ]
     },
     "execution_count": 50,
     "metadata": {},
     "output_type": "execute_result"
    }
   ],
   "source": [
    "f_4686 = j_4686 / E_4686.value / alpha_He_B\n",
    "f_4686"
   ]
  },
  {
   "cell_type": "markdown",
   "id": "3ce5e8f1-72d9-4387-be60-e8e7a7abfe50",
   "metadata": {},
   "source": [
    "So this is about half the H alpha value at warm temperatures, with a bit steeper T dependence so it is 2/3 at cool temperatures. It also has more of a density dependence than the other fractions, but it is still not significant."
   ]
  },
  {
   "cell_type": "markdown",
   "id": "03bc786c-23c5-4ab7-b773-822701eaf57f",
   "metadata": {},
   "source": [
    "### Estimating Q_3 "
   ]
  },
  {
   "cell_type": "markdown",
   "id": "daa535a0-13a5-41e2-bc0c-e1d32b0d23ca",
   "metadata": {},
   "source": [
    "The H alpha luminosity can be estimated from the extinction-corrected flux (see calculation in org file)"
   ]
  },
  {
   "cell_type": "code",
   "execution_count": 51,
   "id": "8831276b-f9ed-4c94-9784-8b14287a54b3",
   "metadata": {},
   "outputs": [],
   "source": [
    "Flux_ha = 3.8e-12 * u.erg / u.s / u.cm**2"
   ]
  },
  {
   "cell_type": "markdown",
   "id": "3ab00e08-9497-4633-87f4-508c2b13812a",
   "metadata": {},
   "source": [
    "Uncertainty in flux is about 40%"
   ]
  },
  {
   "cell_type": "code",
   "execution_count": 56,
   "id": "223df9f3-3bf8-40da-ab16-0690b668942a",
   "metadata": {},
   "outputs": [
    {
     "data": {
      "text/latex": [
       "$7.2746907 \\times 10^{33} \\; \\mathrm{\\frac{erg}{s}}$"
      ],
      "text/plain": [
       "<Quantity 7.27469071e+33 erg / s>"
      ]
     },
     "execution_count": 56,
     "metadata": {},
     "output_type": "execute_result"
    }
   ],
   "source": [
    "D_kpc = 4\n",
    "L_ha = (Flux_ha * (4 * np.pi * (D_kpc * u.kpc)**2)).cgs\n",
    "L_ha "
   ]
  },
  {
   "cell_type": "markdown",
   "id": "34abcd64-2c95-44dc-9e3b-fd2083f8cdca",
   "metadata": {},
   "source": [
    "Or in solar units"
   ]
  },
  {
   "cell_type": "code",
   "execution_count": 57,
   "id": "6b2b1826-4869-42af-a793-685b3f285bab",
   "metadata": {},
   "outputs": [
    {
     "data": {
      "text/latex": [
       "$1.9003894 \\; \\mathrm{}$"
      ],
      "text/plain": [
       "<Quantity 1.90038942>"
      ]
     },
     "execution_count": 57,
     "metadata": {},
     "output_type": "execute_result"
    }
   ],
   "source": [
    "L_ha / constants.L_sun.cgs"
   ]
  },
  {
   "cell_type": "markdown",
   "id": "e5b6f096-7bdf-4a2a-bcd6-ed67b014c03d",
   "metadata": {},
   "source": [
    "Observed 100 F(4686)/Hb = 71 from Corradi (2015) and that hardly needs correcting for extinction. We can just use the theoretical Ha/Hb ratio = 2.9 at warm temperatures, although it can be up to 4 at cool temperatures. We use 3"
   ]
  },
  {
   "cell_type": "code",
   "execution_count": 59,
   "id": "87f7b81b-e13d-429d-8780-df173b03b825",
   "metadata": {},
   "outputs": [
    {
     "data": {
      "text/latex": [
       "$1.7216768 \\times 10^{33} \\; \\mathrm{\\frac{erg}{s}}$"
      ],
      "text/plain": [
       "<Quantity 1.7216768e+33 erg / s>"
      ]
     },
     "execution_count": 59,
     "metadata": {},
     "output_type": "execute_result"
    }
   ],
   "source": [
    "L_4686 = L_ha * 0.71 / 3\n",
    "L_4686"
   ]
  },
  {
   "cell_type": "code",
   "execution_count": 62,
   "id": "a10a4fcf-82b6-4de5-bd77-bc7cce07503d",
   "metadata": {},
   "outputs": [],
   "source": [
    "Q_3 = alpha_He_B * L_4686 / (j_4686 * u.erg)"
   ]
  },
  {
   "cell_type": "code",
   "execution_count": 64,
   "id": "335e3772-8a63-423f-99f2-62649d389fb3",
   "metadata": {},
   "outputs": [
    {
     "data": {
      "text/plain": [
       "array([[9.64811778e+44, 9.96161743e+44, 1.04875222e+45],\n",
       "       [1.05760146e+45, 1.08405896e+45, 1.12739865e+45],\n",
       "       [1.53846372e+45, 1.55292579e+45, 1.57883450e+45],\n",
       "       [1.74098320e+45, 1.75364428e+45, 1.77465147e+45],\n",
       "       [1.87983039e+45, 1.88916286e+45, 1.90778409e+45]])"
      ]
     },
     "execution_count": 64,
     "metadata": {},
     "output_type": "execute_result"
    }
   ],
   "source": [
    "Q_3.value"
   ]
  },
  {
   "cell_type": "markdown",
   "id": "521c8d00-0c62-4a7b-b18d-d9ac4d69e807",
   "metadata": {},
   "source": [
    "So it about 1e45 per second. Now to check against the cloudy models. **Note that it will scale with the distance as $D^2$ so it would be two times smaller for the Jones distance**"
   ]
  },
  {
   "cell_type": "markdown",
   "id": "e05fde38-9054-4b87-94e1-5173ac715fc8",
   "metadata": {},
   "source": [
    "Repeat for the 6560 line. We get the ratio over H alpha from the 04-01 notebook. Multiplying the scale that we found when we normalized the co-added bgsub image by the sumscale that we calculated when plotting the spatial profile. This means that we are calculating the ratio for the inner lobes+ring close to the axis"
   ]
  },
  {
   "cell_type": "code",
   "execution_count": 65,
   "id": "23cc9678-e8e9-49c4-a882-0b4d5bab93e3",
   "metadata": {},
   "outputs": [
    {
     "data": {
      "text/plain": [
       "0.0325546907527186"
      ]
     },
     "execution_count": 65,
     "metadata": {},
     "output_type": "execute_result"
    }
   ],
   "source": [
    "R_6560_6563 = (3.2187782450199 / 66.59484446105931) * (3.8117776 / 5.6593223)\n",
    "R_6560_6563"
   ]
  },
  {
   "cell_type": "code",
   "execution_count": 66,
   "id": "51feecfd-c955-4b1b-b66c-5d95bd7c3a28",
   "metadata": {},
   "outputs": [
    {
     "data": {
      "text/latex": [
       "$2.3682531 \\times 10^{32} \\; \\mathrm{\\frac{erg}{s}}$"
      ],
      "text/plain": [
       "<Quantity 2.36825306e+32 erg / s>"
      ]
     },
     "execution_count": 66,
     "metadata": {},
     "output_type": "execute_result"
    }
   ],
   "source": [
    "L_6560 = L_ha * R_6560_6563\n",
    "L_6560"
   ]
  },
  {
   "cell_type": "code",
   "execution_count": 67,
   "id": "ed508ed9-0a39-4140-8e07-1c813300617a",
   "metadata": {},
   "outputs": [
    {
     "data": {
      "text/plain": [
       "array([[1.22841569e+45, 1.22515139e+45, 1.23166605e+45],\n",
       "       [1.26598009e+45, 1.26815107e+45, 1.27783772e+45],\n",
       "       [1.61560248e+45, 1.62110181e+45, 1.63467698e+45],\n",
       "       [1.79108631e+45, 1.79725134e+45, 1.80935943e+45],\n",
       "       [1.92166376e+45, 1.92690893e+45, 1.93841442e+45]])"
      ]
     },
     "execution_count": 67,
     "metadata": {},
     "output_type": "execute_result"
    }
   ],
   "source": [
    "Q_3r = alpha_He_B * L_6560/ (j_6560 * u.erg)\n",
    "Q_3r.value"
   ]
  },
  {
   "cell_type": "code",
   "execution_count": 68,
   "id": "24604c77-ba9b-453e-ac64-e7e6ef981af0",
   "metadata": {},
   "outputs": [
    {
     "data": {
      "text/plain": [
       "array([[1.27321796, 1.22987195, 1.17441091],\n",
       "       [1.19702944, 1.16981744, 1.13343911],\n",
       "       [1.05014012, 1.04390165, 1.03536943],\n",
       "       [1.02877863, 1.02486654, 1.01955762],\n",
       "       [1.0222538 , 1.01998032, 1.01605545]])"
      ]
     },
     "execution_count": 68,
     "metadata": {},
     "output_type": "execute_result"
    }
   ],
   "source": [
    "Q_3r.value / Q_3.value"
   ]
  },
  {
   "cell_type": "markdown",
   "id": "f7ccecc0-40d8-4e24-b446-c59ef3c0a326",
   "metadata": {},
   "source": [
    "So this gives a very similar value if T is warm, up to about 1.2 times larger if T is cool. So that is very gratifying that it comes out the same."
   ]
  },
  {
   "cell_type": "markdown",
   "id": "bb75980c-6da9-4102-8f35-e630254cd08f",
   "metadata": {},
   "source": [
    "# Sources of atomic data"
   ]
  },
  {
   "cell_type": "code",
   "execution_count": 5,
   "id": "8b28ec64-b589-4618-b46b-7817d620aa53",
   "metadata": {},
   "outputs": [
    {
     "name": "stdout",
     "output_type": "stream",
     "text": [
      "Storey and Hummer 1995, MNRAS, 272, 41\n",
      "Ref. 15291 of NIST 2014 (try this: http://physics.nist.gov/cgi-bin/ASBib1/get_ASBib_ref.cgi?db=el&db_id=15291&comment_code=&element=H&spectr_charge=1&\n"
     ]
    }
   ],
   "source": [
    "H1.printSources()"
   ]
  },
  {
   "cell_type": "code",
   "execution_count": null,
   "id": "69f78fc7-e170-431c-a9c8-993b7ccb1919",
   "metadata": {},
   "outputs": [],
   "source": []
  },
  {
   "cell_type": "code",
   "execution_count": 8,
   "id": "71ca388a-271e-431f-8053-955dc8cf069f",
   "metadata": {},
   "outputs": [
    {
     "name": "stdout",
     "output_type": "stream",
     "text": [
      "Storey and Hummer 1995\n",
      "Ref.  of NIST 2014 (try this: http://physics.nist.gov/cgi-bin/ASBib1/get_ASBib_ref.cgi?db=el&db_id=&comment_code=&element=He&spectr_charge=2&\n",
      "Ref. 3620c107 of NIST 2014 (try this: http://physics.nist.gov/cgi-bin/ASBib1/get_ASBib_ref.cgi?db=el&db_id=3620c107&comment_code=&element=He&spectr_charge=2&\n"
     ]
    }
   ],
   "source": [
    "He2.printSources()"
   ]
  },
  {
   "cell_type": "code",
   "execution_count": 9,
   "id": "f89261bb-088e-4608-a4e1-e320d9044dc7",
   "metadata": {},
   "outputs": [
    {
     "data": {
      "text/plain": [
       "['* 3he_ii_atom_cloudy.dat',\n",
       " '* 3he_ii_coll_cloudy.dat',\n",
       " '* he_ii_rec_SH95.hdf5',\n",
       " '* he_ii_trc_SH95-caseB.dat',\n",
       " 'he_ii_rec_P91.func',\n",
       " 'he_ii_rec_SH95-caseA.fits',\n",
       " 'he_ii_rec_SH95-caseA.hdf5',\n",
       " 'he_ii_rec_SH95.fits',\n",
       " 'he_ii_trc_SH95-caseA.dat']"
      ]
     },
     "execution_count": 9,
     "metadata": {},
     "output_type": "execute_result"
    }
   ],
   "source": [
    "pn.atomicData.getAllAvailableFiles(\"He2\")"
   ]
  },
  {
   "cell_type": "code",
   "execution_count": 10,
   "id": "cf2404a5-1bf2-4136-9a63-0415204f582e",
   "metadata": {},
   "outputs": [
    {
     "data": {
      "text/plain": [
       "\u001b[0;31mSignature:\u001b[0m \u001b[0mHe2\u001b[0m\u001b[0;34m.\u001b[0m\u001b[0mgetTotRecombination\u001b[0m\u001b[0;34m(\u001b[0m\u001b[0mtem\u001b[0m\u001b[0;34m,\u001b[0m \u001b[0mden\u001b[0m\u001b[0;34m,\u001b[0m \u001b[0mmethod\u001b[0m\u001b[0;34m=\u001b[0m\u001b[0;34m'linear'\u001b[0m\u001b[0;34m)\u001b[0m\u001b[0;34m\u001b[0m\u001b[0;34m\u001b[0m\u001b[0m\n",
       "\u001b[0;31mDocstring:\u001b[0m\n",
       "Return the total recombination coefficient. The case (A or B) is set by selecting the corresponding trc file.\n",
       "\n",
       "Parameters:\n",
       "    tem:  temperature \n",
       "    den: density\n",
       "    method:    interpolation method in the grid ('linear' = default, 'nearest', 'cubic')    \n",
       "    \n",
       "**Usage:**\n",
       "    atomicData.setDataFile('h_i_trc_SH95-caseA.dat')\n",
       "    h1.getTotRecombination(tem=10000, den=5.e3)\n",
       "        \n",
       "\u001b[0;31mSource:\u001b[0m   \n",
       "    \u001b[0;32mdef\u001b[0m \u001b[0mgetTotRecombination\u001b[0m\u001b[0;34m(\u001b[0m\u001b[0mself\u001b[0m\u001b[0;34m,\u001b[0m \u001b[0mtem\u001b[0m\u001b[0;34m,\u001b[0m \u001b[0mden\u001b[0m\u001b[0;34m,\u001b[0m \u001b[0mmethod\u001b[0m\u001b[0;34m=\u001b[0m\u001b[0;34m'linear'\u001b[0m\u001b[0;34m)\u001b[0m\u001b[0;34m:\u001b[0m\u001b[0;34m\u001b[0m\n",
       "\u001b[0;34m\u001b[0m        \u001b[0;34m\"\"\"\u001b[0m\n",
       "\u001b[0;34m        Return the total recombination coefficient. The case (A or B) is set by selecting the corresponding trc file.\u001b[0m\n",
       "\u001b[0;34m    \u001b[0m\n",
       "\u001b[0;34m        Parameters:\u001b[0m\n",
       "\u001b[0;34m            tem:  temperature \u001b[0m\n",
       "\u001b[0;34m            den: density\u001b[0m\n",
       "\u001b[0;34m            method:    interpolation method in the grid ('linear' = default, 'nearest', 'cubic')    \u001b[0m\n",
       "\u001b[0;34m            \u001b[0m\n",
       "\u001b[0;34m        **Usage:**\u001b[0m\n",
       "\u001b[0;34m            atomicData.setDataFile('h_i_trc_SH95-caseA.dat')\u001b[0m\n",
       "\u001b[0;34m            h1.getTotRecombination(tem=10000, den=5.e3)\u001b[0m\n",
       "\u001b[0;34m                \u001b[0m\n",
       "\u001b[0;34m        \"\"\"\u001b[0m \u001b[0;34m\u001b[0m\n",
       "\u001b[0;34m\u001b[0m        \u001b[0mself\u001b[0m\u001b[0;34m.\u001b[0m\u001b[0mcalling\u001b[0m \u001b[0;34m=\u001b[0m \u001b[0;34m'getTotRecombination'\u001b[0m\u001b[0;34m\u001b[0m\n",
       "\u001b[0;34m\u001b[0m        \u001b[0;32mif\u001b[0m \u001b[0;34m'trc'\u001b[0m \u001b[0;32min\u001b[0m \u001b[0matomicData\u001b[0m\u001b[0;34m.\u001b[0m\u001b[0mgetDataFile\u001b[0m\u001b[0;34m(\u001b[0m\u001b[0;34m)\u001b[0m\u001b[0;34m[\u001b[0m\u001b[0mself\u001b[0m\u001b[0;34m.\u001b[0m\u001b[0matom\u001b[0m\u001b[0;34m]\u001b[0m\u001b[0;34m.\u001b[0m\u001b[0mkeys\u001b[0m\u001b[0;34m(\u001b[0m\u001b[0;34m)\u001b[0m\u001b[0;34m:\u001b[0m\u001b[0;34m\u001b[0m\n",
       "\u001b[0;34m\u001b[0m            \u001b[0;32mreturn\u001b[0m \u001b[0minterpolate\u001b[0m\u001b[0;34m.\u001b[0m\u001b[0mgriddata\u001b[0m\u001b[0;34m(\u001b[0m\u001b[0;34m(\u001b[0m\u001b[0mself\u001b[0m\u001b[0;34m.\u001b[0m\u001b[0mlg_den_grid\u001b[0m\u001b[0;34m.\u001b[0m\u001b[0mravel\u001b[0m\u001b[0;34m(\u001b[0m\u001b[0;34m)\u001b[0m\u001b[0;34m,\u001b[0m \u001b[0mself\u001b[0m\u001b[0;34m.\u001b[0m\u001b[0mlg_tem_grid\u001b[0m\u001b[0;34m.\u001b[0m\u001b[0mravel\u001b[0m\u001b[0;34m(\u001b[0m\u001b[0;34m)\u001b[0m\u001b[0;34m)\u001b[0m\u001b[0;34m,\u001b[0m \u001b[0mself\u001b[0m\u001b[0;34m.\u001b[0m\u001b[0malpha_grid\u001b[0m\u001b[0;34m.\u001b[0m\u001b[0mravel\u001b[0m\u001b[0;34m(\u001b[0m\u001b[0;34m)\u001b[0m\u001b[0;34m,\u001b[0m \u001b[0;34m(\u001b[0m\u001b[0mnp\u001b[0m\u001b[0;34m.\u001b[0m\u001b[0mlog10\u001b[0m\u001b[0;34m(\u001b[0m\u001b[0mden\u001b[0m\u001b[0;34m)\u001b[0m\u001b[0;34m,\u001b[0m \u001b[0mnp\u001b[0m\u001b[0;34m.\u001b[0m\u001b[0mlog10\u001b[0m\u001b[0;34m(\u001b[0m\u001b[0mtem\u001b[0m\u001b[0;34m)\u001b[0m\u001b[0;34m)\u001b[0m\u001b[0;34m,\u001b[0m \u001b[0mmethod\u001b[0m\u001b[0;34m=\u001b[0m\u001b[0mmethod\u001b[0m\u001b[0;34m)\u001b[0m\u001b[0;34m\u001b[0m\n",
       "\u001b[0;34m\u001b[0m        \u001b[0;32melse\u001b[0m\u001b[0;34m:\u001b[0m\u001b[0;34m\u001b[0m\n",
       "\u001b[0;34m\u001b[0m            \u001b[0mself\u001b[0m\u001b[0;34m.\u001b[0m\u001b[0mlog_\u001b[0m\u001b[0;34m.\u001b[0m\u001b[0mwarn\u001b[0m\u001b[0;34m(\u001b[0m\u001b[0;34m'No recombination data available for {0} in the adopted dictionary (but data may exist: please query atomicData.getAllAvailableFiles(\"<atom>\") for trc files)'\u001b[0m\u001b[0;34m.\u001b[0m\u001b[0mformat\u001b[0m\u001b[0;34m(\u001b[0m\u001b[0mself\u001b[0m\u001b[0;34m.\u001b[0m\u001b[0matom\u001b[0m\u001b[0;34m)\u001b[0m\u001b[0;34m,\u001b[0m \u001b[0mcalling\u001b[0m\u001b[0;34m=\u001b[0m\u001b[0mself\u001b[0m\u001b[0;34m.\u001b[0m\u001b[0mcalling\u001b[0m\u001b[0;34m)\u001b[0m\u001b[0;34m\u001b[0m\n",
       "\u001b[0;34m\u001b[0m            \u001b[0;32mreturn\u001b[0m \u001b[0;32mNone\u001b[0m\u001b[0;34m\u001b[0m\u001b[0;34m\u001b[0m\u001b[0m\n",
       "\u001b[0;31mFile:\u001b[0m      ~/Dropbox/teresa-pn-ou5/.venv/lib/python3.11/site-packages/pyneb/core/pynebcore.py\n",
       "\u001b[0;31mType:\u001b[0m      method"
      ]
     },
     "metadata": {},
     "output_type": "display_data"
    }
   ],
   "source": [
    "He2.getTotRecombination??"
   ]
  },
  {
   "cell_type": "code",
   "execution_count": 12,
   "id": "3513a304-b18b-4304-bbb7-ad4278e6c2e2",
   "metadata": {},
   "outputs": [
    {
     "data": {
      "text/plain": [
       "{'H1': {'rec': 'h_i_rec_SH95.hdf5', 'trc': 'h_i_trc_SH95-caseB.dat'},\n",
       " 'He1': {'rec': 'he_i_rec_Pal12-Pal13.hdf5'},\n",
       " 'He2': {'rec': 'he_ii_rec_SH95.hdf5', 'trc': 'he_ii_trc_SH95-caseB.dat'},\n",
       " 'Al2': {'atom': 'al_ii_atom_JSP86-HK87-VVF96-KS86.dat',\n",
       "  'coll': 'al_ii_coll_KHAF92-TBK85-TBK84.dat'},\n",
       " 'Ar2': {'atom': 'ar_ii_atom_Bal06.dat', 'coll': 'ar_ii_coll_PB95.dat'},\n",
       " 'Ar3': {'atom': 'ar_iii_atom_MB09.dat', 'coll': 'ar_iii_coll_MB09.dat'},\n",
       " 'Ar4': {'atom': 'ar_iv_atom_RGJ19.dat', 'coll': 'ar_iv_coll_RB97.dat'},\n",
       " 'Ar5': {'atom': 'ar_v_atom_LL93-MZ82-KS86.dat',\n",
       "  'coll': 'ar_v_coll_GMZ95.dat'},\n",
       " 'Ba2': {'atom': 'ba_ii_atom_C04.dat', 'coll': 'ba_ii_coll_SB98.dat'},\n",
       " 'Ba4': {'atom': 'ba_iv_atom_BHQZ95.dat', 'coll': 'ba_iv_coll_SB98.dat'},\n",
       " 'C1': {'atom': 'c_i_atom_FFS85.dat',\n",
       "  'coll': 'c_i_coll_JBK87-PA76.dat',\n",
       "  'rec': 'c_i_rec_P91.func'},\n",
       " 'C2': {'atom': 'c_ii_atom_GMZ98.dat',\n",
       "  'coll': 'c_ii_coll_BP92.dat',\n",
       "  'rec': 'c_ii_rec_D00.func'},\n",
       " 'C3': {'atom': 'c_iii_atom_G83-NS78-WFD96.dat',\n",
       "  'coll': 'c_iii_coll_Bal85.dat',\n",
       "  'rec': 'c_iii_rec_P91.func'},\n",
       " 'C4': {'atom': 'c_iv_atom_WFD96.dat',\n",
       "  'coll': 'c_iv_coll_AK04.dat',\n",
       "  'rec': 'c_iv_rec_P91.func'},\n",
       " 'Ca5': {'atom': 'ca_v_atom_M83-KS86.dat', 'coll': 'ca_v_coll_GMZ95.dat'},\n",
       " 'Cl2': {'atom': 'cl_ii_atom_MZ83.dat', 'coll': 'cl_ii_coll_T04.dat'},\n",
       " 'Cl3': {'atom': 'cl_iii_atom_RGJ19.dat', 'coll': 'cl_iii_coll_BZ89.dat'},\n",
       " 'Cl4': {'atom': 'cl_iv_atom_KS86-MZ82-EM84.dat',\n",
       "  'coll': 'cl_iv_coll_GMZ95.dat'},\n",
       " 'Fe3': {'atom': 'fe_iii_atom_BB14_144.dat',\n",
       "  'coll': 'fe_iii_coll_BB14_144.dat'},\n",
       " 'K4': {'atom': 'k_iv_atom_M83-KS86.dat', 'coll': 'k_iv_coll_GMZ95.dat'},\n",
       " 'K5': {'atom': 'k_v_atom_M83-KS86.dat', 'coll': 'k_v_coll_BZL88.dat'},\n",
       " 'Mg5': {'atom': 'mg_v_atom_GMZ97.dat', 'coll': 'mg_v_coll_BZ94.dat'},\n",
       " 'Mg7': {'atom': 'mg_vii_atom_GMZ97.dat', 'coll': 'mg_vii_coll_LB94-U.dat'},\n",
       " 'N1': {'atom': 'n_i_atom_KS86-WFD96.dat',\n",
       "  'coll': 'n_i_coll_PA76-DMR76.dat',\n",
       "  'rec': 'n_i_rec_P91.func'},\n",
       " 'N2': {'atom': 'n_ii_atom_FFT04.dat',\n",
       "  'coll': 'n_ii_coll_T11.dat',\n",
       "  'rec': 'n_ii_rec_FSL11.func'},\n",
       " 'N3': {'atom': 'n_iii_atom_GMZ98.dat',\n",
       "  'coll': 'n_iii_coll_BP92.dat',\n",
       "  'rec': 'n_iii_rec_P91.func'},\n",
       " 'N4': {'atom': 'n_iv_atom_WFD96.dat',\n",
       "  'coll': 'n_iv_coll_RBHB94.dat',\n",
       "  'rec': 'n_iv_rec_P91.func'},\n",
       " 'Na4': {'atom': 'na_iv_atom_GMZ97.dat', 'coll': 'na_iv_coll_BZ94.dat'},\n",
       " 'Na6': {'atom': 'na_vi_atom_GMZ97.dat', 'coll': 'na_vi_coll_LB94.dat'},\n",
       " 'Ne2': {'atom': 'ne_ii_atom_Bal06.dat',\n",
       "  'coll': 'ne_ii_coll_GMB01.dat',\n",
       "  'rec': 'ne_ii_rec_KSDN98.func'},\n",
       " 'Ne3': {'atom': 'ne_iii_atom_GMZ97.dat', 'coll': 'ne_iii_coll_McLB00.dat'},\n",
       " 'Ne4': {'atom': 'ne_iv_atom_GFF84.dat', 'coll': 'ne_iv_coll_G81.dat'},\n",
       " 'Ne5': {'atom': 'ne_v_atom_GMZ97-U-BD93.dat', 'coll': 'ne_v_coll_DPNP13.dat'},\n",
       " 'Ne6': {'atom': 'ne_vi_atom_GMZ98.dat', 'coll': 'ne_vi_coll_ZGP94.dat'},\n",
       " 'Ni3': {'atom': 'ni_iii_atom_B01.dat', 'coll': 'ni_iii_coll_B01.dat'},\n",
       " 'O1': {'atom': 'o_i_atom_WFD96.dat',\n",
       "  'coll': 'o_i_coll_BK95.dat',\n",
       "  'rec': 'o_i_rec_P91.func'},\n",
       " 'O2': {'atom': 'o_ii_atom_Z82-WFD96.dat',\n",
       "  'coll': 'o_ii_coll_Kal09.dat',\n",
       "  'rec': 'o_ii_rec_SSB17-B-opt.hdf5'},\n",
       " 'O3': {'atom': 'o_iii_atom_FFT04-SZ00.dat',\n",
       "  'coll': 'o_iii_coll_SSB14.dat',\n",
       "  'rec': 'o_iii_rec_P91.func'},\n",
       " 'O4': {'atom': 'o_iv_atom_GMZ98.dat',\n",
       "  'coll': 'o_iv_coll_BP92.dat',\n",
       "  'rec': 'o_iv_rec_P91.func'},\n",
       " 'O5': {'atom': 'o_v_atom_H80-NS79.dat',\n",
       "  'coll': 'o_v_coll_BBDK85.dat',\n",
       "  'rec': 'o_v_rec_P91.func'},\n",
       " 'S2': {'atom': 's_ii_atom_RGJ19.dat', 'coll': 's_ii_coll_TZ10.dat'},\n",
       " 'S3': {'atom': 's_iii_atom_FFTI06.dat', 'coll': 's_iii_coll_TG99.dat'},\n",
       " 'S4': {'atom': 's_iv_atom_JKD86-DHKD82.dat', 'coll': 's_iv_coll_DHKD82.dat'},\n",
       " 'Si2': {'atom': 'si_ii_atom_BL93-CSB93-N77.dat',\n",
       "  'coll': 'si_ii_coll_DK91.dat'},\n",
       " 'Si3': {'atom': 'si_iii_atom_M83-OKH88-FW90-KS86.dat',\n",
       "  'coll': 'si_iii_coll_DK94.dat'},\n",
       " 'Xe3': {'atom': 'xe_iii_atom_BHQZ95.dat', 'coll': 'xe_iii_coll_SB98.dat'},\n",
       " 'Xe4': {'atom': 'xe_iv_atom_BHQZ95.dat', 'coll': 'xe_iv_coll_SB98.dat'},\n",
       " 'Xe6': {'atom': 'xe_vi_atom_BHQZ95.dat', 'coll': 'xe_vi_coll_SB98.dat'},\n",
       " 'Kr3': {'atom': 'kr_iii_atom_BH86.dat', 'coll': 'kr_iii_coll_S97.dat'},\n",
       " 'Kr4': {'atom': 'kr_iv_atom_BH86.dat', 'coll': 'kr_iv_coll_S97.dat'},\n",
       " 'Kr5': {'atom': 'kr_v_atom_BH86.dat', 'coll': 'kr_v_coll_S97.dat'},\n",
       " 'Se3': {'atom': 'se_iii_atom_S17.dat', 'coll': 'se_iii_coll_S17.dat'},\n",
       " 'Se4': {'atom': 'se_iv_atom_B05.dat', 'coll': 'se_iv_coll_B05.dat'},\n",
       " 'Br3': {'atom': 'br_iii_atom_BH86.dat', 'coll': 'br_iii_coll_S97.dat'},\n",
       " 'Br4': {'atom': 'br_iv_atom_BH86.dat', 'coll': 'br_iv_coll_S97.dat'},\n",
       " 'Rb4': {'atom': 'rb_iv_atom_S16.dat', 'coll': 'rb_iv_coll_S16.dat'},\n",
       " 'Rb5': {'atom': 'rb_v_atom_BH86.dat', 'coll': 'rb_v_coll_S97.dat'},\n",
       " 'Rb6': {'atom': 'rb_vi_atom_BH86.dat', 'coll': 'rb_vi_coll_S97.dat'},\n",
       " 'Fe4': {'atom': 'fe_iv_atom_FFRR08.dat', 'coll': 'fe_iv_coll_ZP97.dat'},\n",
       " 'Fe5': {'atom': 'fe_v_atom_Nal00.dat', 'coll': 'fe_v_coll_BGMcL07.dat'},\n",
       " 'Fe6': {'atom': 'fe_vi_atom_CP00.dat', 'coll': 'fe_vi_coll_CP99.dat'},\n",
       " 'Fe7': {'atom': 'fe_vii_atom_WB08.dat', 'coll': 'fe_vii_coll_WB08.dat'},\n",
       " '3He2': {'atom': '3he_ii_atom_cloudy.dat', 'coll': '3he_ii_coll_cloudy.dat'},\n",
       " 'Fe2': {'atom': 'fe_ii_atom_TZ18_173.dat', 'coll': 'fe_ii_coll_TZ18_173.dat'},\n",
       " 'P2': {'atom': 'p_ii_atom_MZ82.dat', 'coll': 'p_ii_coll_T04.dat'},\n",
       " 'N5': {'rec': 'n_v_rec_P91.func'},\n",
       " 'O6': {'rec': 'o_vi_rec_P91.func'},\n",
       " 'Te3': {'atom': 'te_iii_atom_M18.dat', 'coll': 'te_iii_coll_M18.dat'},\n",
       " 'Kr6': {'atom': 'kr_vi_atom_S17.dat', 'coll': 'kr_vi_coll_S17.dat'},\n",
       " 'Br5': {'atom': 'br_v_atom_M18.dat', 'coll': 'br_v_coll_M18.dat'}}"
      ]
     },
     "execution_count": 12,
     "metadata": {},
     "output_type": "execute_result"
    }
   ],
   "source": [
    "pn.atomicData.getDataFile()"
   ]
  },
  {
   "cell_type": "code",
   "execution_count": null,
   "id": "4f9bef9b-b88b-4107-8a4f-a15a1b6ab817",
   "metadata": {},
   "outputs": [],
   "source": []
  }
 ],
 "metadata": {
  "kernelspec": {
   "display_name": "Python 3 (ipykernel)",
   "language": "python",
   "name": "python3"
  },
  "language_info": {
   "codemirror_mode": {
    "name": "ipython",
    "version": 3
   },
   "file_extension": ".py",
   "mimetype": "text/x-python",
   "name": "python",
   "nbconvert_exporter": "python",
   "pygments_lexer": "ipython3",
   "version": "3.11.11"
  }
 },
 "nbformat": 4,
 "nbformat_minor": 5
}
