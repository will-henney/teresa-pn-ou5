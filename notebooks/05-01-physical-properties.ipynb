{
 "cells": [
  {
   "cell_type": "markdown",
   "id": "318e0be8-2352-4851-80e0-9fb87cf4d87d",
   "metadata": {},
   "source": [
    "# Physical properties of Ou 5"
   ]
  },
  {
   "cell_type": "code",
   "execution_count": 73,
   "id": "b7137ef5-2c8a-4670-90d5-313c8b4daa4e",
   "metadata": {},
   "outputs": [],
   "source": [
    "import numpy as np\n",
    "import pyneb as pn\n",
    "from astropy import constants\n",
    "import astropy.units as u\n",
    "import matplotlib.pyplot as plt\n",
    "import seaborn as sns"
   ]
  },
  {
   "cell_type": "markdown",
   "id": "c61ed694-17b4-4173-9470-123ceccdcb5b",
   "metadata": {},
   "source": [
    "## Ionization balance for H and He"
   ]
  },
  {
   "cell_type": "markdown",
   "id": "2d2635ad-40c6-4cd7-a0c8-d7406711b9bc",
   "metadata": {},
   "source": [
    "Note it is necessary to set these data files before we create the RecAtoms, otherwise the total recombination rate does not work"
   ]
  },
  {
   "cell_type": "code",
   "execution_count": 2,
   "id": "045d52da-6d70-4bcb-883c-017cc302f949",
   "metadata": {},
   "outputs": [],
   "source": [
    "pn.atomicData.setDataFile('h_i_trc_SH95-caseB.dat')\n",
    "pn.atomicData.setDataFile('he_ii_trc_SH95-caseB.dat')"
   ]
  },
  {
   "cell_type": "markdown",
   "id": "2d5de293-306b-4347-934d-3d8e8541e387",
   "metadata": {},
   "source": [
    "### Temperature and density samples"
   ]
  },
  {
   "cell_type": "code",
   "execution_count": 3,
   "id": "89d061f6-ea49-4462-9020-9d14b91e16ca",
   "metadata": {},
   "outputs": [],
   "source": [
    "temps = np.array([500, 1000, 6000, 10000, 13000, 15000, 20000])\n",
    "dens = np.array([100, 1000, 10000])"
   ]
  },
  {
   "cell_type": "markdown",
   "id": "87736767-b099-4179-91f4-0f0721e696a3",
   "metadata": {},
   "source": [
    "### H alpha emission coefficient versus temperature\n",
    "\n",
    "We need this to estimate the emission measure of the differernt nebular components from the observed surface brightness"
   ]
  },
  {
   "cell_type": "code",
   "execution_count": 4,
   "id": "126d03e7-e72a-42bb-a9dc-f9a038f4acda",
   "metadata": {},
   "outputs": [],
   "source": [
    "H1 = pn.RecAtom('H', 1)"
   ]
  },
  {
   "cell_type": "markdown",
   "id": "34ca4fb0-ea17-4bf5-8374-da33322c9317",
   "metadata": {},
   "source": [
    "Case B recombination rate"
   ]
  },
  {
   "cell_type": "code",
   "execution_count": 5,
   "id": "30af2e11-3a4a-4ed0-90d9-a575768f58b7",
   "metadata": {},
   "outputs": [
    {
     "data": {
      "text/plain": [
       "array([[2.49300000e-12, 2.57300000e-12, 2.72000000e-12],\n",
       "       [1.51200000e-12, 1.53500000e-12, 1.57900000e-12],\n",
       "       [3.96037430e-13, 3.96922668e-13, 3.98583076e-13],\n",
       "       [2.58500000e-13, 2.58800000e-13, 2.59400000e-13],\n",
       "       [2.07774355e-13, 2.08031331e-13, 2.08231331e-13],\n",
       "       [1.83600000e-13, 1.83700000e-13, 1.83900000e-13],\n",
       "       [1.42800000e-13, 1.42900000e-13, 1.43000000e-13]])"
      ]
     },
     "execution_count": 5,
     "metadata": {},
     "output_type": "execute_result"
    }
   ],
   "source": [
    "alpha_H_B = H1.getTotRecombination(tem=temps[:, None], den=dens)\n",
    "alpha_H_B "
   ]
  },
  {
   "cell_type": "markdown",
   "id": "19f0835c-ff75-4499-9f8a-4e1eace5931b",
   "metadata": {},
   "source": [
    "H alpha emissivity in erg.s-1.cm3"
   ]
  },
  {
   "cell_type": "code",
   "execution_count": 6,
   "id": "62ce6915-3631-4408-9ab9-28d79419b27a",
   "metadata": {},
   "outputs": [
    {
     "data": {
      "text/plain": [
       "array([[4.54200000e-24, 4.61200000e-24, 4.75800000e-24],\n",
       "       [2.61600000e-24, 2.62800000e-24, 2.65500000e-24],\n",
       "       [5.65600000e-25, 5.65150000e-25, 5.64500000e-25],\n",
       "       [3.53600000e-25, 3.53400000e-25, 3.53000000e-25],\n",
       "       [2.75338462e-25, 2.75138462e-25, 2.74884615e-25],\n",
       "       [2.39800000e-25, 2.39600000e-25, 2.39500000e-25],\n",
       "       [1.80700000e-25, 1.80600000e-25, 1.80500000e-25]])"
      ]
     },
     "execution_count": 6,
     "metadata": {},
     "output_type": "execute_result"
    }
   ],
   "source": [
    "j_6563 = H1.getEmissivity(tem=temps, den=dens, label=\"3_2\")\n",
    "j_6563"
   ]
  },
  {
   "cell_type": "markdown",
   "id": "f5174488-0d79-43d6-a7f3-b6827f10de9e",
   "metadata": {},
   "source": [
    "Density dependence (columns) is negligible: 2 or 3% positive gradient from 100 pcc to 1e4 pcc at low T, 0.02% negative gradient at high T. \n",
    "\n",
    "So constant pressure will have a slighty steeper temperature dependence than constant density"
   ]
  },
  {
   "cell_type": "markdown",
   "id": "99e0e3fb-fc50-4a15-b7b7-6c46d43b7d2b",
   "metadata": {},
   "source": [
    "Energy of an H alpha photon"
   ]
  },
  {
   "cell_type": "code",
   "execution_count": 7,
   "id": "febc35d4-0492-4b79-ab33-c02f3e539b40",
   "metadata": {},
   "outputs": [
    {
     "data": {
      "text/plain": [
       "3.0268193154262724e-12"
      ]
     },
     "execution_count": 7,
     "metadata": {},
     "output_type": "execute_result"
    }
   ],
   "source": [
    "E_6563 = (constants.c * constants.h / (H1.getWave(3, 2) * u.angstrom)).cgs\n",
    "E_6563.value"
   ]
  },
  {
   "cell_type": "markdown",
   "id": "6d07fd66-8613-4275-9500-a4614971ed72",
   "metadata": {},
   "source": [
    "Fraction of Case B recombinations that produce H alpha"
   ]
  },
  {
   "cell_type": "code",
   "execution_count": 8,
   "id": "6fcdd68b-babd-4aaa-ab31-d4dcde45a44a",
   "metadata": {
    "scrolled": true
   },
   "outputs": [
    {
     "data": {
      "text/plain": [
       "array([[0.60191942, 0.59219265, 0.57792175],\n",
       "       [0.57160952, 0.56562746, 0.55551514],\n",
       "       [0.47183122, 0.47040435, 0.46790598],\n",
       "       [0.4519238 , 0.45114461, 0.44959165],\n",
       "       [0.43781279, 0.43695434, 0.43613191],\n",
       "       [0.43150915, 0.43091455, 0.43026626],\n",
       "       [0.41806465, 0.4175409 , 0.41701788]])"
      ]
     },
     "execution_count": 8,
     "metadata": {},
     "output_type": "execute_result"
    }
   ],
   "source": [
    "f_6563 = j_6563 / E_6563.value / alpha_H_B\n",
    "f_6563"
   ]
  },
  {
   "cell_type": "markdown",
   "id": "a908dd57-2752-4c16-91a2-dd59907932f0",
   "metadata": {},
   "source": [
    "So the fraction $f_{6563}$ is about 0.6 for T <= 1000 K, as opposed to 0.45 for 10,000 K.  And with almost no dependence on density. \n",
    "\n",
    "We also need to check the variation between 6000 K, third row (mean T for Ou 5) and 15,000 K, penultimate row (T assumed in Harman & Seaton 1966 for Zanstra temperatures). \n",
    "\n",
    "This is f = 0.47 @ 6000 K versus f = 0.43 @ 15000 K\n",
    "\n",
    "So Lambda(H I) should be reduced (multiply by factor 0.43/0.47 = 0.91) since we are getting relatively more H alpha per recombination."
   ]
  },
  {
   "cell_type": "markdown",
   "id": "2dd63f61-e0bc-42ab-aacb-b243b6740522",
   "metadata": {},
   "source": [
    "And do the Balmer decrement"
   ]
  },
  {
   "cell_type": "code",
   "execution_count": 9,
   "id": "b1ae2b79-cb71-47db-9d6b-ca896d10e60f",
   "metadata": {},
   "outputs": [
    {
     "data": {
      "text/plain": [
       "array([[3.98071867, 3.85296575, 3.67981439],\n",
       "       [3.66181411, 3.58869316, 3.48288076],\n",
       "       [2.99417681, 2.98153521, 2.96092316],\n",
       "       [2.86315789, 2.85691188, 2.84677419],\n",
       "       [2.81399371, 2.80927734, 2.8013609 ],\n",
       "       [2.78837209, 2.78378064, 2.77809999],\n",
       "       [2.74661803, 2.74343005, 2.73941418]])"
      ]
     },
     "execution_count": 9,
     "metadata": {},
     "output_type": "execute_result"
    }
   ],
   "source": [
    "j_4861 = H1.getEmissivity(tem=temps, den=dens, label=\"4_2\")\n",
    "j_6563 / j_4861"
   ]
  },
  {
   "cell_type": "code",
   "execution_count": null,
   "id": "98c609c9-b00e-470e-b9f4-97646a43887a",
   "metadata": {},
   "outputs": [],
   "source": []
  },
  {
   "cell_type": "markdown",
   "id": "0f5715d0-da81-4f9a-a222-a349b74320a5",
   "metadata": {},
   "source": [
    "### He++ recombination coefficient versus temperature"
   ]
  },
  {
   "cell_type": "code",
   "execution_count": 10,
   "id": "98cb5b88-60e6-4ad1-894a-7fa6cb92ba8c",
   "metadata": {},
   "outputs": [],
   "source": [
    "He2 = pn.RecAtom(\"He\", 2)"
   ]
  },
  {
   "cell_type": "code",
   "execution_count": 11,
   "id": "a70c5e38-48fb-43bd-aa79-00aeaab40e7c",
   "metadata": {},
   "outputs": [
    {
     "data": {
      "text/plain": [
       "array([[1.26200000e-11, 1.31400000e-11, 1.41200000e-11],\n",
       "       [7.82600000e-12, 7.98400000e-12, 8.27700000e-12],\n",
       "       [2.25362013e-12, 2.25992217e-12, 2.27332489e-12],\n",
       "       [1.53300000e-12, 1.53600000e-12, 1.54100000e-12],\n",
       "       [1.26064500e-12, 1.26164500e-12, 1.26464500e-12],\n",
       "       [1.12800000e-12, 1.12900000e-12, 1.13200000e-12],\n",
       "       [9.03000000e-13, 9.03500000e-13, 9.04800000e-13]])"
      ]
     },
     "execution_count": 11,
     "metadata": {},
     "output_type": "execute_result"
    }
   ],
   "source": [
    "alpha_He_B = He2.getTotRecombination(tem=temps[:, None], den=dens)\n",
    "alpha_He_B"
   ]
  },
  {
   "cell_type": "code",
   "execution_count": 12,
   "id": "b81e7909-4191-41ef-8a95-2cce4d2dbfe5",
   "metadata": {},
   "outputs": [
    {
     "data": {
      "text/plain": [
       "array([[2.43300000e-24, 2.54000000e-24, 2.71500000e-24],\n",
       "       [1.46400000e-24, 1.49100000e-24, 1.53400000e-24],\n",
       "       [3.30350000e-25, 3.30150000e-25, 3.29350000e-25],\n",
       "       [2.02700000e-25, 2.02400000e-25, 2.01700000e-25],\n",
       "       [1.55361538e-25, 1.55061538e-25, 1.54507692e-25],\n",
       "       [1.33900000e-25, 1.33600000e-25, 1.33200000e-25],\n",
       "       [9.84600000e-26, 9.82900000e-26, 9.79700000e-26]])"
      ]
     },
     "execution_count": 12,
     "metadata": {},
     "output_type": "execute_result"
    }
   ],
   "source": [
    "j_6560 = He2.getEmissivity(tem=temps, den=dens, label=\"6_4\")\n",
    "j_6560"
   ]
  },
  {
   "cell_type": "code",
   "execution_count": 13,
   "id": "26fc441a-f1f0-4964-b21a-3e22f69bcbb2",
   "metadata": {},
   "outputs": [
    {
     "data": {
      "text/plain": [
       "6559.876637343726"
      ]
     },
     "execution_count": 13,
     "metadata": {},
     "output_type": "execute_result"
    }
   ],
   "source": [
    "He2.getWave(6, 4)"
   ]
  },
  {
   "cell_type": "markdown",
   "id": "4eeba44e-a06c-4396-87eb-4a853327bad0",
   "metadata": {},
   "source": [
    "Energy of an He II 6560 photon"
   ]
  },
  {
   "cell_type": "code",
   "execution_count": 14,
   "id": "75f4ba8f-aeac-4808-88b4-e11e6458c826",
   "metadata": {},
   "outputs": [
    {
     "data": {
      "text/plain": [
       "3.0281756303778526e-12"
      ]
     },
     "execution_count": 14,
     "metadata": {},
     "output_type": "execute_result"
    }
   ],
   "source": [
    "E_6560 = (constants.c * constants.h / (He2.getWave(6, 4) * u.angstrom)).cgs\n",
    "E_6560.value"
   ]
  },
  {
   "cell_type": "markdown",
   "id": "817b269e-8b8f-4107-b476-bf5fec8d5de4",
   "metadata": {},
   "source": [
    "Fraction of He++ Case B recombinations that produce He II 6560"
   ]
  },
  {
   "cell_type": "code",
   "execution_count": 15,
   "id": "f1961cc2-da36-4a03-afb8-53c4b8394b7d",
   "metadata": {},
   "outputs": [
    {
     "data": {
      "text/plain": [
       "array([[0.06366514, 0.06383477, 0.06349713],\n",
       "       [0.06177606, 0.0616703 , 0.06120281],\n",
       "       [0.04840749, 0.04824327, 0.04784264],\n",
       "       [0.04366471, 0.04351492, 0.04322373],\n",
       "       [0.04069768, 0.0405869 , 0.04034599],\n",
       "       [0.03920039, 0.03907792, 0.03885767],\n",
       "       [0.03600734, 0.03592528, 0.03575687]])"
      ]
     },
     "execution_count": 15,
     "metadata": {},
     "output_type": "execute_result"
    }
   ],
   "source": [
    "f_6560 = j_6560 / E_6560.value / alpha_He_B\n",
    "f_6560"
   ]
  },
  {
   "cell_type": "markdown",
   "id": "99cd640c-d6ca-4242-af2d-3d64ef0b05b5",
   "metadata": {},
   "source": [
    "So this is about 11 times smaller than for H alpha, with a very similar T dependence"
   ]
  },
  {
   "cell_type": "markdown",
   "id": "fd011183-77f2-4281-8dcb-21e2be1da251",
   "metadata": {},
   "source": [
    "#### Repeat for the 4686 line"
   ]
  },
  {
   "cell_type": "code",
   "execution_count": 16,
   "id": "4774f0e9-9b3d-43bc-bd75-6d78204619c2",
   "metadata": {},
   "outputs": [
    {
     "data": {
      "text/plain": [
       "array([[2.25200000e-23, 2.27100000e-23, 2.31800000e-23],\n",
       "       [1.27400000e-23, 1.26800000e-23, 1.26400000e-23],\n",
       "       [2.52200000e-24, 2.50550000e-24, 2.47900000e-24],\n",
       "       [1.51600000e-24, 1.50800000e-24, 1.49500000e-24],\n",
       "       [1.15458462e-24, 1.14979231e-24, 1.14127692e-24],\n",
       "       [9.93200000e-25, 9.89100000e-25, 9.82200000e-25],\n",
       "       [7.29200000e-25, 7.26600000e-25, 7.22400000e-25]])"
      ]
     },
     "execution_count": 16,
     "metadata": {},
     "output_type": "execute_result"
    }
   ],
   "source": [
    "j_4686 = He2.getEmissivity(tem=temps, den=dens, label=\"4_3\")\n",
    "j_4686"
   ]
  },
  {
   "cell_type": "code",
   "execution_count": 17,
   "id": "eed187c0-c624-45c1-82f4-2c0ecfbd7460",
   "metadata": {},
   "outputs": [
    {
     "data": {
      "text/plain": [
       "4685.55411681253"
      ]
     },
     "execution_count": 17,
     "metadata": {},
     "output_type": "execute_result"
    }
   ],
   "source": [
    "He2.getWave(4, 3)"
   ]
  },
  {
   "cell_type": "code",
   "execution_count": 18,
   "id": "a97ff6c9-1068-483f-84b6-dcd3750eb081",
   "metadata": {},
   "outputs": [
    {
     "data": {
      "text/plain": [
       "4.2395110751602196e-12"
      ]
     },
     "execution_count": 18,
     "metadata": {},
     "output_type": "execute_result"
    }
   ],
   "source": [
    "E_4686 = (constants.c * constants.h / (He2.getWave(4, 3) * u.angstrom)).cgs\n",
    "E_4686.value"
   ]
  },
  {
   "cell_type": "code",
   "execution_count": 19,
   "id": "39eb9510-10b0-4b48-abb1-f5e8a223735f",
   "metadata": {},
   "outputs": [
    {
     "data": {
      "text/plain": [
       "array([[0.42091389, 0.40766741, 0.38722462],\n",
       "       [0.3839846 , 0.37461309, 0.36021214],\n",
       "       [0.26396637, 0.2615081 , 0.25721675],\n",
       "       [0.23326054, 0.23157643, 0.22883517],\n",
       "       [0.21603155, 0.21496436, 0.21286616],\n",
       "       [0.20768821, 0.20664766, 0.20466224],\n",
       "       [0.19047726, 0.18969307, 0.1883256 ]])"
      ]
     },
     "execution_count": 19,
     "metadata": {},
     "output_type": "execute_result"
    }
   ],
   "source": [
    "f_4686 = j_4686 / E_4686.value / alpha_He_B\n",
    "f_4686"
   ]
  },
  {
   "cell_type": "markdown",
   "id": "3ce5e8f1-72d9-4387-be60-e8e7a7abfe50",
   "metadata": {},
   "source": [
    "So this is about half the H alpha value at warm temperatures, with a bit steeper T dependence so it is 2/3 at cool temperatures. It also has more of a density dependence than the other fractions, but it is still not significant.\n",
    "\n",
    "This is f = 0.26 @ 6000 K versus f = 0.21 @ 15000 K\n",
    "\n",
    "So Lambda(He II) should be reduced (multiply by factor 0.21/0.26 = 0.79) since we are getting relatively more H alpha per recombination.\n",
    "\n",
    "Now check values that Harman & Seaton are actually using:\n"
   ]
  },
  {
   "cell_type": "code",
   "execution_count": 20,
   "id": "4de154b7-bc11-4a6f-b507-bfbce2a72992",
   "metadata": {},
   "outputs": [
    {
     "data": {
      "text/plain": [
       "(0.17758551104833015, 0.6830211963397314)"
      ]
     },
     "execution_count": 20,
     "metadata": {},
     "output_type": "execute_result"
    }
   ],
   "source": [
    "hs64_f4686 = [29.4/154, 14.8/90.1]\n",
    "np.mean(hs64_f4686), np.mean(hs64_f4686)/0.26"
   ]
  },
  {
   "cell_type": "markdown",
   "id": "f354e820-1f48-486b-9188-c88148f03e8f",
   "metadata": {},
   "source": [
    "So actually they were using even lower values, so I should multiply Lambda by 0.68"
   ]
  },
  {
   "cell_type": "markdown",
   "id": "03bc786c-23c5-4ab7-b773-822701eaf57f",
   "metadata": {},
   "source": [
    "### Estimating Q_3 "
   ]
  },
  {
   "cell_type": "markdown",
   "id": "daa535a0-13a5-41e2-bc0c-e1d32b0d23ca",
   "metadata": {},
   "source": [
    "The H alpha luminosity can be estimated from the extinction-corrected flux (see calculation in org file)"
   ]
  },
  {
   "cell_type": "code",
   "execution_count": 21,
   "id": "8831276b-f9ed-4c94-9784-8b14287a54b3",
   "metadata": {},
   "outputs": [],
   "source": [
    "Flux_ha = 3.8e-12 * u.erg / u.s / u.cm**2"
   ]
  },
  {
   "cell_type": "markdown",
   "id": "3ab00e08-9497-4633-87f4-508c2b13812a",
   "metadata": {},
   "source": [
    "Uncertainty in flux is about 40%"
   ]
  },
  {
   "cell_type": "code",
   "execution_count": 22,
   "id": "223df9f3-3bf8-40da-ab16-0690b668942a",
   "metadata": {},
   "outputs": [
    {
     "data": {
      "text/latex": [
       "$7.2746907 \\times 10^{33} \\; \\mathrm{\\frac{erg}{s}}$"
      ],
      "text/plain": [
       "<Quantity 7.27469071e+33 erg / s>"
      ]
     },
     "execution_count": 22,
     "metadata": {},
     "output_type": "execute_result"
    }
   ],
   "source": [
    "D_kpc = 4\n",
    "L_ha = (Flux_ha * (4 * np.pi * (D_kpc * u.kpc)**2)).cgs\n",
    "L_ha "
   ]
  },
  {
   "cell_type": "markdown",
   "id": "34abcd64-2c95-44dc-9e3b-fd2083f8cdca",
   "metadata": {},
   "source": [
    "Or in solar units"
   ]
  },
  {
   "cell_type": "code",
   "execution_count": 23,
   "id": "6b2b1826-4869-42af-a793-685b3f285bab",
   "metadata": {},
   "outputs": [
    {
     "data": {
      "text/latex": [
       "$1.9003894 \\; \\mathrm{}$"
      ],
      "text/plain": [
       "<Quantity 1.90038942>"
      ]
     },
     "execution_count": 23,
     "metadata": {},
     "output_type": "execute_result"
    }
   ],
   "source": [
    "L_ha / constants.L_sun.cgs"
   ]
  },
  {
   "cell_type": "markdown",
   "id": "e5b6f096-7bdf-4a2a-bcd6-ed67b014c03d",
   "metadata": {},
   "source": [
    "Observed 100 F(4686)/Hb = 71 from Corradi (2015) and that hardly needs correcting for extinction. We can just use the theoretical Ha/Hb ratio = 2.9 at warm temperatures, although it can be up to 4 at cool temperatures. We use 3"
   ]
  },
  {
   "cell_type": "code",
   "execution_count": 24,
   "id": "87f7b81b-e13d-429d-8780-df173b03b825",
   "metadata": {},
   "outputs": [
    {
     "data": {
      "text/latex": [
       "$1.7216768 \\times 10^{33} \\; \\mathrm{\\frac{erg}{s}}$"
      ],
      "text/plain": [
       "<Quantity 1.7216768e+33 erg / s>"
      ]
     },
     "execution_count": 24,
     "metadata": {},
     "output_type": "execute_result"
    }
   ],
   "source": [
    "L_4686 = L_ha * 0.71 / 3\n",
    "L_4686"
   ]
  },
  {
   "cell_type": "code",
   "execution_count": 25,
   "id": "a10a4fcf-82b6-4de5-bd77-bc7cce07503d",
   "metadata": {},
   "outputs": [],
   "source": [
    "Q_3 = alpha_He_B * L_4686 / (j_4686 * u.erg)"
   ]
  },
  {
   "cell_type": "code",
   "execution_count": 26,
   "id": "335e3772-8a63-423f-99f2-62649d389fb3",
   "metadata": {},
   "outputs": [
    {
     "data": {
      "text/plain": [
       "array([[9.64811778e+44, 9.96161743e+44, 1.04875222e+45],\n",
       "       [1.05760146e+45, 1.08405896e+45, 1.12739865e+45],\n",
       "       [1.53846372e+45, 1.55292579e+45, 1.57883450e+45],\n",
       "       [1.74098320e+45, 1.75364428e+45, 1.77465147e+45],\n",
       "       [1.87983039e+45, 1.88916286e+45, 1.90778409e+45],\n",
       "       [1.95534780e+45, 1.96519372e+45, 1.98425793e+45],\n",
       "       [2.13202709e+45, 2.14084089e+45, 2.15638589e+45]])"
      ]
     },
     "execution_count": 26,
     "metadata": {},
     "output_type": "execute_result"
    }
   ],
   "source": [
    "Q_3.value"
   ]
  },
  {
   "cell_type": "markdown",
   "id": "521c8d00-0c62-4a7b-b18d-d9ac4d69e807",
   "metadata": {},
   "source": [
    "So it about 1e45 per second. Now to check against the cloudy models. **Note that it will scale with the distance as $D^2$ so it would be two times smaller for the Jones distance**"
   ]
  },
  {
   "cell_type": "markdown",
   "id": "b2c12361-5227-43a7-a65a-12c5e713e69a",
   "metadata": {},
   "source": [
    "We should use the third row, since that corresponds to the mean temperature of 6000 K"
   ]
  },
  {
   "cell_type": "markdown",
   "id": "e05fde38-9054-4b87-94e1-5173ac715fc8",
   "metadata": {},
   "source": [
    "Repeat for the 6560 line. We get the ratio over H alpha from the 04-01 notebook. Multiplying the scale that we found when we normalized the co-added bgsub image by the sumscale that we calculated when plotting the spatial profile. This means that we are calculating the ratio for the inner lobes+ring close to the axis"
   ]
  },
  {
   "cell_type": "code",
   "execution_count": 27,
   "id": "23cc9678-e8e9-49c4-a882-0b4d5bab93e3",
   "metadata": {},
   "outputs": [
    {
     "data": {
      "text/plain": [
       "0.0325546907527186"
      ]
     },
     "execution_count": 27,
     "metadata": {},
     "output_type": "execute_result"
    }
   ],
   "source": [
    "R_6560_6563 = (3.2187782450199 / 66.59484446105931) * (3.8117776 / 5.6593223)\n",
    "R_6560_6563"
   ]
  },
  {
   "cell_type": "code",
   "execution_count": 28,
   "id": "51feecfd-c955-4b1b-b66c-5d95bd7c3a28",
   "metadata": {},
   "outputs": [
    {
     "data": {
      "text/latex": [
       "$2.3682531 \\times 10^{32} \\; \\mathrm{\\frac{erg}{s}}$"
      ],
      "text/plain": [
       "<Quantity 2.36825306e+32 erg / s>"
      ]
     },
     "execution_count": 28,
     "metadata": {},
     "output_type": "execute_result"
    }
   ],
   "source": [
    "L_6560 = L_ha * R_6560_6563\n",
    "L_6560"
   ]
  },
  {
   "cell_type": "code",
   "execution_count": 29,
   "id": "ed508ed9-0a39-4140-8e07-1c813300617a",
   "metadata": {},
   "outputs": [
    {
     "data": {
      "text/plain": [
       "array([[1.22841569e+45, 1.22515139e+45, 1.23166605e+45],\n",
       "       [1.26598009e+45, 1.26815107e+45, 1.27783772e+45],\n",
       "       [1.61560248e+45, 1.62110181e+45, 1.63467698e+45],\n",
       "       [1.79108631e+45, 1.79725134e+45, 1.80935943e+45],\n",
       "       [1.92166376e+45, 1.92690893e+45, 1.93841442e+45],\n",
       "       [1.99506307e+45, 2.00131565e+45, 2.01265951e+45],\n",
       "       [2.17198102e+45, 2.17694236e+45, 2.18719544e+45]])"
      ]
     },
     "execution_count": 29,
     "metadata": {},
     "output_type": "execute_result"
    }
   ],
   "source": [
    "Q_3r = alpha_He_B * L_6560/ (j_6560 * u.erg)\n",
    "Q_3r.value"
   ]
  },
  {
   "cell_type": "code",
   "execution_count": 30,
   "id": "24604c77-ba9b-453e-ac64-e7e6ef981af0",
   "metadata": {},
   "outputs": [
    {
     "data": {
      "text/plain": [
       "array([[1.27321796, 1.22987195, 1.17441091],\n",
       "       [1.19702944, 1.16981744, 1.13343911],\n",
       "       [1.05014012, 1.04390165, 1.03536943],\n",
       "       [1.02877863, 1.02486654, 1.01955762],\n",
       "       [1.0222538 , 1.01998032, 1.01605545],\n",
       "       [1.02031111, 1.01838085, 1.01431345],\n",
       "       [1.01873988, 1.01686322, 1.01428758]])"
      ]
     },
     "execution_count": 30,
     "metadata": {},
     "output_type": "execute_result"
    }
   ],
   "source": [
    "Q_3r.value / Q_3.value"
   ]
  },
  {
   "cell_type": "markdown",
   "id": "f7ccecc0-40d8-4e24-b446-c59ef3c0a326",
   "metadata": {},
   "source": [
    "So this gives a very similar value if T is warm, up to about 1.2 times larger if T is cool. So that is very gratifying that it comes out the same."
   ]
  },
  {
   "cell_type": "markdown",
   "id": "f02d9c4d-56b7-4787-84ea-efceb086ed0d",
   "metadata": {},
   "source": [
    "## O II recombination lines"
   ]
  },
  {
   "cell_type": "code",
   "execution_count": 32,
   "id": "843bf922-6e67-4869-ad23-447f02c51c00",
   "metadata": {},
   "outputs": [
    {
     "data": {
      "text/plain": [
       "Atom O2 from o_ii_rec_SSB17-B-opt.hdf5"
      ]
     },
     "execution_count": 32,
     "metadata": {},
     "output_type": "execute_result"
    }
   ],
   "source": [
    "o2r = pn.RecAtom(\"O\", 2)\n",
    "o2r"
   ]
  },
  {
   "cell_type": "markdown",
   "id": "5ea0ee81-d997-4544-9f98-7b64b6963137",
   "metadata": {},
   "source": [
    "### V1 multiplet "
   ]
  },
  {
   "cell_type": "code",
   "execution_count": 43,
   "id": "5d75b6fb-3cbc-406b-9767-02fa515f2ddb",
   "metadata": {
    "scrolled": true
   },
   "outputs": [],
   "source": [
    "e4651 = o2r.getEmissivity(tem=temps[:, None], den=dens, label=\"4650.84\") "
   ]
  },
  {
   "cell_type": "code",
   "execution_count": 47,
   "id": "a2dfc321-98a2-459e-8360-57426d13d99b",
   "metadata": {},
   "outputs": [],
   "source": [
    "e4661 = o2r.getEmissivity(tem=temps[:, None], den=dens, label=\"4661.63\") "
   ]
  },
  {
   "cell_type": "code",
   "execution_count": 44,
   "id": "639c6cfd-696c-41f4-88ff-01a41afce212",
   "metadata": {},
   "outputs": [],
   "source": [
    "e4649 = o2r.getEmissivity(tem=temps[:, None], den=dens, label=\"4649.13\") "
   ]
  },
  {
   "cell_type": "markdown",
   "id": "6e4c056f-ac4b-4050-90a6-832dbcc3e517",
   "metadata": {},
   "source": [
    "### Density-sensitive ratios within V1"
   ]
  },
  {
   "cell_type": "code",
   "execution_count": 57,
   "id": "fc230004-c216-4796-a320-4623ba885cb9",
   "metadata": {},
   "outputs": [
    {
     "data": {
      "text/plain": [
       "array([  100,  1000, 10000])"
      ]
     },
     "execution_count": 57,
     "metadata": {},
     "output_type": "execute_result"
    }
   ],
   "source": [
    "dens"
   ]
  },
  {
   "cell_type": "code",
   "execution_count": 45,
   "id": "9070207c-cbc8-4a08-bb22-443c40e4e955",
   "metadata": {},
   "outputs": [
    {
     "data": {
      "text/plain": [
       "array([[1.48948323, 2.34359573, 2.97163187],\n",
       "       [1.17700258, 2.26752072, 3.37561943],\n",
       "       [0.48537653, 1.46151136, 3.54532978],\n",
       "       [0.37503019, 1.25715471, 3.50958904],\n",
       "       [0.33211365, 1.17403129, 3.51315256],\n",
       "       [0.31224641, 1.13457521, 3.52454509],\n",
       "       [0.28286294, 1.07354041, 3.55908353]])"
      ]
     },
     "execution_count": 45,
     "metadata": {},
     "output_type": "execute_result"
    }
   ],
   "source": [
    "e4649/e4651"
   ]
  },
  {
   "cell_type": "code",
   "execution_count": 48,
   "id": "522b8cfc-592e-420f-a8ee-ca437f0c3d39",
   "metadata": {},
   "outputs": [
    {
     "data": {
      "text/plain": [
       "array([[1.62798373, 2.30417077, 2.86005395],\n",
       "       [1.32605531, 2.20278184, 3.15955473],\n",
       "       [0.60141304, 1.47115535, 3.23224424],\n",
       "       [0.47492355, 1.28869048, 3.19053549],\n",
       "       [0.42475978, 1.2144536 , 3.18536599],\n",
       "       [0.40110197, 1.17915355, 3.18763967],\n",
       "       [0.36573696, 1.12430002, 3.20097433]])"
      ]
     },
     "execution_count": 48,
     "metadata": {},
     "output_type": "execute_result"
    }
   ],
   "source": [
    "e4649/e4661"
   ]
  },
  {
   "cell_type": "code",
   "execution_count": null,
   "id": "8907a0a0-7a7d-4fac-a88e-693ad2dc0cf5",
   "metadata": {},
   "outputs": [],
   "source": []
  },
  {
   "cell_type": "code",
   "execution_count": 46,
   "id": "463b083a-1095-4a3b-91de-cbb470550e76",
   "metadata": {},
   "outputs": [
    {
     "data": {
      "text/plain": [
       "2.1166666666666667"
      ]
     },
     "execution_count": 46,
     "metadata": {},
     "output_type": "execute_result"
    }
   ],
   "source": [
    "r4649_4651_obs = 3.81 / 1.80\n",
    "r4649_4651_obs"
   ]
  },
  {
   "cell_type": "code",
   "execution_count": 58,
   "id": "19a7e2a4-10bb-4da8-800e-4be97e45287e",
   "metadata": {},
   "outputs": [
    {
     "data": {
      "text/plain": [
       "2.015873015873016"
      ]
     },
     "execution_count": 58,
     "metadata": {},
     "output_type": "execute_result"
    }
   ],
   "source": [
    "r4649_4661_obs = 3.81 / 1.89\n",
    "r4649_4661_obs"
   ]
  },
  {
   "cell_type": "markdown",
   "id": "a4876608-6438-4dad-8bd2-7a869c1c6646",
   "metadata": {},
   "source": [
    "Error is +/- 25% so 1.5 to 2.5.  "
   ]
  },
  {
   "cell_type": "code",
   "execution_count": 89,
   "id": "3bb6d6fc-db4e-4fc8-8736-36785683b2d7",
   "metadata": {},
   "outputs": [],
   "source": [
    "densfine = np.geomspace(100., 10000., 501)\n",
    "r_1e4K = (\n",
    "    o2r.getEmissivity(tem=10000.0, den=densfine, label=\"4649.13\") \n",
    "    / o2r.getEmissivity(tem=10000.0, den=densfine, label=\"4661.63\")\n",
    ")\n",
    "r_1e3K = (\n",
    "    o2r.getEmissivity(tem=1000.0, den=densfine, label=\"4649.13\") \n",
    "    / o2r.getEmissivity(tem=1000.0, den=densfine, label=\"4661.63\")\n",
    ")"
   ]
  },
  {
   "cell_type": "markdown",
   "id": "1126834c-bac3-4e80-8729-4fea96f1c55a",
   "metadata": {},
   "source": [
    "Look at densities that give ratios within the observed limits. \n",
    "\n",
    "First for T=1e4 K:"
   ]
  },
  {
   "cell_type": "code",
   "execution_count": 90,
   "id": "058a632c-19a8-4862-8e14-f91ff11356be",
   "metadata": {
    "scrolled": true
   },
   "outputs": [
    {
     "data": {
      "text/plain": [
       "(array([1330.45441798, 1342.76496114, 1355.18941235, 1367.7288256 ,\n",
       "        1380.3842646 , 1393.15680295, 1406.04752413, 1419.05752169,\n",
       "        1432.18789927, 1445.43977075, 1458.81426028, 1472.31250243,\n",
       "        1485.93564229, 1499.6848355 , 1513.56124844, 1527.56605824,\n",
       "        1541.70045295, 1555.96563161, 1570.36280433, 1584.89319246,\n",
       "        1599.55802861, 1614.35855683, 1629.29603264, 1644.37172321,\n",
       "        1659.58690744, 1674.94287603, 1690.44093164, 1706.082389  ,\n",
       "        1721.86857499, 1737.80082875, 1753.88050184, 1770.10895832,\n",
       "        1786.48757485, 1803.01774086, 1819.70085861, 1836.53834335,\n",
       "        1853.53162341, 1870.68214037, 1887.9913491 , 1905.46071796,\n",
       "        1923.09172891, 1940.88587759, 1958.84467351, 1976.96964011,\n",
       "        1995.26231497, 2013.72424986, 2032.35701094, 2051.16217883,\n",
       "        2070.14134879, 2089.29613085, 2108.62814993, 2128.13904598,\n",
       "        2147.83047413, 2167.70410482, 2187.76162395, 2208.00473302,\n",
       "        2228.43514927, 2249.05460584, 2269.86485188, 2290.86765277,\n",
       "        2312.06479018, 2333.45806228, 2355.0492839 , 2376.84028662,\n",
       "        2398.83291902, 2421.02904674, 2443.43055269, 2466.03933723,\n",
       "        2488.85731828, 2511.88643151, 2535.1286305 , 2558.58588691,\n",
       "        2582.26019063, 2606.15355   , 2630.2679919 , 2654.60556198,\n",
       "        2679.16832482, 2703.95836411, 2728.97778281, 2754.22870334,\n",
       "        2779.71326776, 2805.43363795, 2831.3919958 , 2857.59054337,\n",
       "        2884.03150313, 2910.71711807, 2937.64965196, 2964.83138952,\n",
       "        2992.26463661, 3019.9517204 , 3047.89498963, 3076.09681474,\n",
       "        3104.55958813, 3133.28572432, 3162.27766017, 3191.5378551 ,\n",
       "        3221.06879128, 3250.87297385, 3280.95293113, 3311.31121483,\n",
       "        3341.95040026, 3372.87308659, 3404.08189701, 3435.579479  ,\n",
       "        3467.36850453, 3499.45167028, 3531.83169792, 3564.51133426,\n",
       "        3597.49335156, 3630.7805477 , 3664.37574648, 3698.2817978 ,\n",
       "        3732.50157796, 3767.03798984, 3801.89396321, 3837.07245492,\n",
       "        3872.57644922, 3908.40895792, 3944.57302075, 3981.07170553,\n",
       "        4017.90810849, 4055.08535448, 4092.6065973 ]),\n",
       " array([2312.06479018, 2333.45806228, 2355.0492839 , 2376.84028662,\n",
       "        2398.83291902, 2421.02904674, 2443.43055269, 2466.03933723,\n",
       "        2488.85731828, 2511.88643151, 2535.1286305 ]))"
      ]
     },
     "execution_count": 90,
     "metadata": {},
     "output_type": "execute_result"
    }
   ],
   "source": [
    "densfine[(r_1e4K > 1.5) & (r_1e4K < 2.5)], densfine[(r_1e4K > 1.97) & (r_1e4K < 2.07)]"
   ]
  },
  {
   "cell_type": "markdown",
   "id": "6a37a078-f7ab-4aee-a612-0749097ceaa5",
   "metadata": {},
   "source": [
    "So that gives n = 2400 - 1000 + 1600\n",
    "\n",
    "Now for T=1e3 K:"
   ]
  },
  {
   "cell_type": "code",
   "execution_count": 91,
   "id": "0a9f1526-7538-47cf-9a67-de2e80c9e575",
   "metadata": {
    "scrolled": true
   },
   "outputs": [
    {
     "data": {
      "text/plain": [
       "(array([ 214.78304741,  216.77041048,  218.77616239,  220.8004733 ,\n",
       "         222.84351493,  224.90546058,  226.98648519,  229.08676528,\n",
       "         231.20647902,  233.34580623,  235.50492839,  237.68402866,\n",
       "         239.8832919 ,  242.10290467,  244.34305527,  246.60393372,\n",
       "         248.88573183,  251.18864315,  253.51286305,  255.85858869,\n",
       "         258.22601906,  260.615355  ,  263.02679919,  265.4605562 ,\n",
       "         267.91683248,  270.39583641,  272.89777828,  275.42287033,\n",
       "         277.97132678,  280.5433638 ,  283.13919958,  285.75905434,\n",
       "         288.40315031,  291.07171181,  293.7649652 ,  296.48313895,\n",
       "         299.22646366,  301.99517204,  304.78949896,  307.60968147,\n",
       "         310.45595881,  313.32857243,  316.22776602,  319.15378551,\n",
       "         322.10687913,  325.08729739,  328.09529311,  331.13112148,\n",
       "         334.19504003,  337.28730866,  340.4081897 ,  343.5579479 ,\n",
       "         346.73685045,  349.94516703,  353.18316979,  356.45113343,\n",
       "         359.74933516,  363.07805477,  366.43757465,  369.82817978,\n",
       "         373.2501578 ,  376.70379898,  380.18939632,  383.70724549,\n",
       "         387.25764492,  390.84089579,  394.45730208,  398.10717055,\n",
       "         401.79081085,  405.50853545,  409.26065973,  413.04750199,\n",
       "         416.86938347,  420.72662838,  424.61956395,  428.5485204 ,\n",
       "         432.51383104,  436.51583224,  440.55486351,  444.63126747,\n",
       "         448.74538993,  452.8975799 ,  457.08818961,  461.31757456,\n",
       "         465.58609352,  469.89410861,  474.24198526,  478.63009232,\n",
       "         483.05880204,  487.5284901 ,  492.03953568,  496.59232145,\n",
       "         501.18723363,  505.824662  ,  510.50499998,  515.22864458,\n",
       "         519.99599653,  524.80746025,  529.66344389,  534.5643594 ,\n",
       "         539.51062252,  544.50265284,  549.54087386,  554.62571296,\n",
       "         559.7576015 ,  564.93697481,  570.16427228,  575.43993734,\n",
       "         580.76441752,  586.13816451,  591.56163418,  597.03528658,\n",
       "         602.55958607,  608.13500128,  613.76200516,  619.44107508,\n",
       "         625.17269278,  630.95734448,  636.79552091,  642.68771732,\n",
       "         648.63443355,  654.63617407,  660.69344801,  666.80676921,\n",
       "         672.97665628,  679.20363262,  685.48822645,  691.83097092,\n",
       "         698.23240408,  704.69306897,  711.21351365,  717.79429127,\n",
       "         724.43596007,  731.13908348,  737.90423013,  744.73197391,\n",
       "         751.62289402,  758.57757503,  765.59660691,  772.6805851 ,\n",
       "         779.83011052,  787.0457897 ,  794.32823472,  801.67806339,\n",
       "         809.09589918,  816.58237136,  824.13811501,  831.7637711 ,\n",
       "         839.45998652,  847.22741414,  855.06671288,  862.97854777,\n",
       "         870.96358996,  879.02251683,  887.15601204,  895.36476555,\n",
       "         903.64947372,  912.01083936,  920.44957175,  928.96638678,\n",
       "         937.56200693,  946.23716137,  954.99258602,  963.82902362,\n",
       "         972.74722378,  981.74794302,  990.83194489, 1000.        ,\n",
       "        1009.25288608, 1018.59138805, 1028.01629813, 1037.52841582,\n",
       "        1047.12854805, 1056.81750921, 1066.59612123, 1076.46521363,\n",
       "        1086.42562362, 1096.47819614, 1106.62378398, 1116.86324778,\n",
       "        1127.19745618, 1137.62728582, 1148.1536215 , 1158.77735616,\n",
       "        1169.49939102, 1180.32063565, 1191.24200803, 1202.26443462,\n",
       "        1213.38885046, 1224.61619927, 1235.94743344, 1247.38351424,\n",
       "        1258.92541179, 1270.57410521, 1282.33058266, 1294.19584145,\n",
       "        1306.17088813, 1318.25673856, 1330.45441798, 1342.76496114,\n",
       "        1355.18941235, 1367.7288256 , 1380.3842646 , 1393.15680295,\n",
       "        1406.04752413, 1419.05752169, 1432.18789927, 1445.43977075,\n",
       "        1458.81426028, 1472.31250243, 1485.93564229, 1499.6848355 ,\n",
       "        1513.56124844, 1527.56605824, 1541.70045295, 1555.96563161,\n",
       "        1570.36280433, 1584.89319246, 1599.55802861, 1614.35855683,\n",
       "        1629.29603264, 1644.37172321, 1659.58690744, 1674.94287603,\n",
       "        1690.44093164, 1706.082389  ]),\n",
       " array([698.23240408, 704.69306897, 711.21351365, 717.79429127,\n",
       "        724.43596007, 731.13908348, 737.90423013, 744.73197391]))"
      ]
     },
     "execution_count": 91,
     "metadata": {},
     "output_type": "execute_result"
    }
   ],
   "source": [
    "densfine[(r_1e3K > 1.5) & (r_1e3K < 2.5)], densfine[(r_1e3K > 2.0) & (r_1e3K < 2.04)]"
   ]
  },
  {
   "cell_type": "markdown",
   "id": "abc05b63-4f3b-4cec-881f-9d31b356879b",
   "metadata": {},
   "source": [
    "So that gives n = 725 - 500 + 1000\n",
    "\n",
    "Note that both of these disagree with Corradi who have 3900 with no errors"
   ]
  },
  {
   "cell_type": "code",
   "execution_count": 112,
   "id": "57f404b0-f94e-4331-980e-a1d7b6a7be27",
   "metadata": {},
   "outputs": [],
   "source": [
    "tempsfine = np.geomspace(100, 25000., 701)\n",
    "r4649_4661_fine = (\n",
    "    o2r.getEmissivity(tem=tempsfine, den=densfine, label=\"4649.13\") \n",
    "    / o2r.getEmissivity(tem=tempsfine, den=densfine, label=\"4661.63\")\n",
    ")"
   ]
  },
  {
   "cell_type": "code",
   "execution_count": 113,
   "id": "25f8d935-20fc-4c25-9f03-ca3577fdf6fe",
   "metadata": {},
   "outputs": [
    {
     "data": {
      "text/plain": [
       "Text(0, 0.5, 'Density, cm$^{-3}$')"
      ]
     },
     "execution_count": 113,
     "metadata": {},
     "output_type": "execute_result"
    },
    {
     "data": {
      "image/png": "[encoded data removed]",
      "text/plain": [
       "<Figure size 640x480 with 1 Axes>"
      ]
     },
     "metadata": {},
     "output_type": "display_data"
    }
   ],
   "source": [
    "fig, ax = plt.subplots()\n",
    "conts = ax.contourf(tempsfine, densfine, r4649_4661_fine.T, levels=[1.5, 2.5], alpha=0.2)\n",
    "ax.contour(tempsfine, densfine, r4649_4661_fine.T, levels=[2.02])\n",
    "ax.set_xscale(\"log\")\n",
    "ax.set_yscale(\"log\")\n",
    "ax.set_xlabel(\"Temperature, K\")\n",
    "ax.set_ylabel(r\"Density, cm$^{-3}$\")\n"
   ]
  },
  {
   "cell_type": "markdown",
   "id": "3cbe585b-4b85-41ba-85a9-7d65f62f234d",
   "metadata": {},
   "source": [
    "### V48 multiplet"
   ]
  },
  {
   "cell_type": "code",
   "execution_count": 114,
   "id": "ab24d7b5-65d5-42a9-ad71-6f31baa13470",
   "metadata": {
    "scrolled": true
   },
   "outputs": [],
   "source": [
    "e4089 = o2r.getEmissivity(tem=temps[:, None], den=dens, label=\"4089.29\") "
   ]
  },
  {
   "cell_type": "markdown",
   "id": "5ef052ec-128e-440c-8384-b33da0a36ba3",
   "metadata": {},
   "source": [
    "### V15 multiplet"
   ]
  },
  {
   "cell_type": "code",
   "execution_count": 115,
   "id": "ba694a08-afba-4d61-ae4a-52aef860ea58",
   "metadata": {},
   "outputs": [],
   "source": [
    "e4591 = o2r.getEmissivity(tem=temps[:, None], den=dens, label=\"4590.97\")\n",
    "e4189 = o2r.getEmissivity(tem=temps[:, None], den=dens, label=\"4189.79\")"
   ]
  },
  {
   "cell_type": "markdown",
   "id": "57eae671-9e19-4825-8e39-00cc477b9289",
   "metadata": {},
   "source": [
    "### T-sensitive ratios"
   ]
  },
  {
   "cell_type": "code",
   "execution_count": 116,
   "id": "0660dc03-8371-4a36-9c6d-e6156964836f",
   "metadata": {},
   "outputs": [
    {
     "data": {
      "text/plain": [
       "array([[  500],\n",
       "       [ 1000],\n",
       "       [ 6000],\n",
       "       [10000],\n",
       "       [13000],\n",
       "       [15000],\n",
       "       [20000]])"
      ]
     },
     "execution_count": 116,
     "metadata": {},
     "output_type": "execute_result"
    }
   ],
   "source": [
    "temps[:, None]"
   ]
  },
  {
   "cell_type": "markdown",
   "id": "00ff8b96-cb69-41a0-948b-ff1d1dcc9a70",
   "metadata": {},
   "source": [
    "First the V1 / V48 ratio"
   ]
  },
  {
   "cell_type": "code",
   "execution_count": 117,
   "id": "9ad6a92a-76db-40c9-b755-a4c04e74928a",
   "metadata": {},
   "outputs": [
    {
     "data": {
      "text/plain": [
       "array([[2.26581999, 2.37019829, 2.33007181],\n",
       "       [2.33191126, 2.52857143, 2.48976608],\n",
       "       [2.75742216, 3.50892679, 3.45617679],\n",
       "       [2.98539023, 4.03595206, 3.97517455],\n",
       "       [3.15468196, 4.38783581, 4.32961799],\n",
       "       [3.27230103, 4.62165238, 4.56497455],\n",
       "       [3.63183578, 5.24555765, 5.17756477]])"
      ]
     },
     "execution_count": 117,
     "metadata": {},
     "output_type": "execute_result"
    }
   ],
   "source": [
    "e4649 / e4089"
   ]
  },
  {
   "cell_type": "markdown",
   "id": "860a161c-0b39-4bda-97b3-4baf892e4a26",
   "metadata": {},
   "source": [
    "So, yes: high values of this ratio imply high temperatures, and high density too"
   ]
  },
  {
   "cell_type": "markdown",
   "id": "75b7fb72-467b-4bc7-8c9b-121b694d5cd6",
   "metadata": {},
   "source": [
    "Next the V1 / V15 ratio"
   ]
  },
  {
   "cell_type": "code",
   "execution_count": 118,
   "id": "5f3db7e9-ceca-4e3e-acc9-fad066ec47c9",
   "metadata": {},
   "outputs": [
    {
     "data": {
      "text/plain": [
       "array([[301.80441616, 228.72343038, 215.84816849],\n",
       "       [ 60.18498128,  34.77808599,  30.16829052],\n",
       "       [  4.39535878,   4.23075378,   4.31530418],\n",
       "       [  3.06009852,   3.43806715,   3.69963899],\n",
       "       [  2.68599306,   3.24970621,   3.5950581 ],\n",
       "       [  2.55127029,   3.20914995,   3.6011883 ],\n",
       "       [  2.44419137,   3.28381031,   3.77328231]])"
      ]
     },
     "execution_count": 118,
     "metadata": {},
     "output_type": "execute_result"
    }
   ],
   "source": [
    "e4649 / e4591"
   ]
  },
  {
   "cell_type": "markdown",
   "id": "1444a09c-1770-456d-8fdc-2b365bb95385",
   "metadata": {},
   "source": [
    "So for this one, high values imply low T"
   ]
  },
  {
   "cell_type": "markdown",
   "id": "283647da-c96b-4405-81f5-4aef138450e5",
   "metadata": {},
   "source": [
    "Therefore, the observed 3-sigma lower limits 4649 / 4089 > 2.9 **and** 4649 / 4591 > 2.9 would tightly constrain T = 10000 K at n=100.  But at high density, n=1000, we have any T > 3000 K being consistent. "
   ]
  },
  {
   "cell_type": "markdown",
   "id": "1ab09849-d4e8-437d-9190-39346ab1ce18",
   "metadata": {},
   "source": [
    "### Combine constraints on n and T"
   ]
  },
  {
   "cell_type": "markdown",
   "id": "c6e2e1ca-f0de-4b68-b99c-4ecb8c441545",
   "metadata": {},
   "source": [
    "Now look on the fine grid at all these ratios"
   ]
  },
  {
   "cell_type": "code",
   "execution_count": 119,
   "id": "adc7914a-440d-427e-bad2-80902df11497",
   "metadata": {},
   "outputs": [],
   "source": [
    "r4649_4089_fine = (\n",
    "    o2r.getEmissivity(tem=tempsfine, den=densfine, label=\"4649.13\") \n",
    "    / o2r.getEmissivity(tem=tempsfine, den=densfine, label=\"4089.29\")\n",
    ")\n",
    "r4649_4591_fine = (\n",
    "    o2r.getEmissivity(tem=tempsfine, den=densfine, label=\"4649.13\") \n",
    "    / o2r.getEmissivity(tem=tempsfine, den=densfine, label=\"4590.97\")\n",
    ")\n"
   ]
  },
  {
   "cell_type": "code",
   "execution_count": 120,
   "id": "c2f6087a-dcf0-4d26-9d9f-51b9b42f396d",
   "metadata": {},
   "outputs": [
    {
     "data": {
      "text/plain": [
       "Text(0.5, 0, 'Density, cm$^{-3}$')"
      ]
     },
     "execution_count": 120,
     "metadata": {},
     "output_type": "execute_result"
    },
    {
     "data": {
      "image/png": "[encoded data removed]",
      "text/plain": [
       "<Figure size 640x480 with 1 Axes>"
      ]
     },
     "metadata": {},
     "output_type": "display_data"
    }
   ],
   "source": [
    "fig, ax = plt.subplots()\n",
    "\n",
    "ax.contourf(densfine, tempsfine, r4649_4661_fine, levels=[1.5, 2.5], colors=\"k\", alpha=0.1)\n",
    "#ax.contour(densfine, tempsfine, r4649_4661_fine, levels=[2.02])\n",
    "\n",
    "ax.contourf(densfine, tempsfine, r4649_4089_fine, levels=[2.9, 1000], colors=\"m\", alpha=0.1)\n",
    "#ax.contourf(tempsfine, densfine, r4649_4591_fine.T, levels=[1.5 * 2.9, 1000], colors=\"b\", alpha=0.1)\n",
    "\n",
    "ax.set_xscale(\"log\")\n",
    "ax.set_yscale(\"log\")\n",
    "ax.set_ylabel(\"Temperature, K\")\n",
    "ax.set_xlabel(r\"Density, cm$^{-3}$\")\n"
   ]
  },
  {
   "cell_type": "markdown",
   "id": "ef6678f5-a308-4098-8783-27e13bde1b87",
   "metadata": {},
   "source": [
    "I have dropped the 4649/4591 ratio since the current lower limit is not informative\n",
    "\n",
    "The combined confidence area implies that T > 2500 K and n = 600 to 2000 pcc\n",
    "\n",
    "But it would be better to do the forward calculation of the line ratios from the cloudy model\n",
    "\n",
    "If the T were as low as 1000 K, then 4089 should be as bright as the V1 components 4639, 4651, and 4661 (with 100 Flam/Hb = 1.5 approx).  That should make it easy to measure, but this part of the spectrum is not shown in the paper, so we do not know if there is some extra noise or other interference there. "
   ]
  },
  {
   "cell_type": "markdown",
   "id": "bb75980c-6da9-4102-8f35-e630254cd08f",
   "metadata": {},
   "source": [
    "# Sources of atomic data"
   ]
  },
  {
   "cell_type": "code",
   "execution_count": null,
   "id": "8b28ec64-b589-4618-b46b-7817d620aa53",
   "metadata": {},
   "outputs": [],
   "source": [
    "H1.printSources()"
   ]
  },
  {
   "cell_type": "code",
   "execution_count": 33,
   "id": "69f78fc7-e170-431c-a9c8-993b7ccb1919",
   "metadata": {},
   "outputs": [
    {
     "name": "stdout",
     "output_type": "stream",
     "text": [
      "Storey, P. J., Sochi, T., & Bastin, R., 2017, arXiv170309982S\n"
     ]
    }
   ],
   "source": [
    "o2r.printSources()"
   ]
  },
  {
   "cell_type": "code",
   "execution_count": 34,
   "id": "71ca388a-271e-431f-8053-955dc8cf069f",
   "metadata": {},
   "outputs": [
    {
     "name": "stdout",
     "output_type": "stream",
     "text": [
      "Storey and Hummer 1995\n",
      "Ref.  of NIST 2014 (try this: http://physics.nist.gov/cgi-bin/ASBib1/get_ASBib_ref.cgi?db=el&db_id=&comment_code=&element=He&spectr_charge=2&\n",
      "Ref. 3620c107 of NIST 2014 (try this: http://physics.nist.gov/cgi-bin/ASBib1/get_ASBib_ref.cgi?db=el&db_id=3620c107&comment_code=&element=He&spectr_charge=2&\n"
     ]
    }
   ],
   "source": [
    "He2.printSources()"
   ]
  },
  {
   "cell_type": "code",
   "execution_count": 35,
   "id": "f89261bb-088e-4608-a4e1-e320d9044dc7",
   "metadata": {},
   "outputs": [
    {
     "data": {
      "text/plain": [
       "['* 3he_ii_atom_cloudy.dat',\n",
       " '* 3he_ii_coll_cloudy.dat',\n",
       " '* he_ii_rec_SH95.hdf5',\n",
       " '* he_ii_trc_SH95-caseB.dat',\n",
       " 'he_ii_rec_P91.func',\n",
       " 'he_ii_rec_SH95-caseA.fits',\n",
       " 'he_ii_rec_SH95-caseA.hdf5',\n",
       " 'he_ii_rec_SH95.fits',\n",
       " 'he_ii_trc_SH95-caseA.dat']"
      ]
     },
     "execution_count": 35,
     "metadata": {},
     "output_type": "execute_result"
    }
   ],
   "source": [
    "pn.atomicData.getAllAvailableFiles(\"He2\")"
   ]
  },
  {
   "cell_type": "code",
   "execution_count": 36,
   "id": "4cca01ec-f84c-4c9c-ae10-6dc39ba711f6",
   "metadata": {},
   "outputs": [
    {
     "data": {
      "text/plain": [
       "['* o_ii_atom_Z82-WFD96.dat',\n",
       " '* o_ii_coll_Kal09.dat',\n",
       " '* o_ii_rec_SSB17-B-opt.hdf5',\n",
       " 'o_ii_atom_CQL07-FFT04.dat',\n",
       " 'o_ii_atom_FFT04-WFD96.dat',\n",
       " 'o_ii_atom_FFT04.dat',\n",
       " 'o_ii_atom_GFF84.dat',\n",
       " 'o_ii_atom_HGZJYL14-FFT04.dat',\n",
       " 'o_ii_atom_HLZSZ18-FFT04.dat',\n",
       " 'o_ii_atom_WFD96.dat',\n",
       " 'o_ii_atom_Z87.dat',\n",
       " 'o_ii_coll_KSFK09.dat',\n",
       " 'o_ii_coll_P06-T07.dat',\n",
       " 'o_ii_coll_P76-McLB93-v1.dat',\n",
       " 'o_ii_coll_P76-McLB93-v2.dat',\n",
       " 'o_ii_coll_T07.dat',\n",
       " 'o_ii_rec_P91.func',\n",
       " 'o_ii_rec_S94.func',\n",
       " 'o_ii_rec_SSB17-A-IR.hdf5',\n",
       " 'o_ii_rec_SSB17-A-opt.hdf5',\n",
       " 'o_ii_rec_SSB17-B-IR.hdf5',\n",
       " 'o_ii_rec_SSB17-C-IR.hdf5',\n",
       " 'o_ii_rec_SSB17-C-opt.hdf5']"
      ]
     },
     "execution_count": 36,
     "metadata": {},
     "output_type": "execute_result"
    }
   ],
   "source": [
    "pn.atomicData.getAllAvailableFiles(\"O2\")"
   ]
  },
  {
   "cell_type": "code",
   "execution_count": null,
   "id": "cf2404a5-1bf2-4136-9a63-0415204f582e",
   "metadata": {},
   "outputs": [],
   "source": [
    "He2.getTotRecombination??"
   ]
  },
  {
   "cell_type": "code",
   "execution_count": null,
   "id": "3513a304-b18b-4304-bbb7-ad4278e6c2e2",
   "metadata": {},
   "outputs": [],
   "source": [
    "pn.atomicData.getDataFile()"
   ]
  },
  {
   "cell_type": "code",
   "execution_count": null,
   "id": "4f9bef9b-b88b-4107-8a4f-a15a1b6ab817",
   "metadata": {},
   "outputs": [],
   "source": []
  }
 ],
 "metadata": {
  "kernelspec": {
   "display_name": "Python 3 (ipykernel)",
   "language": "python",
   "name": "python3"
  },
  "language_info": {
   "codemirror_mode": {
    "name": "ipython",
    "version": 3
   },
   "file_extension": ".py",
   "mimetype": "text/x-python",
   "name": "python",
   "nbconvert_exporter": "python",
   "pygments_lexer": "ipython3",
   "version": "3.11.11"
  }
 },
 "nbformat": 4,
 "nbformat_minor": 5
}
