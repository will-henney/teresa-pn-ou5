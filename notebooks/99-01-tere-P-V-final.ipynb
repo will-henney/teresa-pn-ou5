{
 "cells": [
  {
   "cell_type": "code",
   "execution_count": 1,
   "id": "d1724cba",
   "metadata": {},
   "outputs": [],
   "source": [
    "from astropy.io import fits\n",
    "from astropy.wcs import WCS\n",
    "import astropy.coordinates as coord\n",
    "import astropy.units as u\n",
    "import astropy.constants as constants\n",
    "from astropy.time import Time\n",
    "import matplotlib.pyplot as plt\n",
    "from matplotlib.colors import LogNorm\n",
    "from pathlib import Path"
   ]
  },
  {
   "cell_type": "code",
   "execution_count": 2,
   "id": "15c8bcc7",
   "metadata": {},
   "outputs": [],
   "source": [
    "#data_path = \"/Users/tere/NP-papers/Ou5_paper/FITS\"\n",
    "data_path = Path.cwd().parent / \"data\" / \"tere-test\""
   ]
  },
  {
   "cell_type": "code",
   "execution_count": 3,
   "id": "e49038e5",
   "metadata": {},
   "outputs": [
    {
     "name": "stdout",
     "output_type": "stream",
     "text": [
      "Filename: /Users/will/Dropbox/teresa-pn-ou5/data/tere-test/N10036_bcrx_ha.fits\n",
      "No.    Name      Ver    Type      Cards   Dimensions   Format\n",
      "  0  PRIMARY       1 PrimaryHDU     143   (42, 121)   float32   \n"
     ]
    }
   ],
   "source": [
    "fits_file = \"N10036_bcrx_ha.fits\"\n",
    "hdulist = fits.open(f\"{data_path}/{fits_file}\")\n",
    "hdulist.info() "
   ]
  },
  {
   "cell_type": "code",
   "execution_count": 4,
   "id": "da5d9a26",
   "metadata": {},
   "outputs": [],
   "source": [
    "hdr = hdulist[0].header"
   ]
  },
  {
   "cell_type": "code",
   "execution_count": 5,
   "id": "686b2383",
   "metadata": {},
   "outputs": [
    {
     "name": "stdout",
     "output_type": "stream",
     "text": [
      "Time of observation = 2017-08-29 08:34:20.000025\n",
      "Location (lon, lat) = -115.48694444444442 31.029166666666665\n"
     ]
    }
   ],
   "source": [
    "location = coord.EarthLocation.of_site(hdr[\"OBSERVAT\"])\n",
    "obstime = Time(hdr[\"JD\"], format=\"jd\")\n",
    "print(\"Time of observation =\", obstime.datetime)\n",
    "print(\"Location (lon, lat) =\", location.lon.deg, location.lat.deg)"
   ]
  },
  {
   "cell_type": "code",
   "execution_count": 6,
   "id": "c5bce70b",
   "metadata": {},
   "outputs": [
    {
     "name": "stdout",
     "output_type": "stream",
     "text": [
      "Cygnus\n"
     ]
    }
   ],
   "source": [
    "c = coord.SkyCoord(\n",
    "    ra=hdr[\"RA\"], \n",
    "    dec=hdr[\"DEC\"], \n",
    "    obstime=obstime, \n",
    "    location=location,\n",
    "    unit=(u.hourangle, u.deg)\n",
    "    )\n",
    "print(c.get_constellation())"
   ]
  },
  {
   "cell_type": "code",
   "execution_count": 7,
   "id": "1ed94240",
   "metadata": {},
   "outputs": [
    {
     "data": {
      "text/latex": [
       "$1.7923445 \\; \\mathrm{\\frac{km}{s}}$"
      ],
      "text/plain": [
       "<Quantity 1.79234448 km / s>"
      ]
     },
     "execution_count": 7,
     "metadata": {},
     "output_type": "execute_result"
    }
   ],
   "source": [
    "c.radial_velocity_correction(\"heliocentric\").to(u.km/u.s)"
   ]
  },
  {
   "cell_type": "code",
   "execution_count": 8,
   "id": "a4165908",
   "metadata": {},
   "outputs": [],
   "source": [
    "def helio_corr_from_header(hdr):\n",
    "    \"\"\"Heliocentric correction in km/s\"\"\"\n",
    "    location = coord.EarthLocation.of_site(hdr[\"OBSERVAT\"])\n",
    "    obstime = Time(hdr[\"JD\"], format=\"jd\")\n",
    "    c = coord.SkyCoord(ra=hdr[\"RA\"], dec=hdr[\"DEC\"], \n",
    "                       obstime=obstime, location=location,\n",
    "                       unit=(u.hourangle, u.deg))\n",
    "    return c.radial_velocity_correction(\"heliocentric\").to(u.km/u.s).value"
   ]
  },
  {
   "cell_type": "code",
   "execution_count": 9,
   "id": "5bb93dc1",
   "metadata": {},
   "outputs": [
    {
     "name": "stdout",
     "output_type": "stream",
     "text": [
      "Filename: /Users/will/Dropbox/teresa-pn-ou5/data/tere-test/N10036_bcrx_ha.fits\n",
      "No.    Name      Ver    Type      Cards   Dimensions   Format\n",
      "  0  PRIMARY       1 PrimaryHDU     143   (42, 121)   float32   \n"
     ]
    },
    {
     "data": {
      "text/plain": [
       "1.792344479725334"
      ]
     },
     "execution_count": 9,
     "metadata": {},
     "output_type": "execute_result"
    }
   ],
   "source": [
    "#Test the function with the second file:\n",
    "fits_file2 = \"N10036_bcrx_ha.fits\"\n",
    "hdulist2 = fits.open(f\"{data_path}/{fits_file2}\")\n",
    "hdr2 = hdulist2[0].header\n",
    "hdulist2.info() \n",
    "data2 = hdulist2[0].data\n",
    "helio_corr_from_header(hdr2)"
   ]
  },
  {
   "cell_type": "code",
   "execution_count": 10,
   "id": "7943ff1c",
   "metadata": {},
   "outputs": [
    {
     "name": "stderr",
     "output_type": "stream",
     "text": [
      "WARNING: FITSFixedWarning: 'datfix' made the change 'Set MJD-OBS to 57994.000000 from DATE-OBS'. [astropy.wcs.wcs]\n"
     ]
    },
    {
     "data": {
      "image/png": "[encoded data removed]",
      "text/plain": [
       "<Figure size 360x720 with 1 Axes>"
      ]
     },
     "metadata": {
      "needs_background": "light"
     },
     "output_type": "display_data"
    }
   ],
   "source": [
    "fig, ax = plt.subplots(\n",
    "    figsize=(5, 10),\n",
    "    subplot_kw=dict(projection=WCS(hdr2))\n",
    "    )\n",
    "ax.imshow(data2);"
   ]
  },
  {
   "cell_type": "code",
   "execution_count": 11,
   "id": "72a041a5",
   "metadata": {},
   "outputs": [
    {
     "name": "stderr",
     "output_type": "stream",
     "text": [
      "WARNING: FITSFixedWarning: 'datfix' made the change 'Set MJD-OBS to 57994.000000 from DATE-OBS'. [astropy.wcs.wcs]\n"
     ]
    },
    {
     "data": {
      "text/plain": [
       "WCS Keywords\n",
       "\n",
       "Number of WCS axes: 2\n",
       "CTYPE : 'LINEAR'  'LINEAR'  \n",
       "CRVAL : 6542.41650390626  1.0  \n",
       "CRPIX : -333.0  -433.0  \n",
       "CD1_1 CD1_2  : 0.0546629056334498  0.0  \n",
       "CD2_1 CD2_2  : 0.0  1.0  \n",
       "NAXIS : 42  121"
      ]
     },
     "execution_count": 11,
     "metadata": {},
     "output_type": "execute_result"
    }
   ],
   "source": [
    "w0 = WCS(hdr2)\n",
    "w0"
   ]
  },
  {
   "cell_type": "code",
   "execution_count": 12,
   "id": "5f4dede2",
   "metadata": {},
   "outputs": [
    {
     "data": {
      "text/plain": [
       "WCS Keywords\n",
       "\n",
       "Number of WCS axes: 2\n",
       "CTYPE : 'LINEAR'  'LINEAR'  \n",
       "CRVAL : 6542.41650390626  0.0  \n",
       "CRPIX : -333.0  1.0  \n",
       "CD1_1 CD1_2  : 0.0546629056334498  0.0  \n",
       "CD2_1 CD2_2  : 0.0  0.35369  \n",
       "NAXIS : 42  121"
      ]
     },
     "execution_count": 12,
     "metadata": {},
     "output_type": "execute_result"
    }
   ],
   "source": [
    "w = w0.deepcopy()\n",
    "w.wcs.crpix[1] = 1\n",
    "w.wcs.crval[1] = 0.0\n",
    "w.wcs.cd[1, 1] = hdr2[\"SCALEPIX\"] * hdr2[\"CCDYBIN\"]\n",
    "w"
   ]
  },
  {
   "cell_type": "code",
   "execution_count": 13,
   "id": "9b846283",
   "metadata": {},
   "outputs": [
    {
     "data": {
      "text/plain": [
       "WCS Keywords\n",
       "\n",
       "Number of WCS axes: 2\n",
       "CTYPE : 'LINEAR'  'LINEAR'  \n",
       "CRVAL : -930.2481877511791  0.0  \n",
       "CRPIX : -333.0  1.0  \n",
       "CD1_1 CD1_2  : 2.4970251875373637  0.0  \n",
       "CD2_1 CD2_2  : 0.0  0.35369  \n",
       "NAXIS : 42  121"
      ]
     },
     "execution_count": 13,
     "metadata": {},
     "output_type": "execute_result"
    }
   ],
   "source": [
    "wav0 = 6562.82\n",
    "light_speed = constants.c.to(u.km/u.s).value\n",
    "w.wcs.crval[0] = (w0.wcs.crval[0] - wav0) * light_speed / wav0\n",
    "w.wcs.crval[0] += helio_corr_from_header(hdr2)\n",
    "w.wcs.cd[0, 0] = w0.wcs.cd[0, 0] * light_speed / wav0\n",
    "w.wcs.cname = \"Velocity\", \"Offset [arcsec]\"\n",
    "w.wcs.cunit = \"km/s\", \"\"\n",
    "w"
   ]
  },
  {
   "cell_type": "code",
   "execution_count": 14,
   "id": "b00d3717",
   "metadata": {},
   "outputs": [
    {
     "data": {
      "image/png": "[encoded data removed]",
      "text/plain": [
       "<Figure size 216x720 with 1 Axes>"
      ]
     },
     "metadata": {
      "needs_background": "light"
     },
     "output_type": "display_data"
    }
   ],
   "source": [
    "fig, ax = plt.subplots(\n",
    "    figsize=(3, 10),\n",
    "    subplot_kw=dict(projection=w)\n",
    "    )\n",
    "ax.imshow(data2,cmap='gist_yarg', norm=LogNorm(vmin=2, vmax=100));\n",
    "plt.title('')\n",
    "plt.xticks((0,100,0))\n",
    "plt.xlim(-7,35)\n",
    "plt.show\n",
    "fig.savefig(\"N10036.pdf\")"
   ]
  },
  {
   "cell_type": "code",
   "execution_count": 15,
   "id": "5c456430",
   "metadata": {},
   "outputs": [],
   "source": [
    "new_hdr = hdr2.copy()\n",
    "new_hdr.update(w.to_header())"
   ]
  },
  {
   "cell_type": "code",
   "execution_count": 16,
   "id": "3977ca60",
   "metadata": {},
   "outputs": [],
   "source": [
    "fits.PrimaryHDU(\n",
    "    header=new_hdr, data=data2,\n",
    ").writeto(\n",
    "    fits_file2.replace(\".fits\", \"_wcs.fits\"),\n",
    "    overwrite=True,\n",
    "    )"
   ]
  },
  {
   "cell_type": "code",
   "execution_count": 22,
   "id": "aee20d3c-a807-4172-9869-e48830d866d6",
   "metadata": {},
   "outputs": [
    {
     "data": {
      "text/plain": [
       "<SkyCoord (Galactic): (l, b) in deg\n",
       "    (87.06417334, -3.52013383)>"
      ]
     },
     "execution_count": 22,
     "metadata": {},
     "output_type": "execute_result"
    }
   ],
   "source": [
    "c.galactic"
   ]
  },
  {
   "cell_type": "code",
   "execution_count": 18,
   "id": "64eab98b-09c8-4c85-bbda-627275f24f6f",
   "metadata": {},
   "outputs": [
    {
     "name": "stdout",
     "output_type": "stream",
     "text": [
      "<SkyCoord (ICRS): (ra, dec) in deg\n",
      "    (318.76791667, 43.77777778)>\n"
     ]
    }
   ],
   "source": [
    "print(c)"
   ]
  },
  {
   "cell_type": "code",
   "execution_count": 23,
   "id": "1ba7a37c-06d4-4417-b076-60f19bfb8410",
   "metadata": {},
   "outputs": [],
   "source": [
    "c1 = coord.SkyCoord.from_name(\"PN Ou 5\")"
   ]
  },
  {
   "cell_type": "code",
   "execution_count": 26,
   "id": "a961c236-0d68-4731-a793-1889ac90acb8",
   "metadata": {},
   "outputs": [
    {
     "data": {
      "text/plain": [
       "9.466685469645567"
      ]
     },
     "execution_count": 26,
     "metadata": {},
     "output_type": "execute_result"
    }
   ],
   "source": [
    "c.separation(c1).arcmin"
   ]
  },
  {
   "cell_type": "code",
   "execution_count": null,
   "id": "90b6ac40-e18e-48ba-96b6-f1d4fd7955b9",
   "metadata": {},
   "outputs": [],
   "source": []
  }
 ],
 "metadata": {
  "kernelspec": {
   "display_name": "Python 3 (ipykernel)",
   "language": "python",
   "name": "python3"
  },
  "language_info": {
   "codemirror_mode": {
    "name": "ipython",
    "version": 3
   },
   "file_extension": ".py",
   "mimetype": "text/x-python",
   "name": "python",
   "nbconvert_exporter": "python",
   "pygments_lexer": "ipython3",
   "version": "3.9.7"
  }
 },
 "nbformat": 4,
 "nbformat_minor": 5
}
